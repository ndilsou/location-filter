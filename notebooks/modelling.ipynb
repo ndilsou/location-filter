{
 "cells": [
  {
   "cell_type": "code",
   "execution_count": 43,
   "metadata": {},
   "outputs": [
    {
     "name": "stdout",
     "output_type": "stream",
     "text": [
      "The autoreload extension is already loaded. To reload it, use:\n",
      "  %reload_ext autoreload\n"
     ]
    }
   ],
   "source": [
    "%load_ext autoreload\n",
    "%autoreload 2\n",
    "import sys\n",
    "sys.path.append(\"../\") \n",
    "import models.utility as utils"
   ]
  },
  {
   "cell_type": "code",
   "execution_count": 309,
   "metadata": {},
   "outputs": [
    {
     "ename": "ModuleNotFoundError",
     "evalue": "No module named 'mpl_toolkits.basemap'",
     "output_type": "error",
     "traceback": [
      "\u001b[0;31m---------------------------------------------------------------------------\u001b[0m",
      "\u001b[0;31mModuleNotFoundError\u001b[0m                       Traceback (most recent call last)",
      "\u001b[0;32m<ipython-input-309-06db3c761a86>\u001b[0m in \u001b[0;36m<module>\u001b[0;34m()\u001b[0m\n\u001b[1;32m      6\u001b[0m \u001b[0;32mimport\u001b[0m \u001b[0msklearn\u001b[0m\u001b[0;34m.\u001b[0m\u001b[0mmodel_selection\u001b[0m \u001b[0;32mas\u001b[0m \u001b[0mmodel_selection\u001b[0m\u001b[0;34m\u001b[0m\u001b[0m\n\u001b[1;32m      7\u001b[0m \u001b[0;32mimport\u001b[0m \u001b[0msklearn\u001b[0m\u001b[0;34m.\u001b[0m\u001b[0mmetrics\u001b[0m \u001b[0;32mas\u001b[0m \u001b[0mmetrics\u001b[0m\u001b[0;34m\u001b[0m\u001b[0m\n\u001b[0;32m----> 8\u001b[0;31m \u001b[0;32mimport\u001b[0m \u001b[0mmpl_toolkits\u001b[0m\u001b[0;34m.\u001b[0m\u001b[0mbasemap\u001b[0m\u001b[0;34m\u001b[0m\u001b[0m\n\u001b[0m\u001b[1;32m      9\u001b[0m \u001b[0;32mfrom\u001b[0m \u001b[0msklearn\u001b[0m\u001b[0;34m.\u001b[0m\u001b[0mmetrics\u001b[0m \u001b[0;32mimport\u001b[0m \u001b[0mbrier_score_loss\u001b[0m\u001b[0;34m\u001b[0m\u001b[0m\n\u001b[1;32m     10\u001b[0m \u001b[0;32mfrom\u001b[0m \u001b[0msklearn\u001b[0m\u001b[0;34m.\u001b[0m\u001b[0mcalibration\u001b[0m \u001b[0;32mimport\u001b[0m \u001b[0mCalibratedClassifierCV\u001b[0m\u001b[0;34m\u001b[0m\u001b[0m\n",
      "\u001b[0;31mModuleNotFoundError\u001b[0m: No module named 'mpl_toolkits.basemap'"
     ]
    }
   ],
   "source": [
    "import pandas as pd\n",
    "from sklearn import preprocessing as preprocessing\n",
    "import sklearn.linear_model as linear_model\n",
    "import sklearn.neighbors as neighbors\n",
    "import sklearn.svm as svm\n",
    "import sklearn.model_selection as model_selection\n",
    "import sklearn.metrics as metrics\n",
    "from sklearn.metrics import brier_score_loss\n",
    "from sklearn.calibration import CalibratedClassifierCV"
   ]
  },
  {
   "cell_type": "code",
   "execution_count": 178,
   "metadata": {},
   "outputs": [],
   "source": [
    "def get_dummies(frame, col):\n",
    "    one_hot_encoded = pd.get_dummies(frame[col])\n",
    "    one_hot_encoded = pd.concat((frame, one_hot_encoded), axis=1)\n",
    "    return one_hot_encoded.drop(col, axis=1)"
   ]
  },
  {
   "cell_type": "code",
   "execution_count": 2,
   "metadata": {},
   "outputs": [
    {
     "name": "stdout",
     "output_type": "stream",
     "text": [
      "articles count: 9959\n",
      "annotations count: 3221\n",
      "locations count: 3562\n"
     ]
    }
   ],
   "source": [
    "raw_articles, raw_annotations, raw_locations = utils.load_dataset()"
   ]
  },
  {
   "cell_type": "code",
   "execution_count": 76,
   "metadata": {},
   "outputs": [
    {
     "data": {
      "text/plain": [
       "['13b906e9b805ed29d8dc62e7d20d0705']"
      ]
     },
     "execution_count": 76,
     "metadata": {},
     "output_type": "execute_result"
    }
   ],
   "source": [
    "raw_articles[0][\"annotation_uri\"]"
   ]
  },
  {
   "cell_type": "code",
   "execution_count": 3,
   "metadata": {},
   "outputs": [],
   "source": [
    "uri_index = utils.get_annotation_uri_index(raw_annotations, raw_locations)\n",
    "location_index = utils.get_location_index(raw_locations)\n",
    "article_to_loc_index = utils.get_article_to_loc_index(raw_articles, raw_locations, uri_index)"
   ]
  },
  {
   "cell_type": "code",
   "execution_count": 75,
   "metadata": {},
   "outputs": [
    {
     "data": {
      "text/plain": [
       "[{'iid': '7fa1c86a-591d-46ea-a1f7-fec79e667b22',\n",
       "  'council_annotation_uri': '0280893123d7785441eff9fa1641170b',\n",
       "  'county': 'Derbyshire',\n",
       "  'local_government_area': 'City of Derby',\n",
       "  'nuts_region': 'East Midlands',\n",
       "  'lng': -1.44377,\n",
       "  'lat': 52.91562,\n",
       "  'country': 'England',\n",
       "  'name': 'Pride Park',\n",
       "  'lastModifiedTime': 1516791066877,\n",
       "  'origin_type': 'Other Settlement',\n",
       "  'annotation_uri': ['be48009bf7ec91d46983f1044db47f76'],\n",
       "  'id': 'ec79cba6-d6a6-485d-ab33-65ac0412f54b',\n",
       "  'type': 'locations',\n",
       "  'postcode_sector': 'DE24 8'}]"
      ]
     },
     "execution_count": 75,
     "metadata": {},
     "output_type": "execute_result"
    }
   ],
   "source": [
    "\n",
    "uri_index['be48009bf7ec91d46983f1044db47f76']['locations']"
   ]
  },
  {
   "cell_type": "code",
   "execution_count": 173,
   "metadata": {},
   "outputs": [],
   "source": [
    "locations = pd.DataFrame(raw_locations)[[\"id\", \"lat\", \"lng\", \"nuts_region\"]]\n",
    "locations.set_index(\"id\", inplace=True)"
   ]
  },
  {
   "cell_type": "code",
   "execution_count": 174,
   "metadata": {},
   "outputs": [
    {
     "data": {
      "text/html": [
       "<div>\n",
       "<style scoped>\n",
       "    .dataframe tbody tr th:only-of-type {\n",
       "        vertical-align: middle;\n",
       "    }\n",
       "\n",
       "    .dataframe tbody tr th {\n",
       "        vertical-align: top;\n",
       "    }\n",
       "\n",
       "    .dataframe thead th {\n",
       "        text-align: right;\n",
       "    }\n",
       "</style>\n",
       "<table border=\"1\" class=\"dataframe\">\n",
       "  <thead>\n",
       "    <tr style=\"text-align: right;\">\n",
       "      <th></th>\n",
       "      <th>lat</th>\n",
       "      <th>lng</th>\n",
       "      <th>nuts_region</th>\n",
       "    </tr>\n",
       "    <tr>\n",
       "      <th>id</th>\n",
       "      <th></th>\n",
       "      <th></th>\n",
       "      <th></th>\n",
       "    </tr>\n",
       "  </thead>\n",
       "  <tbody>\n",
       "    <tr>\n",
       "      <th>ec79cba6-d6a6-485d-ab33-65ac0412f54b</th>\n",
       "      <td>52.91562</td>\n",
       "      <td>-1.44377</td>\n",
       "      <td>East Midlands</td>\n",
       "    </tr>\n",
       "    <tr>\n",
       "      <th>64be7f94-cfcc-49c9-88f0-0dcace732a0f</th>\n",
       "      <td>51.44012</td>\n",
       "      <td>-2.61655</td>\n",
       "      <td>South West</td>\n",
       "    </tr>\n",
       "    <tr>\n",
       "      <th>5ceeb5cc-e1e4-4011-a3d8-3f874b793915</th>\n",
       "      <td>53.72422</td>\n",
       "      <td>-2.48623</td>\n",
       "      <td>North West</td>\n",
       "    </tr>\n",
       "    <tr>\n",
       "      <th>eeb33821-a955-403b-b732-5f5c169370eb</th>\n",
       "      <td>52.46249</td>\n",
       "      <td>-1.85391</td>\n",
       "      <td>West Midlands</td>\n",
       "    </tr>\n",
       "    <tr>\n",
       "      <th>19ee6c1b-75bb-4c85-bd39-22367e9fb9d3</th>\n",
       "      <td>53.65412</td>\n",
       "      <td>-1.75504</td>\n",
       "      <td>Yorkshire and the Humber</td>\n",
       "    </tr>\n",
       "  </tbody>\n",
       "</table>\n",
       "</div>"
      ],
      "text/plain": [
       "                                           lat      lng  \\\n",
       "id                                                        \n",
       "ec79cba6-d6a6-485d-ab33-65ac0412f54b  52.91562 -1.44377   \n",
       "64be7f94-cfcc-49c9-88f0-0dcace732a0f  51.44012 -2.61655   \n",
       "5ceeb5cc-e1e4-4011-a3d8-3f874b793915  53.72422 -2.48623   \n",
       "eeb33821-a955-403b-b732-5f5c169370eb  52.46249 -1.85391   \n",
       "19ee6c1b-75bb-4c85-bd39-22367e9fb9d3  53.65412 -1.75504   \n",
       "\n",
       "                                                   nuts_region  \n",
       "id                                                              \n",
       "ec79cba6-d6a6-485d-ab33-65ac0412f54b             East Midlands  \n",
       "64be7f94-cfcc-49c9-88f0-0dcace732a0f                South West  \n",
       "5ceeb5cc-e1e4-4011-a3d8-3f874b793915                North West  \n",
       "eeb33821-a955-403b-b732-5f5c169370eb             West Midlands  \n",
       "19ee6c1b-75bb-4c85-bd39-22367e9fb9d3  Yorkshire and the Humber  "
      ]
     },
     "execution_count": 174,
     "metadata": {},
     "output_type": "execute_result"
    }
   ],
   "source": [
    "locations.head()"
   ]
  },
  {
   "cell_type": "code",
   "execution_count": 175,
   "metadata": {},
   "outputs": [],
   "source": [
    "locations = get_dummies(locations, \"nuts_region\")"
   ]
  },
  {
   "cell_type": "code",
   "execution_count": 191,
   "metadata": {},
   "outputs": [],
   "source": [
    "pub_feature_set = []\n",
    "#columns = [\"publisher\", \"lat\", \"lng\", \"origin_type\", \"name\", \"nuts_region\", \"local_government_area\", \"id\"]\n",
    "publishers = []\n",
    "for article in raw_articles:\n",
    "    for annotation in article[\"annotation_uri\"]:\n",
    "        if annotation in uri_index.keys():\n",
    "            locs = uri_index[annotation][\"locations\"]\n",
    "            for loc in locs:\n",
    "                publishers.append(utils.clean_publisher(article[\"publisher\"]))\n",
    "                pub_feature_set.append(locations.loc[loc[\"id\"], :])\n",
    "pub_feature_set = pd.DataFrame(pub_feature_set)\n",
    "pub_feature_set[\"publisher\"] = publishers"
   ]
  },
  {
   "cell_type": "code",
   "execution_count": 193,
   "metadata": {},
   "outputs": [
    {
     "data": {
      "text/html": [
       "<div>\n",
       "<style scoped>\n",
       "    .dataframe tbody tr th:only-of-type {\n",
       "        vertical-align: middle;\n",
       "    }\n",
       "\n",
       "    .dataframe tbody tr th {\n",
       "        vertical-align: top;\n",
       "    }\n",
       "\n",
       "    .dataframe thead th {\n",
       "        text-align: right;\n",
       "    }\n",
       "</style>\n",
       "<table border=\"1\" class=\"dataframe\">\n",
       "  <thead>\n",
       "    <tr style=\"text-align: right;\">\n",
       "      <th></th>\n",
       "      <th>lat</th>\n",
       "      <th>lng</th>\n",
       "      <th>East Midlands</th>\n",
       "      <th>Eastern</th>\n",
       "      <th>Isle of Man</th>\n",
       "      <th>London</th>\n",
       "      <th>North East</th>\n",
       "      <th>North West</th>\n",
       "      <th>Northern Ireland</th>\n",
       "      <th>Scotland</th>\n",
       "      <th>South East</th>\n",
       "      <th>South West</th>\n",
       "      <th>Wales</th>\n",
       "      <th>West Midlands</th>\n",
       "      <th>Yorkshire and the Humber</th>\n",
       "      <th>publisher</th>\n",
       "    </tr>\n",
       "  </thead>\n",
       "  <tbody>\n",
       "    <tr>\n",
       "      <th>bd5a1b69-a99a-4934-9441-98fad30ec993</th>\n",
       "      <td>51.51437</td>\n",
       "      <td>-0.09229</td>\n",
       "      <td>0.0</td>\n",
       "      <td>0.0</td>\n",
       "      <td>0.0</td>\n",
       "      <td>1.0</td>\n",
       "      <td>0.0</td>\n",
       "      <td>0.0</td>\n",
       "      <td>0.0</td>\n",
       "      <td>0.0</td>\n",
       "      <td>0.0</td>\n",
       "      <td>0.0</td>\n",
       "      <td>0.0</td>\n",
       "      <td>0.0</td>\n",
       "      <td>0.0</td>\n",
       "      <td>nwemail</td>\n",
       "    </tr>\n",
       "    <tr>\n",
       "      <th>eeb33821-a955-403b-b732-5f5c169370eb</th>\n",
       "      <td>52.46249</td>\n",
       "      <td>-1.85391</td>\n",
       "      <td>0.0</td>\n",
       "      <td>0.0</td>\n",
       "      <td>0.0</td>\n",
       "      <td>0.0</td>\n",
       "      <td>0.0</td>\n",
       "      <td>0.0</td>\n",
       "      <td>0.0</td>\n",
       "      <td>0.0</td>\n",
       "      <td>0.0</td>\n",
       "      <td>0.0</td>\n",
       "      <td>0.0</td>\n",
       "      <td>1.0</td>\n",
       "      <td>0.0</td>\n",
       "      <td>rotherhamadvertiser</td>\n",
       "    </tr>\n",
       "  </tbody>\n",
       "</table>\n",
       "</div>"
      ],
      "text/plain": [
       "                                           lat      lng  East Midlands  \\\n",
       "bd5a1b69-a99a-4934-9441-98fad30ec993  51.51437 -0.09229            0.0   \n",
       "eeb33821-a955-403b-b732-5f5c169370eb  52.46249 -1.85391            0.0   \n",
       "\n",
       "                                      Eastern  Isle of Man  London  \\\n",
       "bd5a1b69-a99a-4934-9441-98fad30ec993      0.0          0.0     1.0   \n",
       "eeb33821-a955-403b-b732-5f5c169370eb      0.0          0.0     0.0   \n",
       "\n",
       "                                      North East  North West  \\\n",
       "bd5a1b69-a99a-4934-9441-98fad30ec993         0.0         0.0   \n",
       "eeb33821-a955-403b-b732-5f5c169370eb         0.0         0.0   \n",
       "\n",
       "                                      Northern Ireland  Scotland  South East  \\\n",
       "bd5a1b69-a99a-4934-9441-98fad30ec993               0.0       0.0         0.0   \n",
       "eeb33821-a955-403b-b732-5f5c169370eb               0.0       0.0         0.0   \n",
       "\n",
       "                                      South West  Wales  West Midlands  \\\n",
       "bd5a1b69-a99a-4934-9441-98fad30ec993         0.0    0.0            0.0   \n",
       "eeb33821-a955-403b-b732-5f5c169370eb         0.0    0.0            1.0   \n",
       "\n",
       "                                      Yorkshire and the Humber  \\\n",
       "bd5a1b69-a99a-4934-9441-98fad30ec993                       0.0   \n",
       "eeb33821-a955-403b-b732-5f5c169370eb                       0.0   \n",
       "\n",
       "                                                publisher  \n",
       "bd5a1b69-a99a-4934-9441-98fad30ec993              nwemail  \n",
       "eeb33821-a955-403b-b732-5f5c169370eb  rotherhamadvertiser  "
      ]
     },
     "execution_count": 193,
     "metadata": {},
     "output_type": "execute_result"
    }
   ],
   "source": [
    "pub_feature_set.head(2)"
   ]
  },
  {
   "cell_type": "code",
   "execution_count": 179,
   "metadata": {},
   "outputs": [],
   "source": [
    "\n",
    "#dropped_cols  = ['country', 'county', 'iid', 'local_government_area', 'name', 'origin_type', 'postcode_sector']\n",
    "#pub_feature_set.drop(dropped_cols, inplace=True, axis=1)"
   ]
  },
  {
   "cell_type": "code",
   "execution_count": 180,
   "metadata": {},
   "outputs": [
    {
     "name": "stdout",
     "output_type": "stream",
     "text": [
      "['belfastlive' 'birminghammail' 'blackpoolgazette' 'bournemouthecho'\n",
      " 'chroniclelive' 'coventrytelegraph' 'dailyrecord' 'devonlive'\n",
      " 'eastangliandailytimes' 'easterndailypress' 'gazettelive' 'getsurrey'\n",
      " 'glasgowlive' 'inyourarea' 'lep' 'liverpoolecho' 'manchestereveningnews'\n",
      " 'mirror' 'plymouthherald' 'somersetlive' 'theargus' 'thenorthernecho'\n",
      " 'thestar' 'thisislocallondon' 'walesonline' 'yorkshirepost']\n"
     ]
    }
   ],
   "source": [
    "n = 100\n",
    "publishers = clean_features_set[\"publisher\"].unique()\n",
    "publishers.sort()\n",
    "large_publishers = publishers[pub_feature_set.groupby(\"publisher\")[\"publisher\"].count() > n]\n",
    "print(large_publishers)"
   ]
  },
  {
   "cell_type": "code",
   "execution_count": 181,
   "metadata": {},
   "outputs": [
    {
     "data": {
      "text/plain": [
       "Index(['lat', 'lng', 'publisher', 'East Midlands', 'Eastern', 'Isle of Man',\n",
       "       'London', 'North East', 'North West', 'Northern Ireland', 'Scotland',\n",
       "       'South East', 'South West', 'Wales', 'West Midlands',\n",
       "       'Yorkshire and the Humber'],\n",
       "      dtype='object')"
      ]
     },
     "execution_count": 181,
     "metadata": {},
     "output_type": "execute_result"
    }
   ],
   "source": [
    "clean_features_set.columns"
   ]
  },
  {
   "cell_type": "code",
   "execution_count": 182,
   "metadata": {},
   "outputs": [
    {
     "data": {
      "text/html": [
       "<div>\n",
       "<style scoped>\n",
       "    .dataframe tbody tr th:only-of-type {\n",
       "        vertical-align: middle;\n",
       "    }\n",
       "\n",
       "    .dataframe tbody tr th {\n",
       "        vertical-align: top;\n",
       "    }\n",
       "\n",
       "    .dataframe thead th {\n",
       "        text-align: right;\n",
       "    }\n",
       "</style>\n",
       "<table border=\"1\" class=\"dataframe\">\n",
       "  <thead>\n",
       "    <tr style=\"text-align: right;\">\n",
       "      <th></th>\n",
       "      <th>lat</th>\n",
       "      <th>lng</th>\n",
       "      <th>East Midlands</th>\n",
       "      <th>Eastern</th>\n",
       "      <th>Isle of Man</th>\n",
       "      <th>London</th>\n",
       "      <th>North East</th>\n",
       "      <th>North West</th>\n",
       "      <th>Northern Ireland</th>\n",
       "      <th>Scotland</th>\n",
       "      <th>South East</th>\n",
       "      <th>South West</th>\n",
       "      <th>Wales</th>\n",
       "      <th>West Midlands</th>\n",
       "      <th>Yorkshire and the Humber</th>\n",
       "      <th>publisher</th>\n",
       "    </tr>\n",
       "  </thead>\n",
       "  <tbody>\n",
       "    <tr>\n",
       "      <th>0</th>\n",
       "      <td>51.51437</td>\n",
       "      <td>-0.09229</td>\n",
       "      <td>0.0</td>\n",
       "      <td>0.0</td>\n",
       "      <td>0.0</td>\n",
       "      <td>1.0</td>\n",
       "      <td>0.0</td>\n",
       "      <td>0.0</td>\n",
       "      <td>0.0</td>\n",
       "      <td>0.0</td>\n",
       "      <td>0.0</td>\n",
       "      <td>0.0</td>\n",
       "      <td>0.0</td>\n",
       "      <td>0.0</td>\n",
       "      <td>0.0</td>\n",
       "      <td>nwemail</td>\n",
       "    </tr>\n",
       "    <tr>\n",
       "      <th>1</th>\n",
       "      <td>52.46249</td>\n",
       "      <td>-1.85391</td>\n",
       "      <td>0.0</td>\n",
       "      <td>0.0</td>\n",
       "      <td>0.0</td>\n",
       "      <td>0.0</td>\n",
       "      <td>0.0</td>\n",
       "      <td>0.0</td>\n",
       "      <td>0.0</td>\n",
       "      <td>0.0</td>\n",
       "      <td>0.0</td>\n",
       "      <td>0.0</td>\n",
       "      <td>0.0</td>\n",
       "      <td>1.0</td>\n",
       "      <td>0.0</td>\n",
       "      <td>rotherhamadvertiser</td>\n",
       "    </tr>\n",
       "  </tbody>\n",
       "</table>\n",
       "</div>"
      ],
      "text/plain": [
       "        lat      lng  East Midlands  Eastern  Isle of Man  London  North East  \\\n",
       "0  51.51437 -0.09229            0.0      0.0          0.0     1.0         0.0   \n",
       "1  52.46249 -1.85391            0.0      0.0          0.0     0.0         0.0   \n",
       "\n",
       "   North West  Northern Ireland  Scotland  South East  South West  Wales  \\\n",
       "0         0.0               0.0       0.0         0.0         0.0    0.0   \n",
       "1         0.0               0.0       0.0         0.0         0.0    0.0   \n",
       "\n",
       "   West Midlands  Yorkshire and the Humber            publisher  \n",
       "0            0.0                       0.0              nwemail  \n",
       "1            1.0                       0.0  rotherhamadvertiser  "
      ]
     },
     "execution_count": 182,
     "metadata": {},
     "output_type": "execute_result"
    }
   ],
   "source": [
    "pub_feature_set.head(2)"
   ]
  },
  {
   "cell_type": "code",
   "execution_count": 276,
   "metadata": {},
   "outputs": [],
   "source": [
    "dataset = pub_feature_set[pub_feature_set[\"publisher\"] == 'birminghammail']\n",
    "def form_sample(dataset, locations):\n",
    "    known_ids = set(dataset.index.values)\n",
    "    dataset.drop(\"publisher\", axis=1, inplace=True)\n",
    "    dataset.reset_index(inplace=True, drop=True)\n",
    "\n",
    "    selected_ids = utils.sample_locations(raw_locations, dataset.shape[0], known_ids)\n",
    "    \n",
    "    negative_sample = locations.loc[selected_ids].reset_index(drop=True).copy()\n",
    "    negative_sample[\"Y\"] = 0\n",
    "    positive_sample = dataset.copy()\n",
    "    positive_sample[\"Y\"] = 1\n",
    "    sample = pd.concat((positive_sample, negative_sample))\n",
    "    return sample"
   ]
  },
  {
   "cell_type": "code",
   "execution_count": 206,
   "metadata": {},
   "outputs": [
    {
     "data": {
      "text/html": [
       "<div>\n",
       "<style scoped>\n",
       "    .dataframe tbody tr th:only-of-type {\n",
       "        vertical-align: middle;\n",
       "    }\n",
       "\n",
       "    .dataframe tbody tr th {\n",
       "        vertical-align: top;\n",
       "    }\n",
       "\n",
       "    .dataframe thead th {\n",
       "        text-align: right;\n",
       "    }\n",
       "</style>\n",
       "<table border=\"1\" class=\"dataframe\">\n",
       "  <thead>\n",
       "    <tr style=\"text-align: right;\">\n",
       "      <th></th>\n",
       "      <th>lat</th>\n",
       "      <th>lng</th>\n",
       "      <th>East Midlands</th>\n",
       "      <th>Eastern</th>\n",
       "      <th>Isle of Man</th>\n",
       "      <th>London</th>\n",
       "      <th>North East</th>\n",
       "      <th>North West</th>\n",
       "      <th>Northern Ireland</th>\n",
       "      <th>Scotland</th>\n",
       "      <th>South East</th>\n",
       "      <th>South West</th>\n",
       "      <th>Wales</th>\n",
       "      <th>West Midlands</th>\n",
       "      <th>Yorkshire and the Humber</th>\n",
       "      <th>Y</th>\n",
       "    </tr>\n",
       "  </thead>\n",
       "  <tbody>\n",
       "    <tr>\n",
       "      <th>0</th>\n",
       "      <td>51.56452</td>\n",
       "      <td>-0.10892</td>\n",
       "      <td>0.0</td>\n",
       "      <td>0.0</td>\n",
       "      <td>0.0</td>\n",
       "      <td>1.0</td>\n",
       "      <td>0.0</td>\n",
       "      <td>0.0</td>\n",
       "      <td>0.0</td>\n",
       "      <td>0.0</td>\n",
       "      <td>0.0</td>\n",
       "      <td>0.0</td>\n",
       "      <td>0.0</td>\n",
       "      <td>0.0</td>\n",
       "      <td>0.0</td>\n",
       "      <td>1</td>\n",
       "    </tr>\n",
       "    <tr>\n",
       "      <th>1</th>\n",
       "      <td>52.43788</td>\n",
       "      <td>-1.78288</td>\n",
       "      <td>0.0</td>\n",
       "      <td>0.0</td>\n",
       "      <td>0.0</td>\n",
       "      <td>0.0</td>\n",
       "      <td>0.0</td>\n",
       "      <td>0.0</td>\n",
       "      <td>0.0</td>\n",
       "      <td>0.0</td>\n",
       "      <td>0.0</td>\n",
       "      <td>0.0</td>\n",
       "      <td>0.0</td>\n",
       "      <td>1.0</td>\n",
       "      <td>0.0</td>\n",
       "      <td>1</td>\n",
       "    </tr>\n",
       "    <tr>\n",
       "      <th>2</th>\n",
       "      <td>52.41275</td>\n",
       "      <td>-1.77755</td>\n",
       "      <td>0.0</td>\n",
       "      <td>0.0</td>\n",
       "      <td>0.0</td>\n",
       "      <td>0.0</td>\n",
       "      <td>0.0</td>\n",
       "      <td>0.0</td>\n",
       "      <td>0.0</td>\n",
       "      <td>0.0</td>\n",
       "      <td>0.0</td>\n",
       "      <td>0.0</td>\n",
       "      <td>0.0</td>\n",
       "      <td>1.0</td>\n",
       "      <td>0.0</td>\n",
       "      <td>1</td>\n",
       "    </tr>\n",
       "    <tr>\n",
       "      <th>3</th>\n",
       "      <td>52.47928</td>\n",
       "      <td>-1.90294</td>\n",
       "      <td>0.0</td>\n",
       "      <td>0.0</td>\n",
       "      <td>0.0</td>\n",
       "      <td>0.0</td>\n",
       "      <td>0.0</td>\n",
       "      <td>0.0</td>\n",
       "      <td>0.0</td>\n",
       "      <td>0.0</td>\n",
       "      <td>0.0</td>\n",
       "      <td>0.0</td>\n",
       "      <td>0.0</td>\n",
       "      <td>1.0</td>\n",
       "      <td>0.0</td>\n",
       "      <td>1</td>\n",
       "    </tr>\n",
       "    <tr>\n",
       "      <th>4</th>\n",
       "      <td>51.51279</td>\n",
       "      <td>-0.20570</td>\n",
       "      <td>0.0</td>\n",
       "      <td>0.0</td>\n",
       "      <td>0.0</td>\n",
       "      <td>1.0</td>\n",
       "      <td>0.0</td>\n",
       "      <td>0.0</td>\n",
       "      <td>0.0</td>\n",
       "      <td>0.0</td>\n",
       "      <td>0.0</td>\n",
       "      <td>0.0</td>\n",
       "      <td>0.0</td>\n",
       "      <td>0.0</td>\n",
       "      <td>0.0</td>\n",
       "      <td>1</td>\n",
       "    </tr>\n",
       "  </tbody>\n",
       "</table>\n",
       "</div>"
      ],
      "text/plain": [
       "        lat      lng  East Midlands  Eastern  Isle of Man  London  North East  \\\n",
       "0  51.56452 -0.10892            0.0      0.0          0.0     1.0         0.0   \n",
       "1  52.43788 -1.78288            0.0      0.0          0.0     0.0         0.0   \n",
       "2  52.41275 -1.77755            0.0      0.0          0.0     0.0         0.0   \n",
       "3  52.47928 -1.90294            0.0      0.0          0.0     0.0         0.0   \n",
       "4  51.51279 -0.20570            0.0      0.0          0.0     1.0         0.0   \n",
       "\n",
       "   North West  Northern Ireland  Scotland  South East  South West  Wales  \\\n",
       "0         0.0               0.0       0.0         0.0         0.0    0.0   \n",
       "1         0.0               0.0       0.0         0.0         0.0    0.0   \n",
       "2         0.0               0.0       0.0         0.0         0.0    0.0   \n",
       "3         0.0               0.0       0.0         0.0         0.0    0.0   \n",
       "4         0.0               0.0       0.0         0.0         0.0    0.0   \n",
       "\n",
       "   West Midlands  Yorkshire and the Humber  Y  \n",
       "0            0.0                       0.0  1  \n",
       "1            1.0                       0.0  1  \n",
       "2            1.0                       0.0  1  \n",
       "3            1.0                       0.0  1  \n",
       "4            0.0                       0.0  1  "
      ]
     },
     "execution_count": 206,
     "metadata": {},
     "output_type": "execute_result"
    }
   ],
   "source": [
    "sample.head()"
   ]
  },
  {
   "cell_type": "code",
   "execution_count": 239,
   "metadata": {},
   "outputs": [],
   "source": [
    "# def evaluate(features, clf):\n",
    "#     known_ids = set(features[\"id\"].values)\n",
    "#     selected_ids = utils.sample_locations(raw_locations, features.shape[0], known_ids)\n",
    "#     negative_sample = locations[selected_ids]\n",
    "#     negative_sample[\"Y\"] = 0\n",
    "#     positive_sample = features[cols].copy()\n",
    "#     positive_sample[\"Y\"] = 1\n",
    "#     sample = pd.concat((positive_sample, negative_sample))\n",
    "#     X = sample.drop(\"Y\", axis=1)\n",
    "#     Y = sample[\"Y\"]\n",
    "#     train, test = model_selection.train_test_split(sample.drop(\"id\", axis=1), test_size=0.3)\n",
    "#     model = clf.fit(train.drop(\"Y\"), y=train[\"Y\"])\n",
    "#     y_hat = model.predict(test.drop(\"Y\"))\n",
    "#     print(pd.DataFrame(metrics.confusion_matrix(test[\"Y\"], y_hat), index=[\"true neg\", \"true pos\"], columns=[\"pred pos\", \"pred neg\"]))\n",
    "#     print(metrics.classification_report(test[\"Y\"], y_hat))"
   ]
  },
  {
   "cell_type": "code",
   "execution_count": 221,
   "metadata": {},
   "outputs": [],
   "source": [
    "publisher = \"mirror\""
   ]
  },
  {
   "cell_type": "code",
   "execution_count": 313,
   "metadata": {},
   "outputs": [
    {
     "name": "stdout",
     "output_type": "stream",
     "text": [
      "\n",
      "-------------------------------------------------\n",
      "Publisher: birminghammail\n",
      "\n",
      "          pred neg  pred pos\n",
      "true neg       116         5\n",
      "true pos        15       110\n",
      "             precision    recall  f1-score   support\n",
      "\n",
      "          0       0.89      0.96      0.92       121\n",
      "          1       0.96      0.88      0.92       125\n",
      "\n",
      "avg / total       0.92      0.92      0.92       246\n",
      "\n"
     ]
    },
    {
     "name": "stderr",
     "output_type": "stream",
     "text": [
      "/home/vagrant/.local/share/virtualenvs/vagrant-gKDsaKU3/lib/python3.6/site-packages/pandas/core/frame.py:3697: SettingWithCopyWarning: \n",
      "A value is trying to be set on a copy of a slice from a DataFrame\n",
      "\n",
      "See the caveats in the documentation: http://pandas.pydata.org/pandas-docs/stable/indexing.html#indexing-view-versus-copy\n",
      "  errors=errors)\n"
     ]
    }
   ],
   "source": [
    "for publisher in [\"birminghammail\"]: #large_publishers:\n",
    "    print(\"\\n-------------------------------------------------\")\n",
    "    print(f\"Publisher: {publisher}\\n\")\n",
    "    dataset = pub_feature_set[pub_feature_set[\"publisher\"] == publisher]\n",
    "    sample = form_sample(dataset, locations)\n",
    "    clf = neighbors.KNeighborsClassifier()\n",
    "    clf_sigmoid = CalibratedClassifierCV(clf, cv=2, method='sigmoid')\n",
    "    train, test = model_selection.train_test_split(sample, test_size=0.3)\n",
    "    \n",
    "    model = clf_sigmoid.fit(train.drop(\"Y\", axis=1), y=train[\"Y\"])\n",
    "    y_hat = model.predict(test.drop(\"Y\", axis=1))\n",
    "    y_hat_prob = model.predict_proba(test.drop(\"Y\", axis=1))\n",
    "    print(pd.DataFrame(metrics.confusion_matrix(test[\"Y\"], y_hat), \n",
    "                       index=[\"true neg\", \"true pos\"], \n",
    "                       columns=[\"pred neg\", \"pred pos\"]))\n",
    "    print(metrics.classification_report(test[\"Y\"], y_hat))"
   ]
  },
  {
   "cell_type": "code",
   "execution_count": 314,
   "metadata": {},
   "outputs": [
    {
     "data": {
      "text/plain": [
       "array([1, 0, 0, 1, 1, 1, 1, 0, 0, 1, 1, 0, 0, 0, 0, 0, 1, 0, 0, 1, 1, 1,\n",
       "       0, 0, 0, 0, 1, 0, 0, 0, 1, 1, 1, 0, 1, 1, 0, 1, 0, 0, 1, 0, 1, 1,\n",
       "       1, 1, 0, 1, 0, 0, 0, 1, 0, 1, 1, 0, 1, 1, 0, 0, 0, 0, 0, 1, 1, 1,\n",
       "       0, 1, 0, 0, 1, 0, 0, 1, 0, 0, 0, 0, 1, 1, 0, 0, 0, 1, 0, 1, 1, 1,\n",
       "       0, 0, 1, 0, 1, 1, 1, 0, 1, 0, 0, 1, 1, 0, 0, 0, 1, 1, 1, 1, 0, 1,\n",
       "       1, 1, 0, 0, 1, 1, 1, 0, 1, 0, 0, 1, 0, 0, 0, 1, 0, 0, 1, 0, 0, 0,\n",
       "       0, 1, 0, 1, 0, 1, 0, 0, 0, 0, 0, 0, 1, 1, 1, 1, 0, 1, 1, 0, 0, 1,\n",
       "       1, 1, 0, 0, 1, 1, 1, 0, 1, 1, 1, 0, 1, 0, 1, 0, 1, 1, 0, 1, 1, 0,\n",
       "       1, 0, 0, 1, 1, 1, 1, 0, 0, 1, 1, 0, 1, 0, 0, 1, 1, 0, 0, 0, 0, 0,\n",
       "       0, 1, 1, 1, 0, 1, 0, 0, 1, 1, 0, 0, 0, 0, 0, 0, 1, 0, 0, 0, 0, 1,\n",
       "       0, 1, 0, 1, 1, 0, 0, 1, 0, 1, 1, 0, 0, 0, 1, 0, 0, 1, 0, 0, 0, 1,\n",
       "       0, 1, 1, 0])"
      ]
     },
     "execution_count": 314,
     "metadata": {},
     "output_type": "execute_result"
    }
   ],
   "source": [
    "y_hat"
   ]
  },
  {
   "cell_type": "code",
   "execution_count": 315,
   "metadata": {},
   "outputs": [
    {
     "data": {
      "text/plain": [
       "array([[0.03874982, 0.96125018],\n",
       "       [0.96420828, 0.03579172],\n",
       "       [0.91299712, 0.08700288],\n",
       "       [0.25763682, 0.74236318],\n",
       "       [0.03874982, 0.96125018],\n",
       "       [0.03874982, 0.96125018],\n",
       "       [0.0923724 , 0.9076276 ],\n",
       "       [0.91299712, 0.08700288],\n",
       "       [0.96420828, 0.03579172],\n",
       "       [0.03874982, 0.96125018],\n",
       "       [0.03874982, 0.96125018],\n",
       "       [0.93151824, 0.06848176],\n",
       "       [0.93151824, 0.06848176],\n",
       "       [0.96420828, 0.03579172],\n",
       "       [0.96420828, 0.03579172],\n",
       "       [0.93151824, 0.06848176],\n",
       "       [0.03874982, 0.96125018],\n",
       "       [0.96420828, 0.03579172],\n",
       "       [0.96420828, 0.03579172],\n",
       "       [0.03874982, 0.96125018],\n",
       "       [0.03874982, 0.96125018],\n",
       "       [0.03874982, 0.96125018],\n",
       "       [0.96420828, 0.03579172],\n",
       "       [0.83877177, 0.16122823],\n",
       "       [0.93151824, 0.06848176],\n",
       "       [0.83877177, 0.16122823],\n",
       "       [0.03874982, 0.96125018],\n",
       "       [0.93151824, 0.06848176],\n",
       "       [0.91299712, 0.08700288],\n",
       "       [0.93151824, 0.06848176],\n",
       "       [0.03874982, 0.96125018],\n",
       "       [0.03874982, 0.96125018],\n",
       "       [0.03874982, 0.96125018],\n",
       "       [0.96420828, 0.03579172],\n",
       "       [0.03874982, 0.96125018],\n",
       "       [0.03874982, 0.96125018],\n",
       "       [0.96420828, 0.03579172],\n",
       "       [0.03874982, 0.96125018],\n",
       "       [0.93151824, 0.06848176],\n",
       "       [0.96420828, 0.03579172],\n",
       "       [0.03874982, 0.96125018],\n",
       "       [0.91299712, 0.08700288],\n",
       "       [0.03874982, 0.96125018],\n",
       "       [0.03874982, 0.96125018],\n",
       "       [0.03874982, 0.96125018],\n",
       "       [0.03874982, 0.96125018],\n",
       "       [0.79407363, 0.20592637],\n",
       "       [0.03874982, 0.96125018],\n",
       "       [0.96420828, 0.03579172],\n",
       "       [0.96420828, 0.03579172],\n",
       "       [0.93151824, 0.06848176],\n",
       "       [0.03874982, 0.96125018],\n",
       "       [0.96420828, 0.03579172],\n",
       "       [0.03874982, 0.96125018],\n",
       "       [0.17519203, 0.82480797],\n",
       "       [0.88030708, 0.11969292],\n",
       "       [0.03874982, 0.96125018],\n",
       "       [0.03874982, 0.96125018],\n",
       "       [0.93151824, 0.06848176],\n",
       "       [0.93151824, 0.06848176],\n",
       "       [0.96420828, 0.03579172],\n",
       "       [0.96420828, 0.03579172],\n",
       "       [0.96420828, 0.03579172],\n",
       "       [0.03874982, 0.96125018],\n",
       "       [0.17519203, 0.82480797],\n",
       "       [0.03874982, 0.96125018],\n",
       "       [0.50178706, 0.49821294],\n",
       "       [0.0767395 , 0.9232605 ],\n",
       "       [0.83877177, 0.16122823],\n",
       "       [0.93151824, 0.06848176],\n",
       "       [0.03874982, 0.96125018],\n",
       "       [0.79407363, 0.20592637],\n",
       "       [0.91299712, 0.08700288],\n",
       "       [0.35608934, 0.64391066],\n",
       "       [0.93151824, 0.06848176],\n",
       "       [0.96420828, 0.03579172],\n",
       "       [0.91299712, 0.08700288],\n",
       "       [0.96420828, 0.03579172],\n",
       "       [0.03874982, 0.96125018],\n",
       "       [0.03874982, 0.96125018],\n",
       "       [0.96420828, 0.03579172],\n",
       "       [0.91299712, 0.08700288],\n",
       "       [0.96420828, 0.03579172],\n",
       "       [0.03874982, 0.96125018],\n",
       "       [0.93151824, 0.06848176],\n",
       "       [0.03874982, 0.96125018],\n",
       "       [0.03874982, 0.96125018],\n",
       "       [0.03874982, 0.96125018],\n",
       "       [0.91299712, 0.08700288],\n",
       "       [0.88030708, 0.11969292],\n",
       "       [0.03874982, 0.96125018],\n",
       "       [0.66863713, 0.33136287],\n",
       "       [0.03874982, 0.96125018],\n",
       "       [0.03874982, 0.96125018],\n",
       "       [0.03874982, 0.96125018],\n",
       "       [0.96420828, 0.03579172],\n",
       "       [0.03874982, 0.96125018],\n",
       "       [0.96420828, 0.03579172],\n",
       "       [0.93151824, 0.06848176],\n",
       "       [0.03874982, 0.96125018],\n",
       "       [0.03874982, 0.96125018],\n",
       "       [0.88030708, 0.11969292],\n",
       "       [0.93151824, 0.06848176],\n",
       "       [0.66863713, 0.33136287],\n",
       "       [0.03874982, 0.96125018],\n",
       "       [0.03874982, 0.96125018],\n",
       "       [0.03874982, 0.96125018],\n",
       "       [0.03874982, 0.96125018],\n",
       "       [0.93151824, 0.06848176],\n",
       "       [0.03874982, 0.96125018],\n",
       "       [0.03874982, 0.96125018],\n",
       "       [0.03874982, 0.96125018],\n",
       "       [0.83877177, 0.16122823],\n",
       "       [0.96420828, 0.03579172],\n",
       "       [0.03874982, 0.96125018],\n",
       "       [0.03874982, 0.96125018],\n",
       "       [0.03874982, 0.96125018],\n",
       "       [0.96420828, 0.03579172],\n",
       "       [0.03874982, 0.96125018],\n",
       "       [0.91299712, 0.08700288],\n",
       "       [0.96420828, 0.03579172],\n",
       "       [0.03874982, 0.96125018],\n",
       "       [0.93151824, 0.06848176],\n",
       "       [0.93151824, 0.06848176],\n",
       "       [0.91299712, 0.08700288],\n",
       "       [0.17519203, 0.82480797],\n",
       "       [0.91299712, 0.08700288],\n",
       "       [0.66863713, 0.33136287],\n",
       "       [0.03874982, 0.96125018],\n",
       "       [0.93151824, 0.06848176],\n",
       "       [0.96420828, 0.03579172],\n",
       "       [0.55299821, 0.44700179],\n",
       "       [0.93151824, 0.06848176],\n",
       "       [0.03874982, 0.96125018],\n",
       "       [0.88030708, 0.11969292],\n",
       "       [0.0923724 , 0.9076276 ],\n",
       "       [0.96420828, 0.03579172],\n",
       "       [0.03874982, 0.96125018],\n",
       "       [0.96420828, 0.03579172],\n",
       "       [0.93151824, 0.06848176],\n",
       "       [0.96420828, 0.03579172],\n",
       "       [0.88030708, 0.11969292],\n",
       "       [0.96420828, 0.03579172],\n",
       "       [0.66863713, 0.33136287],\n",
       "       [0.03874982, 0.96125018],\n",
       "       [0.03874982, 0.96125018],\n",
       "       [0.03874982, 0.96125018],\n",
       "       [0.03874982, 0.96125018],\n",
       "       [0.91299712, 0.08700288],\n",
       "       [0.03874982, 0.96125018],\n",
       "       [0.03874982, 0.96125018],\n",
       "       [0.96420828, 0.03579172],\n",
       "       [0.96420828, 0.03579172],\n",
       "       [0.03874982, 0.96125018],\n",
       "       [0.03874982, 0.96125018],\n",
       "       [0.03874982, 0.96125018],\n",
       "       [0.88030708, 0.11969292],\n",
       "       [0.96420828, 0.03579172],\n",
       "       [0.03874982, 0.96125018],\n",
       "       [0.03874982, 0.96125018],\n",
       "       [0.03874982, 0.96125018],\n",
       "       [0.96420828, 0.03579172],\n",
       "       [0.22881461, 0.77118539],\n",
       "       [0.03874982, 0.96125018],\n",
       "       [0.03874982, 0.96125018],\n",
       "       [0.91299712, 0.08700288],\n",
       "       [0.03874982, 0.96125018],\n",
       "       [0.88030708, 0.11969292],\n",
       "       [0.03874982, 0.96125018],\n",
       "       [0.76138359, 0.23861641],\n",
       "       [0.03874982, 0.96125018],\n",
       "       [0.03874982, 0.96125018],\n",
       "       [0.93151824, 0.06848176],\n",
       "       [0.03874982, 0.96125018],\n",
       "       [0.03874982, 0.96125018],\n",
       "       [0.96420828, 0.03579172],\n",
       "       [0.03874982, 0.96125018],\n",
       "       [0.96420828, 0.03579172],\n",
       "       [0.91299712, 0.08700288],\n",
       "       [0.03874982, 0.96125018],\n",
       "       [0.03874982, 0.96125018],\n",
       "       [0.03874982, 0.96125018],\n",
       "       [0.03874982, 0.96125018],\n",
       "       [0.93151824, 0.06848176],\n",
       "       [0.91299712, 0.08700288],\n",
       "       [0.03874982, 0.96125018],\n",
       "       [0.03874982, 0.96125018],\n",
       "       [0.96420828, 0.03579172],\n",
       "       [0.03874982, 0.96125018],\n",
       "       [0.91299712, 0.08700288],\n",
       "       [0.96420828, 0.03579172],\n",
       "       [0.03874982, 0.96125018],\n",
       "       [0.17519203, 0.82480797],\n",
       "       [0.96420828, 0.03579172],\n",
       "       [0.96420828, 0.03579172],\n",
       "       [0.93151824, 0.06848176],\n",
       "       [0.93151824, 0.06848176],\n",
       "       [0.76138359, 0.23861641],\n",
       "       [0.96420828, 0.03579172],\n",
       "       [0.03874982, 0.96125018],\n",
       "       [0.17519203, 0.82480797],\n",
       "       [0.03874982, 0.96125018],\n",
       "       [0.55299821, 0.44700179],\n",
       "       [0.03874982, 0.96125018],\n",
       "       [0.62906179, 0.37093821],\n",
       "       [0.93151824, 0.06848176],\n",
       "       [0.03874982, 0.96125018],\n",
       "       [0.03874982, 0.96125018],\n",
       "       [0.93151824, 0.06848176],\n",
       "       [0.96420828, 0.03579172],\n",
       "       [0.96420828, 0.03579172],\n",
       "       [0.91299712, 0.08700288],\n",
       "       [0.96420828, 0.03579172],\n",
       "       [0.79407363, 0.20592637],\n",
       "       [0.03874982, 0.96125018],\n",
       "       [0.79407363, 0.20592637],\n",
       "       [0.91299712, 0.08700288],\n",
       "       [0.93151824, 0.06848176],\n",
       "       [0.88030708, 0.11969292],\n",
       "       [0.03874982, 0.96125018],\n",
       "       [0.96420828, 0.03579172],\n",
       "       [0.03874982, 0.96125018],\n",
       "       [0.93151824, 0.06848176],\n",
       "       [0.03874982, 0.96125018],\n",
       "       [0.03874982, 0.96125018],\n",
       "       [0.91299712, 0.08700288],\n",
       "       [0.91299712, 0.08700288],\n",
       "       [0.03874982, 0.96125018],\n",
       "       [0.66863713, 0.33136287],\n",
       "       [0.03874982, 0.96125018],\n",
       "       [0.03874982, 0.96125018],\n",
       "       [0.96420828, 0.03579172],\n",
       "       [0.66863713, 0.33136287],\n",
       "       [0.96420828, 0.03579172],\n",
       "       [0.03874982, 0.96125018],\n",
       "       [0.93151824, 0.06848176],\n",
       "       [0.96420828, 0.03579172],\n",
       "       [0.03874982, 0.96125018],\n",
       "       [0.96420828, 0.03579172],\n",
       "       [0.93151824, 0.06848176],\n",
       "       [0.68027295, 0.31972705],\n",
       "       [0.03874982, 0.96125018],\n",
       "       [0.91299712, 0.08700288],\n",
       "       [0.03874982, 0.96125018],\n",
       "       [0.03874982, 0.96125018],\n",
       "       [0.96420828, 0.03579172]])"
      ]
     },
     "execution_count": 315,
     "metadata": {},
     "output_type": "execute_result"
    }
   ],
   "source": [
    "y_hat_prob"
   ]
  },
  {
   "cell_type": "code",
   "execution_count": 292,
   "metadata": {},
   "outputs": [
    {
     "data": {
      "text/plain": [
       "199"
      ]
     },
     "execution_count": 292,
     "metadata": {},
     "output_type": "execute_result"
    }
   ],
   "source": [
    "(sample[\"Y\"] == 0).sum()"
   ]
  },
  {
   "cell_type": "code",
   "execution_count": 267,
   "metadata": {},
   "outputs": [
    {
     "data": {
      "text/plain": [
       "199"
      ]
     },
     "execution_count": 267,
     "metadata": {},
     "output_type": "execute_result"
    }
   ],
   "source": [
    "(test[\"Y\"] == 1).sum()"
   ]
  },
  {
   "cell_type": "code",
   "execution_count": 269,
   "metadata": {},
   "outputs": [
    {
     "data": {
      "text/plain": [
       "519"
      ]
     },
     "execution_count": 269,
     "metadata": {},
     "output_type": "execute_result"
    }
   ],
   "source": [
    "sample.shape[0]"
   ]
  },
  {
   "cell_type": "code",
   "execution_count": null,
   "metadata": {},
   "outputs": [],
   "source": []
  }
 ],
 "metadata": {
  "kernelspec": {
   "display_name": "Python 3",
   "language": "python",
   "name": "python3"
  },
  "language_info": {
   "codemirror_mode": {
    "name": "ipython",
    "version": 3
   },
   "file_extension": ".py",
   "mimetype": "text/x-python",
   "name": "python",
   "nbconvert_exporter": "python",
   "pygments_lexer": "ipython3",
   "version": "3.6.5"
  }
 },
 "nbformat": 4,
 "nbformat_minor": 2
}
