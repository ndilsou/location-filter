{
 "cells": [
  {
   "cell_type": "code",
   "execution_count": 300,
   "metadata": {},
   "outputs": [],
   "source": [
    "%load_ext autoreload\n",
    "%autoreload 2\n",
    "import sys\n",
    "sys.path.append(\"../\") \n",
    "import models.utility as utils"
   ]
  },
  {
   "cell_type": "code",
   "execution_count": 301,
   "metadata": {
    "collapsed": true
   },
   "outputs": [],
   "source": [
    "import spacy\n",
    "import html\n",
    "import numpy as np\n",
    "import matplotlib.pyplot as plt\n",
    "import seaborn as sns\n",
    "import json\n",
    "import geopy\n",
    "import gzip\n",
    "from scipy import deg2rad\n",
    "import random\n",
    "import pandas as pd\n",
    "import jsonlines\n",
    "import string\n",
    "import re\n",
    "import requests\n",
    "import os\n",
    "from collections import Counter\n",
    "\n",
    "import sklearn.linear_model as linear_model\n",
    "import sklearn.neighbors as neighbors\n",
    "import sklearn.gaussian_process as gaussian_process\n",
    "import sklearn.discriminant_analysis as discriminant_analysis\n",
    "import sklearn.svm as svm\n",
    "import sklearn.model_selection as model_selection\n",
    "import sklearn.metrics as metrics\n",
    "sns.set()"
   ]
  },
  {
   "cell_type": "code",
   "execution_count": null,
   "metadata": {},
   "outputs": [],
   "source": []
  },
  {
   "cell_type": "code",
   "execution_count": 2,
   "metadata": {},
   "outputs": [],
   "source": [
    "nlp = spacy.load('en_core_web_md')"
   ]
  },
  {
   "cell_type": "code",
   "execution_count": 302,
   "metadata": {},
   "outputs": [
    {
     "name": "stdout",
     "output_type": "stream",
     "text": [
      "articles count: 9959\n",
      "annotations count: 3221\n",
      "locations count: 3562\n"
     ]
    }
   ],
   "source": [
    "raw_articles, raw_annotations, raw_locations = utils.load_dataset()"
   ]
  },
  {
   "cell_type": "code",
   "execution_count": 4,
   "metadata": {},
   "outputs": [],
   "source": [
    "annotation_histogram = Counter()\n",
    "publisher_histogram = Counter()\n",
    "for i, raw_doc in enumerate(raw_articles):\n",
    "    annotation_histogram[len(raw_doc[\"annotation_uri\"])] += 1\n",
    "    publisher_histogram[raw_doc[\"publisher\"]] += 1\n"
   ]
  },
  {
   "cell_type": "markdown",
   "metadata": {},
   "source": [
    "Let's display the distribution of annotations/locations over the article dataset."
   ]
  },
  {
   "cell_type": "code",
   "execution_count": 6,
   "metadata": {},
   "outputs": [
    {
     "data": {
      "image/png": "[encoded data removed]",
      "text/plain": [
       "<Figure size 576x288 with 1 Axes>"
      ]
     },
     "metadata": {},
     "output_type": "display_data"
    }
   ],
   "source": [
    "fig = plt.figure(figsize=(8,4))\n",
    "plt.bar(annotation_histogram.keys(), annotation_histogram.values(),tick_label=[k for k in annotation_histogram.keys()]);\n"
   ]
  },
  {
   "cell_type": "markdown",
   "metadata": {},
   "source": [
    "Likewise for the distribution of publishers:"
   ]
  },
  {
   "cell_type": "code",
   "execution_count": 11,
   "metadata": {},
   "outputs": [
    {
     "name": "stdout",
     "output_type": "stream",
     "text": [
      "30 most common publishers: \n",
      "www.birminghammail.co.uk             | count: 191\n",
      "mirror                               | count: 190\n",
      "www.manchestereveningnews.co.uk      | count: 181\n",
      "dailyrecord                          | count: 156\n",
      "www.coventrytelegraph.net            | count: 156\n",
      "The Courier                          | count: 154\n",
      "www.liverpoolecho.co.uk              | count: 152\n",
      "The Northern Echo                    | count: 143\n",
      "Eastern Daily Press                  | count: 131\n",
      "www.walesonline.co.uk                | count: 129\n",
      "HeraldScotland                       | count: 128\n",
      "www.chroniclelive.co.uk              | count: 126\n",
      "Bournemouth Echo                     | count: 126\n",
      "www.yorkshirepost.co.uk              | count: 123\n",
      "Evening Times                        | count: 122\n",
      "www.thestar.co.uk                    | count: 106\n",
      "This Is Local London                 | count: 98\n",
      "East Anglian Daily Times             | count: 92\n",
      "www.yorkshireeveningpost.co.uk       | count: 90\n",
      "www.glasgowlive.co.uk                | count: 89\n",
      "The Argus                            | count: 89\n",
      "somersetlive                         | count: 82\n",
      "Oxford Mail                          | count: 81\n",
      "This Is Wiltshire                    | count: 80\n",
      "The Oxford Times                     | count: 78\n",
      "Dorset Echo                          | count: 78\n",
      "coventrytelegraph                    | count: 78\n",
      "Kent Online                          | count: 77\n",
      "www.scotsman.com                     | count: 74\n",
      "York Press                           | count: 73\n"
     ]
    }
   ],
   "source": [
    "c = 30\n",
    "print(f\"{c} most common publishers: \")\n",
    "for k,v in publisher_histogram.most_common(c):\n",
    "    print(k.ljust(35),\" | count:\" ,v)"
   ]
  },
  {
   "cell_type": "markdown",
   "metadata": {},
   "source": [
    "We notice that some publisher may belong to the same group but have different name. for example, \"birminghammail\" and \"birminghammail.com\"\n",
    "\n",
    "We're going to clean up the publishers name to possibly"
   ]
  },
  {
   "cell_type": "code",
   "execution_count": 235,
   "metadata": {},
   "outputs": [
    {
     "data": {
      "text/plain": [
       "[{'iid': 'f020439f-723d-4eec-8bec-9a9309dc1749',\n",
       "  'lastModifiedTime': 1530456309000,\n",
       "  'publisher': 'The Charlton Champion',\n",
       "  'published_time': None,\n",
       "  'annotation_uri': ['5e5f51d83ca0e75f33f8811727cc90e3',\n",
       "   '76defb7d20d73da27d65eb10bd976d2a'],\n",
       "  'id': 'f020439f-723d-4eec-8bec-9a9309dc1749',\n",
       "  'url': 'https://charltonchampion.co.uk/2018/07/01/rockwell-returns-controversial-charlton-riverside-scheme-to-be-heard-on-9-july/',\n",
       "  'articleid': None,\n",
       "  'previous_id': None,\n",
       "  'type': 'articles',\n",
       "  'title': 'Rockwell returns: Controversial Charlton Riverside scheme to be heard on 9 July',\n",
       "  'cleantitle': None,\n",
       "  'description': 'Plans to redevelop the VIP Trading Estate by developer Rockwell are to go before Greenwich Council’s Planning Board on Monday 9th July,\\xa0the original hearing in April being deferred until afte…',\n",
       "  'body': 'Plans to redevelop the VIP Trading Estate by developer Rockwell are to go before Greenwich Council’s Planning Board on Monday 9th July, the original hearing in April being deferred until after the local elections held in May. The plans have caused controversy over the height and density of the proposed housing, plus the level of affordable and social housing to be included in the scheme – the latest plans are for 25% of the housing to be ‘affordable’, of which 71% will be social housing. A petition raised by local residents asking Greenwich Council to enforce the terms of its own Charlton Riverside Masterplan – citing the £850,000 cost of developing the plan – had over 400 signatories at the time of writing. From The Murky Depths has taken a look at the outline plans for the £4.9 million of Section 106 payments – money paid to the council which is meant to be spent in the local area – due to come from the development. At least two local councillors have tweeted their intention to oppose the plans: Totally fail to understand why this proposal is being recommended for approval. Fails to meet the objectives of the Masterplan. Joining with residents to oppose. https://t.co/L1FBkHNnh2 — Cllr John Fahy (@Cllrjfahy) June 30, 2018 I will be opposing this application too https://t.co/GI0kXJPd25 — Gary Parker (@CllrG2013) July 1, 2018 Also due to be heard at the same planning board meeting is a request for Revocation of Hazardous Substances Consent for East Greenwich gasholder, one of the steps necessary to allow demolition of the historic structure. Labour councillors recently voted down a motion opposing demolition of the gasholder. Also on the Greenwich Peninsula, councillors will also discuss plans for a temporary 4,400-capacity concert and conference venue to be built at the north end of Tunnel Avenue. Read previous Charlton Champion coverage of the Rockwell planning application here. The Charlton Champion provides news and information about issues and events in London SE7. Help us by telling us your stories – or buy the author a coffee. Advertisements'}]"
      ]
     },
     "execution_count": 235,
     "metadata": {},
     "output_type": "execute_result"
    }
   ],
   "source": [
    "[a for a in raw_articles if \"The Charlton Champion\" == a[\"publisher\"]]"
   ]
  },
  {
   "cell_type": "code",
   "execution_count": 13,
   "metadata": {},
   "outputs": [
    {
     "data": {
      "text/plain": [
       "{'birminghammail', 'www.birminghammail.co.uk', 'www.birminghampost.co.uk'}"
      ]
     },
     "execution_count": 13,
     "metadata": {},
     "output_type": "execute_result"
    }
   ],
   "source": [
    "set([a[\"publisher\"] for a in raw_articles if \"birm\" in a[\"publisher\"].lower()])"
   ]
  },
  {
   "cell_type": "code",
   "execution_count": 15,
   "metadata": {},
   "outputs": [],
   "source": [
    "publishers = set([a[\"publisher\"] for a in raw_articles])"
   ]
  },
  {
   "cell_type": "code",
   "execution_count": 16,
   "metadata": {},
   "outputs": [],
   "source": [
    "clean_publisher_histogram = Counter()\n",
    "for i, raw_doc in enumerate(raw_articles):\n",
    "    clean_publisher_histogram[utils.clean_publisher(raw_doc[\"publisher\"])] += 1"
   ]
  },
  {
   "cell_type": "code",
   "execution_count": 238,
   "metadata": {},
   "outputs": [
    {
     "name": "stdout",
     "output_type": "stream",
     "text": [
      "384\n",
      "378\n",
      "23\n",
      "24\n"
     ]
    }
   ],
   "source": [
    "print(len(publisher_histogram))\n",
    "print(len(clean_publisher_histogram))\n",
    "n = 80\n",
    "print(len([p for p, c in publisher_histogram.items() if c > n]))\n",
    "print(len([p for p, c in clean_publisher_histogram.items() if c > n]))"
   ]
  },
  {
   "cell_type": "code",
   "execution_count": 18,
   "metadata": {},
   "outputs": [
    {
     "name": "stdout",
     "output_type": "stream",
     "text": [
      "30 most common publishers: \n",
      "birminghammail                       | count: 200\n",
      "mirror                               | count: 190\n",
      "manchestereveningnews                | count: 181\n",
      "dailyrecord                          | count: 156\n",
      "coventrytelegraph.net                | count: 156\n",
      "thecourier                           | count: 154\n",
      "liverpoolecho                        | count: 152\n",
      "thenorthernecho                      | count: 143\n",
      "easterndailypress                    | count: 131\n",
      "walesonline                          | count: 130\n",
      "heraldscotland                       | count: 128\n",
      "chroniclelive                        | count: 126\n",
      "bournemouthecho                      | count: 126\n",
      "yorkshirepost                        | count: 123\n",
      "eveningtimes                         | count: 122\n",
      "belfastlive                          | count: 119\n",
      "thestar                              | count: 106\n",
      "thisislocallondon                    | count: 98\n",
      "eastangliandailytimes                | count: 92\n",
      "yorkshireeveningpost                 | count: 90\n",
      "glasgowlive                          | count: 89\n",
      "theargus                             | count: 89\n",
      "somersetlive                         | count: 82\n",
      "oxfordmail                           | count: 81\n",
      "thisiswiltshire                      | count: 80\n",
      "theoxfordtimes                       | count: 78\n",
      "dorsetecho                           | count: 78\n",
      "coventrytelegraph                    | count: 78\n",
      "kentonline                           | count: 77\n",
      "scotsman                             | count: 74\n"
     ]
    }
   ],
   "source": [
    "\n",
    "print(f\"{c} most common publishers: \")\n",
    "for k,v in clean_publisher_histogram.most_common(c):\n",
    "    print(k.ljust(35),\" | count:\" ,v)"
   ]
  },
  {
   "cell_type": "code",
   "execution_count": 216,
   "metadata": {},
   "outputs": [
    {
     "name": "stdout",
     "output_type": "stream",
     "text": [
      "{\n",
      "    \"iid\": \"ec5c176d-ceb4-46dc-ae68-60bac4056753\",\n",
      "    \"lastModifiedTime\": 1530469114000,\n",
      "    \"publisher\": \"The Courier\",\n",
      "    \"published_time\": null,\n",
      "    \"annotation_uri\": [\n",
      "        \"f99c3a35f03a8eb7f3b0bb044b8e5506\",\n",
      "        \"5c8ad4f4220ed87d24fbdc261c243091\",\n",
      "        \"09b4a5eed6a1e20bb5b5088055163607\"\n",
      "    ],\n",
      "    \"id\": \"ec5c176d-ceb4-46dc-ae68-60bac4056753\",\n",
      "    \"url\": \"https://www.thecourier.co.uk/news/uk-world/680465/russia-fans-party-hard-after-team-knocks-spain-out-of-world-cup/\",\n",
      "    \"articleid\": null,\n",
      "    \"previous_id\": null,\n",
      "    \"type\": \"articles\",\n",
      "    \"title\": \"Russia fans party hard after team knocks Spain out of World Cup\",\n",
      "    \"cleantitle\": null,\n",
      "    \"description\": \"Russia fans wept and leapt for joy as Moscow went into meltdown after their football team knocked Spain out of the World Cup on penalties.\",\n",
      "    \"body\": \"New data has shown the Queensferry Crossing is improving the reliability of crossing the Forth. As the heatwave continues to bake many parts of the UK, zookeepers at Camperdown Wildlife Centre in Dundee are giving treats to the resident European brown bears. A Fife woman is appealing to bring to heel the thieves who made off with a pair of bronze feet from her doorstep. A Carnoustie man has paid tribute to his \\u201ccaring, loving\\u201d fiancee who died suddenly at their home at the age of 27. We\\u2019re all a-flutter here in The Courier office as the Maggie\\u2019s Penguin Parade prepares to hit the streets at the end of this week. An error has occurred while loading your details. Please click the following link to try again - if the issue persists, please don't hesitate to contact us\"\n",
      "}\n"
     ]
    }
   ],
   "source": [
    "raw_doc = raw_articles[99]\n",
    "print(pretty_dict(raw_doc))"
   ]
  },
  {
   "cell_type": "code",
   "execution_count": 21,
   "metadata": {},
   "outputs": [
    {
     "name": "stdout",
     "output_type": "stream",
     "text": [
      "0   |  www.nwemail.co.uk                    |  9764d074-d5e1-44ee-99be-4bf910d2ded3  |  Britain told it must follow EU...- The Mail\n",
      "1   |  www.rotherhamadvertiser.co.uk        |  f405538d-46a2-4edf-96cb-18e526303c19  |  Full Rotherham United 2018/19 ...xture list\n",
      "2   |  www.rotherhamadvertiser.co.uk        |  cb4bf1f6-c7dd-4ca0-848f-edf564bec04a  |  Full Rotherham United 2018/19 ...xture list\n",
      "3   |  www.rotherhamadvertiser.co.uk        |  ac8bd1b3-a021-48f2-9a7d-9fc48f5c0eda  |  Championship campaign starts a... Brentford\n",
      "4   |  www.rotherhamadvertiser.co.uk        |  1d8e6a9c-5b9f-4a2e-9765-9bee37c650a1  |  Championship campaign starts a... Brentford\n",
      "5   |  www.nwemail.co.uk                    |  c0a38821-1df3-493b-ac9f-0191e4dd4992  |  Transport Secretary Chris Gray...- The Mail\n",
      "6   |  www.timesandstar.co.uk               |  b7774edf-88dc-4dd5-90d6-8beb58c9896d  |  Transport Secretary Chris Gray...mes & Star\n",
      "7   |  www.whitehavennews.co.uk             |  46e9c8e2-1cac-4414-a302-bd13cc4407e4  |  Transport Secretary Chris Gray...d bailout'\n",
      "8   |  Eastern Daily Press                  |  67299e9e-f586-4742-bf94-032b5a4eef90  |  The Voice UK to hold more open...ffolk News\n",
      "9   |  Eastern Daily Press                  |  d2813615-1005-4600-a87d-2581a768e3db  |  WWE release sneak peek of The ...ffolk News\n",
      "10  |  Stowmarket Mercury                   |  839338d5-3046-40bd-929e-fb80e884f1be  |  Relief for rail commuters as f...arket News\n"
     ]
    }
   ],
   "source": [
    "limit = 10\n",
    "for i, raw_doc in enumerate(raw_articles):\n",
    "    print(f\"{i}\".ljust(2), \" | \", raw_doc[\"publisher\"].ljust(35), \" | \", raw_doc[\"id\"], \" | \", summarize_text(raw_doc[\"title\"]))\n",
    "    if limit and limit <= i:\n",
    "        break"
   ]
  },
  {
   "cell_type": "code",
   "execution_count": 96,
   "metadata": {},
   "outputs": [],
   "source": [
    "def extract_vector(raw_document, aggregate=False):\n",
    "    publisher = raw_document[\"publisher\"]\n",
    "    doc = nlp(html.unescape(raw_document[\"body\"]))\n",
    "    entities = []\n",
    "    vector_list = []\n",
    "    for ent in doc.ents:\n",
    "        if ent.label_ in [\"GPE\", \"ORG\", \"LOC\", \"FAC\"]: \n",
    "            entities.append((publisher, ent.text, ent.label_))\n",
    "            vector_list.append(ent.vector)\n",
    "    vectors = np.stack(vector_list)\n",
    "    if aggregate:\n",
    "        vectors = np.atleast_2d(vectors.mean(axis=0))\n",
    "        entities = [publisher]\n",
    "    return entities, vectors"
   ]
  },
  {
   "cell_type": "code",
   "execution_count": 97,
   "metadata": {},
   "outputs": [],
   "source": [
    "_, vector = extract_vector(raw_articles[0], aggregate=True)"
   ]
  },
  {
   "cell_type": "code",
   "execution_count": 99,
   "metadata": {},
   "outputs": [],
   "source": [
    "entities = []\n",
    "vector_list = []\n",
    "limit = None\n",
    "current_pub = None\n",
    "for i, raw_doc in enumerate(raw_articles):\n",
    "    # if raw_doc[\"publisher\"] != current_pub:\n",
    "    #    current_pub = raw_doc[\"publisher\"]\n",
    "        #print(current_pub)\n",
    "    doc_entities, doc_vectors = extract_vector(raw_doc, aggregate=True)\n",
    "    entities.extend(doc_entities)\n",
    "    vector_list.append(doc_vectors)\n",
    "    \n",
    "    if limit and limit <= i:\n",
    "        break\n",
    "        \n",
    "vectors = np.concatenate(vector_list, axis=0)\n"
   ]
  },
  {
   "cell_type": "code",
   "execution_count": 23,
   "metadata": {},
   "outputs": [
    {
     "data": {
      "text/plain": [
       "{'iid': '7fa1c86a-591d-46ea-a1f7-fec79e667b22',\n",
       " 'council_annotation_uri': '0280893123d7785441eff9fa1641170b',\n",
       " 'county': 'Derbyshire',\n",
       " 'local_government_area': 'City of Derby',\n",
       " 'nuts_region': 'East Midlands',\n",
       " 'lng': -1.44377,\n",
       " 'lat': 52.91562,\n",
       " 'country': 'England',\n",
       " 'name': 'Pride Park',\n",
       " 'lastModifiedTime': 1516791066877,\n",
       " 'origin_type': 'Other Settlement',\n",
       " 'annotation_uri': ['be48009bf7ec91d46983f1044db47f76'],\n",
       " 'id': 'ec79cba6-d6a6-485d-ab33-65ac0412f54b',\n",
       " 'type': 'locations',\n",
       " 'postcode_sector': 'DE24 8'}"
      ]
     },
     "execution_count": 23,
     "metadata": {},
     "output_type": "execute_result"
    }
   ],
   "source": [
    "raw_locations[0]"
   ]
  },
  {
   "cell_type": "code",
   "execution_count": 232,
   "metadata": {},
   "outputs": [
    {
     "name": "stdout",
     "output_type": "stream",
     "text": [
      "{'ArchitecturalStructure', 'NaturalPlace', 'Place', 'PeriodicalLiterature', 'Station', 'Mountain', 'ShoppingMall', 'School', 'City', 'College', 'SportsTeam', 'SiteOfSpecialScientificInterest', 'Region', 'RouteOfTransportation', 'SportFacility', 'Country', 'Infrastructure', 'Newspaper', 'BodyOfWater', 'EducationalInstitution', 'Legislature', 'Racecourse', 'Settlement', 'Hospital', 'Island', 'Village', 'MilitaryPerson', 'AdministrativeRegion', 'CricketGround', 'Park', 'PopulatedPlace', 'Saint', 'Stream', 'Lake', 'HistoricPlace', 'Venue', 'Town', 'Person', 'Organisation', 'Road', 'Location', 'Building', 'Agent', 'Holiday', 'PoliticalParty', 'River', 'MusicalWork', 'RaceTrack', 'Theatre', 'Jurisdiction>', 'Album', 'Stadium', 'SoccerClub', 'WrittenWork', 'MilitaryStructure', 'Cleric', 'HistoricBuilding', 'Work', 'Royalty', 'Company'}\n"
     ]
    }
   ],
   "source": [
    "origin_types = set()\n",
    "for annotation in raw_annotations:\n",
    "    types = annotation[\"origin_types\"] or []\n",
    "    for origin_type in types:\n",
    "        #print(origin_type)\n",
    "        origin_types.add(origin_type)\n",
    "print(origin_types)"
   ]
  },
  {
   "cell_type": "markdown",
   "metadata": {},
   "source": [
    "We're going to obtain the lat/long for each publications."
   ]
  },
  {
   "cell_type": "code",
   "execution_count": 26,
   "metadata": {},
   "outputs": [],
   "source": [
    "uri_index = utils.get_annotation_uri_index(raw_annotations, raw_locations)\n",
    "location_index = utils.get_location_index(raw_locations)"
   ]
  },
  {
   "cell_type": "code",
   "execution_count": 111,
   "metadata": {},
   "outputs": [],
   "source": [
    "pub_feature_set = []\n",
    "columns = [\"publisher\", \"lat\", \"lng\", \"origin_type\", \"name\", \"nuts_region\", \"local_government_area\", \"id\"]\n",
    "for article in raw_articles:\n",
    "    for annotation in article[\"annotation_uri\"]:\n",
    "        if annotation in uri_index.keys():\n",
    "            locations = uri_index[annotation][\"locations\"]\n",
    "            for location in locations:\n",
    "                pub_feature_set.append((utils.clean_publisher(article[\"publisher\"]),  \n",
    "                                        *(location[c] for c in columns[1:])))\n",
    "pub_feature_set = pd.DataFrame(pub_feature_set, columns=columns)"
   ]
  },
  {
   "cell_type": "code",
   "execution_count": 29,
   "metadata": {},
   "outputs": [],
   "source": [
    "birminghammail = pub_feature_set[pub_feature_set[\"publisher\"] == \"birminghammail\"]"
   ]
  },
  {
   "cell_type": "code",
   "execution_count": 31,
   "metadata": {},
   "outputs": [
    {
     "data": {
      "text/plain": [
       "array(['London', 'West Midlands', 'South West', 'South East', 'Eastern',\n",
       "       'Yorkshire and the Humber', 'East Midlands', 'North East',\n",
       "       'North West', 'Wales'], dtype=object)"
      ]
     },
     "execution_count": 31,
     "metadata": {},
     "output_type": "execute_result"
    }
   ],
   "source": [
    "birminghammail[\"nuts_region\"].unique()"
   ]
  },
  {
   "cell_type": "markdown",
   "metadata": {},
   "source": [
    "We notice that Eastern appears to map to East of England."
   ]
  },
  {
   "cell_type": "code",
   "execution_count": 34,
   "metadata": {},
   "outputs": [],
   "source": [
    "publishers = pub_feature_set[\"publisher\"].unique()\n",
    "palette = {pub: pal for pub, pal in zip(publishers, sns.palettes.color_palette(n_colors=len(publishers)))}"
   ]
  },
  {
   "cell_type": "code",
   "execution_count": 62,
   "metadata": {},
   "outputs": [
    {
     "data": {
      "text/plain": [
       "59"
      ]
     },
     "execution_count": 62,
     "metadata": {},
     "output_type": "execute_result"
    }
   ],
   "source": [
    "pub_feature_set.groupby(\"publisher\")[\"publisher\"].count()[\"dailypost\"]"
   ]
  },
  {
   "cell_type": "code",
   "execution_count": 67,
   "metadata": {},
   "outputs": [],
   "source": [
    "n = 100\n",
    "publishers.sort()\n",
    "large_publishers = publishers[pub_feature_set.groupby(\"publisher\")[\"publisher\"].count() > n]"
   ]
  },
  {
   "cell_type": "code",
   "execution_count": 112,
   "metadata": {},
   "outputs": [
    {
     "data": {
      "text/html": [
       "<div>\n",
       "<style scoped>\n",
       "    .dataframe tbody tr th:only-of-type {\n",
       "        vertical-align: middle;\n",
       "    }\n",
       "\n",
       "    .dataframe tbody tr th {\n",
       "        vertical-align: top;\n",
       "    }\n",
       "\n",
       "    .dataframe thead th {\n",
       "        text-align: right;\n",
       "    }\n",
       "</style>\n",
       "<table border=\"1\" class=\"dataframe\">\n",
       "  <thead>\n",
       "    <tr style=\"text-align: right;\">\n",
       "      <th></th>\n",
       "      <th>publisher</th>\n",
       "      <th>lat</th>\n",
       "      <th>lng</th>\n",
       "      <th>origin_type</th>\n",
       "      <th>name</th>\n",
       "      <th>nuts_region</th>\n",
       "      <th>local_government_area</th>\n",
       "      <th>id</th>\n",
       "    </tr>\n",
       "  </thead>\n",
       "  <tbody>\n",
       "    <tr>\n",
       "      <th>11182</th>\n",
       "      <td>dailyecho</td>\n",
       "      <td>50.90489</td>\n",
       "      <td>-1.40431</td>\n",
       "      <td>City</td>\n",
       "      <td>Southampton</td>\n",
       "      <td>South East</td>\n",
       "      <td>City of Southampton</td>\n",
       "      <td>55b65ad7-a954-44a0-9b2a-442505235d98</td>\n",
       "    </tr>\n",
       "    <tr>\n",
       "      <th>7428</th>\n",
       "      <td>birminghampost</td>\n",
       "      <td>52.47928</td>\n",
       "      <td>-1.90294</td>\n",
       "      <td>City</td>\n",
       "      <td>Birmingham</td>\n",
       "      <td>West Midlands</td>\n",
       "      <td>Birmingham District</td>\n",
       "      <td>fbe7bb85-5ee9-4172-955c-ec2f9b9ac3b4</td>\n",
       "    </tr>\n",
       "    <tr>\n",
       "      <th>9027</th>\n",
       "      <td>becclesandbungayjournal</td>\n",
       "      <td>52.09317</td>\n",
       "      <td>1.31873</td>\n",
       "      <td>Town</td>\n",
       "      <td>Woodbridge</td>\n",
       "      <td>Eastern</td>\n",
       "      <td>Suffolk Coastal District</td>\n",
       "      <td>35f43cdc-05ee-4ebe-ba27-a97673a9cd83</td>\n",
       "    </tr>\n",
       "    <tr>\n",
       "      <th>9758</th>\n",
       "      <td>louthleader</td>\n",
       "      <td>53.36706</td>\n",
       "      <td>-0.00394</td>\n",
       "      <td>Town</td>\n",
       "      <td>Louth</td>\n",
       "      <td>East Midlands</td>\n",
       "      <td>East Lindsey District</td>\n",
       "      <td>28b4138d-7068-472d-8a80-30ecb8367b4a</td>\n",
       "    </tr>\n",
       "    <tr>\n",
       "      <th>7249</th>\n",
       "      <td>glasgowlive</td>\n",
       "      <td>55.83772</td>\n",
       "      <td>-4.27286</td>\n",
       "      <td>Suburban Area</td>\n",
       "      <td>Strathbungo</td>\n",
       "      <td>Scotland</td>\n",
       "      <td>Glasgow City</td>\n",
       "      <td>07a6d428-b2a9-4382-9675-5fccee369607</td>\n",
       "    </tr>\n",
       "    <tr>\n",
       "      <th>4102</th>\n",
       "      <td>lancasterandmorecambecitizen</td>\n",
       "      <td>53.73106</td>\n",
       "      <td>-2.52533</td>\n",
       "      <td>Suburban Area</td>\n",
       "      <td>Cherry Tree</td>\n",
       "      <td>North West</td>\n",
       "      <td>Blackburn with Darwen</td>\n",
       "      <td>97c5d7af-8174-437a-9ddf-3418d5989c67</td>\n",
       "    </tr>\n",
       "    <tr>\n",
       "      <th>12774</th>\n",
       "      <td>lancasterandmorecambecitizen</td>\n",
       "      <td>53.88076</td>\n",
       "      <td>-2.35359</td>\n",
       "      <td>Hamlet</td>\n",
       "      <td>Worston</td>\n",
       "      <td>North West</td>\n",
       "      <td>Ribble Valley District</td>\n",
       "      <td>d508d8d0-a34e-400d-89b8-6b1c83534dcd</td>\n",
       "    </tr>\n",
       "    <tr>\n",
       "      <th>13154</th>\n",
       "      <td>northwales</td>\n",
       "      <td>53.18467</td>\n",
       "      <td>-3.02549</td>\n",
       "      <td>Village</td>\n",
       "      <td>Hawarden</td>\n",
       "      <td>Wales</td>\n",
       "      <td>Flintshire / Sir y Fflint</td>\n",
       "      <td>867a804d-c778-400b-9370-b26f5caaf08b</td>\n",
       "    </tr>\n",
       "    <tr>\n",
       "      <th>3734</th>\n",
       "      <td>southyorkshiretimes</td>\n",
       "      <td>53.51570</td>\n",
       "      <td>-1.08908</td>\n",
       "      <td>Other Settlement</td>\n",
       "      <td>Doncaster Common</td>\n",
       "      <td>Yorkshire and the Humber</td>\n",
       "      <td>Doncaster District</td>\n",
       "      <td>a02c77a8-3e7b-43fb-b706-e7191327c4bd</td>\n",
       "    </tr>\n",
       "    <tr>\n",
       "      <th>11578</th>\n",
       "      <td>wiltsandgloucestershirestandard</td>\n",
       "      <td>51.74497</td>\n",
       "      <td>-2.20745</td>\n",
       "      <td>Suburban Area</td>\n",
       "      <td>Stroud Hill</td>\n",
       "      <td>South West</td>\n",
       "      <td>Stroud District</td>\n",
       "      <td>41d429f4-aebc-492b-8460-6a2583faa6bb</td>\n",
       "    </tr>\n",
       "    <tr>\n",
       "      <th>10532</th>\n",
       "      <td>winsfordguardian</td>\n",
       "      <td>53.16416</td>\n",
       "      <td>-2.54760</td>\n",
       "      <td>Hamlet</td>\n",
       "      <td>Darnhall</td>\n",
       "      <td>North West</td>\n",
       "      <td>Cheshire West and Chester</td>\n",
       "      <td>8ba27bfd-0a3d-4528-96d9-6d896578309c</td>\n",
       "    </tr>\n",
       "    <tr>\n",
       "      <th>1732</th>\n",
       "      <td>northnorfolknews</td>\n",
       "      <td>52.67960</td>\n",
       "      <td>1.19465</td>\n",
       "      <td>Other Settlement</td>\n",
       "      <td>Taverham</td>\n",
       "      <td>Eastern</td>\n",
       "      <td>Broadland District</td>\n",
       "      <td>b044f165-930c-437a-b658-83a1be0c50aa</td>\n",
       "    </tr>\n",
       "    <tr>\n",
       "      <th>8718</th>\n",
       "      <td>ripleyandheanornews</td>\n",
       "      <td>53.13185</td>\n",
       "      <td>-1.56055</td>\n",
       "      <td>Other Settlement</td>\n",
       "      <td>Matlock Bridge</td>\n",
       "      <td>East Midlands</td>\n",
       "      <td>Derbyshire Dales District</td>\n",
       "      <td>5f48274a-edcb-435d-852b-cd5905505b1d</td>\n",
       "    </tr>\n",
       "    <tr>\n",
       "      <th>6736</th>\n",
       "      <td>scotsman</td>\n",
       "      <td>55.78996</td>\n",
       "      <td>-3.99357</td>\n",
       "      <td>Town</td>\n",
       "      <td>Motherwell</td>\n",
       "      <td>Scotland</td>\n",
       "      <td>North Lanarkshire</td>\n",
       "      <td>3a6d9313-e36b-4ecb-9a43-338a77b848d5</td>\n",
       "    </tr>\n",
       "    <tr>\n",
       "      <th>6007</th>\n",
       "      <td>theresident</td>\n",
       "      <td>51.50361</td>\n",
       "      <td>-0.01833</td>\n",
       "      <td>Suburban Area</td>\n",
       "      <td>Canary Wharf</td>\n",
       "      <td>London</td>\n",
       "      <td>Tower Hamlets</td>\n",
       "      <td>4cafe1b7-8b0e-4612-bba1-804178d80dd9</td>\n",
       "    </tr>\n",
       "    <tr>\n",
       "      <th>5493</th>\n",
       "      <td>doncasterfreepress</td>\n",
       "      <td>53.51570</td>\n",
       "      <td>-1.08908</td>\n",
       "      <td>Other Settlement</td>\n",
       "      <td>Doncaster Common</td>\n",
       "      <td>Yorkshire and the Humber</td>\n",
       "      <td>Doncaster District</td>\n",
       "      <td>a02c77a8-3e7b-43fb-b706-e7191327c4bd</td>\n",
       "    </tr>\n",
       "    <tr>\n",
       "      <th>1313</th>\n",
       "      <td>liverpoolecho</td>\n",
       "      <td>53.60430</td>\n",
       "      <td>-3.06690</td>\n",
       "      <td>Other Settlement</td>\n",
       "      <td>Ainsdale-on-Sea</td>\n",
       "      <td>North West</td>\n",
       "      <td>Sefton District</td>\n",
       "      <td>1fac974b-f3be-4187-9705-3814286f670d</td>\n",
       "    </tr>\n",
       "    <tr>\n",
       "      <th>11931</th>\n",
       "      <td>braintreeandwithamtimes</td>\n",
       "      <td>51.89163</td>\n",
       "      <td>0.55544</td>\n",
       "      <td>Suburban Area</td>\n",
       "      <td>Bocking</td>\n",
       "      <td>Eastern</td>\n",
       "      <td>Braintree District</td>\n",
       "      <td>ab753266-2c1d-44f4-b9fb-f168622b8da4</td>\n",
       "    </tr>\n",
       "    <tr>\n",
       "      <th>3599</th>\n",
       "      <td>cambridge-news</td>\n",
       "      <td>52.07736</td>\n",
       "      <td>-0.05880</td>\n",
       "      <td>Village</td>\n",
       "      <td>Bassingbourn</td>\n",
       "      <td>Eastern</td>\n",
       "      <td>South Cambridgeshire District</td>\n",
       "      <td>0b58696d-5d73-4e2a-bd5a-3be7ab4079d4</td>\n",
       "    </tr>\n",
       "    <tr>\n",
       "      <th>3211</th>\n",
       "      <td>keighleynews</td>\n",
       "      <td>53.83152</td>\n",
       "      <td>-1.95599</td>\n",
       "      <td>Village</td>\n",
       "      <td>Haworth</td>\n",
       "      <td>Yorkshire and the Humber</td>\n",
       "      <td>Bradford District</td>\n",
       "      <td>0ad2f508-3917-4676-a001-26cce1b058c7</td>\n",
       "    </tr>\n",
       "    <tr>\n",
       "      <th>6503</th>\n",
       "      <td>eveningtimes</td>\n",
       "      <td>55.91017</td>\n",
       "      <td>-4.39178</td>\n",
       "      <td>Suburban Area</td>\n",
       "      <td>Drumry</td>\n",
       "      <td>Scotland</td>\n",
       "      <td>West Dunbartonshire</td>\n",
       "      <td>64636a1f-bc61-4697-ab8d-aa8b2100251b</td>\n",
       "    </tr>\n",
       "    <tr>\n",
       "      <th>6504</th>\n",
       "      <td>eveningtimes</td>\n",
       "      <td>55.91302</td>\n",
       "      <td>-4.42395</td>\n",
       "      <td>Suburban Area</td>\n",
       "      <td>Dalmuir</td>\n",
       "      <td>Scotland</td>\n",
       "      <td>West Dunbartonshire</td>\n",
       "      <td>f8c1d7cd-4fa7-4cb8-b0b4-c96685119f0c</td>\n",
       "    </tr>\n",
       "    <tr>\n",
       "      <th>6556</th>\n",
       "      <td>derbyshiretimes</td>\n",
       "      <td>53.14084</td>\n",
       "      <td>-1.56046</td>\n",
       "      <td>Other Settlement</td>\n",
       "      <td>Matlock Bank</td>\n",
       "      <td>East Midlands</td>\n",
       "      <td>Derbyshire Dales District</td>\n",
       "      <td>fd080da6-e3c5-47a6-8804-7510b3f1ee90</td>\n",
       "    </tr>\n",
       "    <tr>\n",
       "      <th>10188</th>\n",
       "      <td>fifetoday</td>\n",
       "      <td>56.13289</td>\n",
       "      <td>-3.17535</td>\n",
       "      <td>Suburban Area</td>\n",
       "      <td>Dunnikier</td>\n",
       "      <td>Scotland</td>\n",
       "      <td>Fife</td>\n",
       "      <td>571be03a-bebc-4aad-b7b1-b7c17c2804ef</td>\n",
       "    </tr>\n",
       "    <tr>\n",
       "      <th>7036</th>\n",
       "      <td>somersetcountygazette</td>\n",
       "      <td>51.03679</td>\n",
       "      <td>-3.06383</td>\n",
       "      <td>Village</td>\n",
       "      <td>Monkton Heathfield</td>\n",
       "      <td>South West</td>\n",
       "      <td>Taunton Deane District</td>\n",
       "      <td>9bf53a8b-2b18-40ad-b2f7-fa5c02b2f5e6</td>\n",
       "    </tr>\n",
       "    <tr>\n",
       "      <th>12323</th>\n",
       "      <td>bexhillobserver.net</td>\n",
       "      <td>50.79446</td>\n",
       "      <td>-1.12271</td>\n",
       "      <td>Town</td>\n",
       "      <td>Gosport</td>\n",
       "      <td>South East</td>\n",
       "      <td>Gosport District</td>\n",
       "      <td>beaceea3-44ed-4f6a-9d35-c32a36b3c969</td>\n",
       "    </tr>\n",
       "    <tr>\n",
       "      <th>426</th>\n",
       "      <td>dailyrecord</td>\n",
       "      <td>55.85915</td>\n",
       "      <td>-4.42499</td>\n",
       "      <td>Suburban Area</td>\n",
       "      <td>Gockston</td>\n",
       "      <td>Scotland</td>\n",
       "      <td>Renfrewshire</td>\n",
       "      <td>14ee1e37-7f38-465e-9ed3-e3691d371146</td>\n",
       "    </tr>\n",
       "    <tr>\n",
       "      <th>7830</th>\n",
       "      <td>ledburyreporter</td>\n",
       "      <td>53.19987</td>\n",
       "      <td>-1.50023</td>\n",
       "      <td>Other Settlement</td>\n",
       "      <td>Stone Edge</td>\n",
       "      <td>East Midlands</td>\n",
       "      <td>North East Derbyshire District</td>\n",
       "      <td>fce2133e-c1e2-4c11-be26-ee60602ae06f</td>\n",
       "    </tr>\n",
       "    <tr>\n",
       "      <th>7163</th>\n",
       "      <td>theargus</td>\n",
       "      <td>50.90371</td>\n",
       "      <td>0.04624</td>\n",
       "      <td>Hamlet</td>\n",
       "      <td>Upper Wellingham</td>\n",
       "      <td>South East</td>\n",
       "      <td>Lewes District</td>\n",
       "      <td>818e60c2-6d63-45d5-8dd2-de29cd85fd9b</td>\n",
       "    </tr>\n",
       "    <tr>\n",
       "      <th>11635</th>\n",
       "      <td>droitwichadvertiser</td>\n",
       "      <td>52.39210</td>\n",
       "      <td>-2.11868</td>\n",
       "      <td>Village</td>\n",
       "      <td>Belbroughton</td>\n",
       "      <td>West Midlands</td>\n",
       "      <td>Bromsgrove District</td>\n",
       "      <td>6a7dfe0a-4009-4f67-8ba8-78760e1e3be8</td>\n",
       "    </tr>\n",
       "  </tbody>\n",
       "</table>\n",
       "</div>"
      ],
      "text/plain": [
       "                             publisher       lat      lng       origin_type  \\\n",
       "11182                        dailyecho  50.90489 -1.40431              City   \n",
       "7428                    birminghampost  52.47928 -1.90294              City   \n",
       "9027           becclesandbungayjournal  52.09317  1.31873              Town   \n",
       "9758                       louthleader  53.36706 -0.00394              Town   \n",
       "7249                       glasgowlive  55.83772 -4.27286     Suburban Area   \n",
       "4102      lancasterandmorecambecitizen  53.73106 -2.52533     Suburban Area   \n",
       "12774     lancasterandmorecambecitizen  53.88076 -2.35359            Hamlet   \n",
       "13154                       northwales  53.18467 -3.02549           Village   \n",
       "3734               southyorkshiretimes  53.51570 -1.08908  Other Settlement   \n",
       "11578  wiltsandgloucestershirestandard  51.74497 -2.20745     Suburban Area   \n",
       "10532                 winsfordguardian  53.16416 -2.54760            Hamlet   \n",
       "1732                  northnorfolknews  52.67960  1.19465  Other Settlement   \n",
       "8718               ripleyandheanornews  53.13185 -1.56055  Other Settlement   \n",
       "6736                          scotsman  55.78996 -3.99357              Town   \n",
       "6007                       theresident  51.50361 -0.01833     Suburban Area   \n",
       "5493                doncasterfreepress  53.51570 -1.08908  Other Settlement   \n",
       "1313                     liverpoolecho  53.60430 -3.06690  Other Settlement   \n",
       "11931          braintreeandwithamtimes  51.89163  0.55544     Suburban Area   \n",
       "3599                    cambridge-news  52.07736 -0.05880           Village   \n",
       "3211                      keighleynews  53.83152 -1.95599           Village   \n",
       "6503                      eveningtimes  55.91017 -4.39178     Suburban Area   \n",
       "6504                      eveningtimes  55.91302 -4.42395     Suburban Area   \n",
       "6556                   derbyshiretimes  53.14084 -1.56046  Other Settlement   \n",
       "10188                        fifetoday  56.13289 -3.17535     Suburban Area   \n",
       "7036             somersetcountygazette  51.03679 -3.06383           Village   \n",
       "12323              bexhillobserver.net  50.79446 -1.12271              Town   \n",
       "426                        dailyrecord  55.85915 -4.42499     Suburban Area   \n",
       "7830                   ledburyreporter  53.19987 -1.50023  Other Settlement   \n",
       "7163                          theargus  50.90371  0.04624            Hamlet   \n",
       "11635              droitwichadvertiser  52.39210 -2.11868           Village   \n",
       "\n",
       "                     name               nuts_region  \\\n",
       "11182         Southampton                South East   \n",
       "7428           Birmingham             West Midlands   \n",
       "9027           Woodbridge                   Eastern   \n",
       "9758                Louth             East Midlands   \n",
       "7249          Strathbungo                  Scotland   \n",
       "4102          Cherry Tree                North West   \n",
       "12774             Worston                North West   \n",
       "13154            Hawarden                     Wales   \n",
       "3734     Doncaster Common  Yorkshire and the Humber   \n",
       "11578         Stroud Hill                South West   \n",
       "10532            Darnhall                North West   \n",
       "1732             Taverham                   Eastern   \n",
       "8718       Matlock Bridge             East Midlands   \n",
       "6736           Motherwell                  Scotland   \n",
       "6007         Canary Wharf                    London   \n",
       "5493     Doncaster Common  Yorkshire and the Humber   \n",
       "1313      Ainsdale-on-Sea                North West   \n",
       "11931             Bocking                   Eastern   \n",
       "3599         Bassingbourn                   Eastern   \n",
       "3211              Haworth  Yorkshire and the Humber   \n",
       "6503               Drumry                  Scotland   \n",
       "6504              Dalmuir                  Scotland   \n",
       "6556         Matlock Bank             East Midlands   \n",
       "10188           Dunnikier                  Scotland   \n",
       "7036   Monkton Heathfield                South West   \n",
       "12323             Gosport                South East   \n",
       "426              Gockston                  Scotland   \n",
       "7830           Stone Edge             East Midlands   \n",
       "7163     Upper Wellingham                South East   \n",
       "11635        Belbroughton             West Midlands   \n",
       "\n",
       "                local_government_area                                    id  \n",
       "11182             City of Southampton  55b65ad7-a954-44a0-9b2a-442505235d98  \n",
       "7428              Birmingham District  fbe7bb85-5ee9-4172-955c-ec2f9b9ac3b4  \n",
       "9027         Suffolk Coastal District  35f43cdc-05ee-4ebe-ba27-a97673a9cd83  \n",
       "9758            East Lindsey District  28b4138d-7068-472d-8a80-30ecb8367b4a  \n",
       "7249                     Glasgow City  07a6d428-b2a9-4382-9675-5fccee369607  \n",
       "4102            Blackburn with Darwen  97c5d7af-8174-437a-9ddf-3418d5989c67  \n",
       "12774          Ribble Valley District  d508d8d0-a34e-400d-89b8-6b1c83534dcd  \n",
       "13154       Flintshire / Sir y Fflint  867a804d-c778-400b-9370-b26f5caaf08b  \n",
       "3734               Doncaster District  a02c77a8-3e7b-43fb-b706-e7191327c4bd  \n",
       "11578                 Stroud District  41d429f4-aebc-492b-8460-6a2583faa6bb  \n",
       "10532       Cheshire West and Chester  8ba27bfd-0a3d-4528-96d9-6d896578309c  \n",
       "1732               Broadland District  b044f165-930c-437a-b658-83a1be0c50aa  \n",
       "8718        Derbyshire Dales District  5f48274a-edcb-435d-852b-cd5905505b1d  \n",
       "6736                North Lanarkshire  3a6d9313-e36b-4ecb-9a43-338a77b848d5  \n",
       "6007                    Tower Hamlets  4cafe1b7-8b0e-4612-bba1-804178d80dd9  \n",
       "5493               Doncaster District  a02c77a8-3e7b-43fb-b706-e7191327c4bd  \n",
       "1313                  Sefton District  1fac974b-f3be-4187-9705-3814286f670d  \n",
       "11931              Braintree District  ab753266-2c1d-44f4-b9fb-f168622b8da4  \n",
       "3599    South Cambridgeshire District  0b58696d-5d73-4e2a-bd5a-3be7ab4079d4  \n",
       "3211                Bradford District  0ad2f508-3917-4676-a001-26cce1b058c7  \n",
       "6503              West Dunbartonshire  64636a1f-bc61-4697-ab8d-aa8b2100251b  \n",
       "6504              West Dunbartonshire  f8c1d7cd-4fa7-4cb8-b0b4-c96685119f0c  \n",
       "6556        Derbyshire Dales District  fd080da6-e3c5-47a6-8804-7510b3f1ee90  \n",
       "10188                            Fife  571be03a-bebc-4aad-b7b1-b7c17c2804ef  \n",
       "7036           Taunton Deane District  9bf53a8b-2b18-40ad-b2f7-fa5c02b2f5e6  \n",
       "12323                Gosport District  beaceea3-44ed-4f6a-9d35-c32a36b3c969  \n",
       "426                      Renfrewshire  14ee1e37-7f38-465e-9ed3-e3691d371146  \n",
       "7830   North East Derbyshire District  fce2133e-c1e2-4c11-be26-ee60602ae06f  \n",
       "7163                   Lewes District  818e60c2-6d63-45d5-8dd2-de29cd85fd9b  \n",
       "11635             Bromsgrove District  6a7dfe0a-4009-4f67-8ba8-78760e1e3be8  "
      ]
     },
     "execution_count": 112,
     "metadata": {},
     "output_type": "execute_result"
    }
   ],
   "source": [
    "pub_feature_set.sample(30)"
   ]
  },
  {
   "cell_type": "code",
   "execution_count": 70,
   "metadata": {},
   "outputs": [
    {
     "data": {
      "text/plain": [
       "array(['belfastlive', 'birminghammail', 'blackpoolgazette',\n",
       "       'bournemouthecho', 'chroniclelive', 'coventrytelegraph.net',\n",
       "       'dailyrecord', 'devonlive', 'eastangliandailytimes',\n",
       "       'easterndailypress', 'gazettelive', 'getsurrey', 'glasgowlive',\n",
       "       'inyourarea', 'lep', 'liverpoolecho', 'manchestereveningnews',\n",
       "       'mirror', 'plymouthherald', 'somersetlive', 'theargus',\n",
       "       'thenorthernecho', 'thestar', 'thisislocallondon', 'walesonline',\n",
       "       'yorkshirepost'], dtype=object)"
      ]
     },
     "execution_count": 70,
     "metadata": {},
     "output_type": "execute_result"
    }
   ],
   "source": [
    "large_publishers"
   ]
  },
  {
   "cell_type": "code",
   "execution_count": 278,
   "metadata": {},
   "outputs": [
    {
     "data": {
      "image/png": "[encoded data removed]",
      "text/plain": [
       "<Figure size 432x288 with 1 Axes>"
      ]
     },
     "metadata": {},
     "output_type": "display_data"
    }
   ],
   "source": [
    "for pub in large_publishers:\n",
    "    features = pub_feature_set[pub_feature_set[\"publisher\"] == pub]\n",
    "    color_map = [palette[p] for p in features[\"publisher\"]]\n",
    "    plt.scatter(features[\"lng\"], features[\"lat\"], color=color_map);\n"
   ]
  },
  {
   "cell_type": "code",
   "execution_count": 72,
   "metadata": {},
   "outputs": [],
   "source": [
    "geolocator = geopy.Nominatim()"
   ]
  },
  {
   "cell_type": "code",
   "execution_count": 75,
   "metadata": {},
   "outputs": [
    {
     "data": {
      "text/plain": [
       "Location(West Midlands, Moyses Croft, Sandwell, West Midlands Combined Authority, West Midlands, England, B16, UK, (52.5050033, -1.96439612333127, 0.0))"
      ]
     },
     "execution_count": 75,
     "metadata": {},
     "output_type": "execute_result"
    }
   ],
   "source": [
    "geolocator.geocode(\"West Midlands\")"
   ]
  },
  {
   "cell_type": "code",
   "execution_count": 234,
   "metadata": {},
   "outputs": [
    {
     "data": {
      "text/html": [
       "<div>\n",
       "<style scoped>\n",
       "    .dataframe tbody tr th:only-of-type {\n",
       "        vertical-align: middle;\n",
       "    }\n",
       "\n",
       "    .dataframe tbody tr th {\n",
       "        vertical-align: top;\n",
       "    }\n",
       "\n",
       "    .dataframe thead th {\n",
       "        text-align: right;\n",
       "    }\n",
       "</style>\n",
       "<table border=\"1\" class=\"dataframe\">\n",
       "  <thead>\n",
       "    <tr style=\"text-align: right;\">\n",
       "      <th></th>\n",
       "      <th>publisher</th>\n",
       "      <th>lat</th>\n",
       "      <th>lng</th>\n",
       "      <th>origin_type</th>\n",
       "      <th>name</th>\n",
       "      <th>nuts_region</th>\n",
       "      <th>local_government_area</th>\n",
       "      <th>id</th>\n",
       "    </tr>\n",
       "  </thead>\n",
       "  <tbody>\n",
       "    <tr>\n",
       "      <th>711</th>\n",
       "      <td>birminghammail</td>\n",
       "      <td>52.32330</td>\n",
       "      <td>-1.66969</td>\n",
       "      <td>Village</td>\n",
       "      <td>Five Ways</td>\n",
       "      <td>West Midlands</td>\n",
       "      <td>Warwick District</td>\n",
       "      <td>2c293a16-dbb6-4dac-8641-ffc9d34f2031</td>\n",
       "    </tr>\n",
       "    <tr>\n",
       "      <th>923</th>\n",
       "      <td>birminghammail</td>\n",
       "      <td>52.47457</td>\n",
       "      <td>-1.84836</td>\n",
       "      <td>Suburban Area</td>\n",
       "      <td>Bordesley Green</td>\n",
       "      <td>West Midlands</td>\n",
       "      <td>Birmingham District</td>\n",
       "      <td>ee92b158-ebcb-4433-8c44-2bca0f599933</td>\n",
       "    </tr>\n",
       "    <tr>\n",
       "      <th>2267</th>\n",
       "      <td>birminghammail</td>\n",
       "      <td>52.39672</td>\n",
       "      <td>-1.98450</td>\n",
       "      <td>Suburban Area</td>\n",
       "      <td>Longbridge</td>\n",
       "      <td>West Midlands</td>\n",
       "      <td>Birmingham District</td>\n",
       "      <td>c8e557da-befa-4e7c-a67c-37946ba1fac1</td>\n",
       "    </tr>\n",
       "    <tr>\n",
       "      <th>1411</th>\n",
       "      <td>birminghammail</td>\n",
       "      <td>52.47928</td>\n",
       "      <td>-1.90294</td>\n",
       "      <td>City</td>\n",
       "      <td>Birmingham</td>\n",
       "      <td>West Midlands</td>\n",
       "      <td>Birmingham District</td>\n",
       "      <td>fbe7bb85-5ee9-4172-955c-ec2f9b9ac3b4</td>\n",
       "    </tr>\n",
       "    <tr>\n",
       "      <th>8473</th>\n",
       "      <td>birminghammail</td>\n",
       "      <td>52.54124</td>\n",
       "      <td>-2.03975</td>\n",
       "      <td>Town</td>\n",
       "      <td>Tipton</td>\n",
       "      <td>West Midlands</td>\n",
       "      <td>Sandwell District</td>\n",
       "      <td>3fa96e29-6102-4008-b262-fc7380994b25</td>\n",
       "    </tr>\n",
       "  </tbody>\n",
       "</table>\n",
       "</div>"
      ],
      "text/plain": [
       "           publisher       lat      lng    origin_type             name  \\\n",
       "711   birminghammail  52.32330 -1.66969        Village        Five Ways   \n",
       "923   birminghammail  52.47457 -1.84836  Suburban Area  Bordesley Green   \n",
       "2267  birminghammail  52.39672 -1.98450  Suburban Area       Longbridge   \n",
       "1411  birminghammail  52.47928 -1.90294           City       Birmingham   \n",
       "8473  birminghammail  52.54124 -2.03975           Town           Tipton   \n",
       "\n",
       "        nuts_region local_government_area  \\\n",
       "711   West Midlands      Warwick District   \n",
       "923   West Midlands   Birmingham District   \n",
       "2267  West Midlands   Birmingham District   \n",
       "1411  West Midlands   Birmingham District   \n",
       "8473  West Midlands     Sandwell District   \n",
       "\n",
       "                                        id  \n",
       "711   2c293a16-dbb6-4dac-8641-ffc9d34f2031  \n",
       "923   ee92b158-ebcb-4433-8c44-2bca0f599933  \n",
       "2267  c8e557da-befa-4e7c-a67c-37946ba1fac1  \n",
       "1411  fbe7bb85-5ee9-4172-955c-ec2f9b9ac3b4  \n",
       "8473  3fa96e29-6102-4008-b262-fc7380994b25  "
      ]
     },
     "execution_count": 234,
     "metadata": {},
     "output_type": "execute_result"
    }
   ],
   "source": [
    "pub = large_publishers[1]\n",
    "features = pub_feature_set[pub_feature_set[\"publisher\"] == pub]\n",
    "features.sample(5)"
   ]
  },
  {
   "cell_type": "code",
   "execution_count": 235,
   "metadata": {},
   "outputs": [],
   "source": [
    "known_ids = set(features[\"id\"].values)\n",
    "all_ids = set(location_index.keys())"
   ]
  },
  {
   "cell_type": "code",
   "execution_count": 236,
   "metadata": {},
   "outputs": [
    {
     "data": {
      "text/plain": [
       "True"
      ]
     },
     "execution_count": 236,
     "metadata": {},
     "output_type": "execute_result"
    }
   ],
   "source": [
    "'b3e85189-5e04-4436-bed6-f92a4a9cc6c9' in location_index.keys()"
   ]
  },
  {
   "cell_type": "code",
   "execution_count": 237,
   "metadata": {},
   "outputs": [],
   "source": [
    "acceptable_ids = all_ids.difference(known_ids)"
   ]
  },
  {
   "cell_type": "code",
   "execution_count": 239,
   "metadata": {},
   "outputs": [
    {
     "data": {
      "text/plain": [
       "True"
      ]
     },
     "execution_count": 239,
     "metadata": {},
     "output_type": "execute_result"
    }
   ],
   "source": [
    "len(all_ids) == len(known_ids) + len(acceptable_ids)"
   ]
  },
  {
   "cell_type": "code",
   "execution_count": 240,
   "metadata": {},
   "outputs": [],
   "source": [
    "selected_ids = random.choices(list(acceptable_ids), k=features.shape[0])"
   ]
  },
  {
   "cell_type": "code",
   "execution_count": 241,
   "metadata": {},
   "outputs": [],
   "source": [
    "def get_geoloc(selected_ids, location_index, locations):\n",
    "    geo_loc = []\n",
    "    for loc_id in selected_ids:\n",
    "        location = locations[location_index[loc_id]]\n",
    "        geo_loc.append((location[\"lat\"], location[\"lng\"], loc_id))\n",
    "    geo_loc = pd.DataFrame(geo_loc, columns=[\"lat\", \"lng\", \"id\"])\n",
    "    return geo_loc"
   ]
  },
  {
   "cell_type": "code",
   "execution_count": 242,
   "metadata": {},
   "outputs": [],
   "source": [
    "false_sample = get_geoloc(selected_ids, location_index, raw_locations)\n",
    "false_sample[\"Y\"] = 0"
   ]
  },
  {
   "cell_type": "code",
   "execution_count": 243,
   "metadata": {},
   "outputs": [],
   "source": [
    "true_sample = features[[\"lat\", \"lng\", \"id\"]].copy()\n",
    "true_sample[\"Y\"] = 1"
   ]
  },
  {
   "cell_type": "code",
   "execution_count": 244,
   "metadata": {},
   "outputs": [],
   "source": [
    "sample = pd.concat((true_sample, false_sample))"
   ]
  },
  {
   "cell_type": "code",
   "execution_count": 245,
   "metadata": {},
   "outputs": [],
   "source": [
    "clf = linear_model.LogisticRegression()"
   ]
  },
  {
   "cell_type": "code",
   "execution_count": 246,
   "metadata": {},
   "outputs": [],
   "source": [
    "train, test = model_selection.train_test_split(sample.drop(\"id\", 1), test_size=0.3)"
   ]
  },
  {
   "cell_type": "code",
   "execution_count": 247,
   "metadata": {},
   "outputs": [],
   "source": [
    "model = clf.fit(train[[\"lat\", \"lng\"]], y=train[\"Y\"])"
   ]
  },
  {
   "cell_type": "code",
   "execution_count": 248,
   "metadata": {},
   "outputs": [],
   "source": [
    "y_hat = model.predict(test[[\"lat\", \"lng\"]])"
   ]
  },
  {
   "cell_type": "code",
   "execution_count": 249,
   "metadata": {},
   "outputs": [
    {
     "data": {
      "text/plain": [
       "0.34552845528455284"
      ]
     },
     "execution_count": 249,
     "metadata": {},
     "output_type": "execute_result"
    }
   ],
   "source": [
    "metrics.accuracy_score(test[\"Y\"], y_hat)"
   ]
  },
  {
   "cell_type": "code",
   "execution_count": 250,
   "metadata": {},
   "outputs": [
    {
     "name": "stdout",
     "output_type": "stream",
     "text": [
      "             precision    recall  f1-score   support\n",
      "\n",
      "          0       0.39      0.70      0.50       117\n",
      "          1       0.08      0.02      0.04       129\n",
      "\n",
      "avg / total       0.23      0.35      0.26       246\n",
      "\n"
     ]
    }
   ],
   "source": [
    "print(metrics.classification_report(test[\"Y\"], y_hat))"
   ]
  },
  {
   "cell_type": "code",
   "execution_count": 270,
   "metadata": {},
   "outputs": [
    {
     "ename": "ValueError",
     "evalue": "not enough values to unpack (expected 2, got 1)",
     "output_type": "error",
     "traceback": [
      "\u001b[0;31m---------------------------------------------------------------------------\u001b[0m",
      "\u001b[0;31mValueError\u001b[0m                                Traceback (most recent call last)",
      "\u001b[0;32m<ipython-input-270-5d2a070723ba>\u001b[0m in \u001b[0;36m<module>\u001b[0;34m()\u001b[0m\n\u001b[1;32m     10\u001b[0m \u001b[0mX\u001b[0m \u001b[0;34m=\u001b[0m \u001b[0msample\u001b[0m\u001b[0;34m.\u001b[0m\u001b[0mdrop\u001b[0m\u001b[0;34m(\u001b[0m\u001b[0;34m\"Y\"\u001b[0m\u001b[0;34m,\u001b[0m \u001b[0maxis\u001b[0m\u001b[0;34m=\u001b[0m\u001b[0;36m1\u001b[0m\u001b[0;34m)\u001b[0m\u001b[0;34m\u001b[0m\u001b[0m\n\u001b[1;32m     11\u001b[0m \u001b[0mY\u001b[0m \u001b[0;34m=\u001b[0m \u001b[0msample\u001b[0m\u001b[0;34m[\u001b[0m\u001b[0;34m\"Y\"\u001b[0m\u001b[0;34m]\u001b[0m\u001b[0;34m\u001b[0m\u001b[0m\n\u001b[0;32m---> 12\u001b[0;31m \u001b[0;34m(\u001b[0m\u001b[0mX_train\u001b[0m\u001b[0;34m,\u001b[0m \u001b[0mY_train\u001b[0m\u001b[0;34m)\u001b[0m\u001b[0;34m,\u001b[0m \u001b[0;34m(\u001b[0m\u001b[0mX_test\u001b[0m\u001b[0;34m,\u001b[0m \u001b[0mY_test\u001b[0m\u001b[0;34m)\u001b[0m \u001b[0;34m=\u001b[0m \u001b[0mmodel_selection\u001b[0m\u001b[0;34m.\u001b[0m\u001b[0mtrain_test_split\u001b[0m\u001b[0;34m(\u001b[0m\u001b[0;34m(\u001b[0m\u001b[0mX\u001b[0m\u001b[0;34m.\u001b[0m\u001b[0mdrop\u001b[0m\u001b[0;34m(\u001b[0m\u001b[0;34m\"id\"\u001b[0m\u001b[0;34m,\u001b[0m \u001b[0;36m1\u001b[0m\u001b[0;34m)\u001b[0m\u001b[0;34m,\u001b[0m \u001b[0mY\u001b[0m\u001b[0;34m)\u001b[0m\u001b[0;34m,\u001b[0m \u001b[0mtest_size\u001b[0m\u001b[0;34m=\u001b[0m\u001b[0;36m0.3\u001b[0m\u001b[0;34m)\u001b[0m\u001b[0;34m\u001b[0m\u001b[0m\n\u001b[0m",
      "\u001b[0;31mValueError\u001b[0m: not enough values to unpack (expected 2, got 1)"
     ]
    }
   ],
   "source": [
    "    known_ids = set(features[\"id\"].values)\n",
    "    all_ids = set(location_index.keys())\n",
    "    acceptable_ids = all_ids.difference(known_ids)\n",
    "    selected_ids = random.choices(list(acceptable_ids), k=features.shape[0])\n",
    "    negative_sample = get_geoloc(selected_ids, location_index, raw_locations)\n",
    "    negative_sample[\"Y\"] = 0\n",
    "    positive_sample = features[[\"lat\", \"lng\", \"id\"]].copy()\n",
    "    positive_sample[\"Y\"] = 1\n",
    "    sample = pd.concat((positive_sample, negative_sample))\n",
    "\n",
    "    (X_train, Y_train), (X_test, Y_test) = model_selection.train_test_split((X.drop(\"id\", 1), Y), test_size=0.3)"
   ]
  },
  {
   "cell_type": "code",
   "execution_count": 274,
   "metadata": {},
   "outputs": [
    {
     "data": {
      "text/plain": [
       "\u001b[0;31mSignature:\u001b[0m \u001b[0mmodel_selection\u001b[0m\u001b[0;34m.\u001b[0m\u001b[0mtrain_test_split\u001b[0m\u001b[0;34m(\u001b[0m\u001b[0;34m*\u001b[0m\u001b[0marrays\u001b[0m\u001b[0;34m,\u001b[0m \u001b[0;34m**\u001b[0m\u001b[0moptions\u001b[0m\u001b[0;34m)\u001b[0m\u001b[0;34m\u001b[0m\u001b[0m\n",
       "\u001b[0;31mDocstring:\u001b[0m\n",
       "Split arrays or matrices into random train and test subsets\n",
       "\n",
       "Quick utility that wraps input validation and\n",
       "``next(ShuffleSplit().split(X, y))`` and application to input data\n",
       "into a single call for splitting (and optionally subsampling) data in a\n",
       "oneliner.\n",
       "\n",
       "Read more in the :ref:`User Guide <cross_validation>`.\n",
       "\n",
       "Parameters\n",
       "----------\n",
       "*arrays : sequence of indexables with same length / shape[0]\n",
       "    Allowed inputs are lists, numpy arrays, scipy-sparse\n",
       "    matrices or pandas dataframes.\n",
       "\n",
       "test_size : float, int, None, optional\n",
       "    If float, should be between 0.0 and 1.0 and represent the proportion\n",
       "    of the dataset to include in the test split. If int, represents the\n",
       "    absolute number of test samples. If None, the value is set to the\n",
       "    complement of the train size. By default, the value is set to 0.25.\n",
       "    The default will change in version 0.21. It will remain 0.25 only\n",
       "    if ``train_size`` is unspecified, otherwise it will complement\n",
       "    the specified ``train_size``.\n",
       "\n",
       "train_size : float, int, or None, default None\n",
       "    If float, should be between 0.0 and 1.0 and represent the\n",
       "    proportion of the dataset to include in the train split. If\n",
       "    int, represents the absolute number of train samples. If None,\n",
       "    the value is automatically set to the complement of the test size.\n",
       "\n",
       "random_state : int, RandomState instance or None, optional (default=None)\n",
       "    If int, random_state is the seed used by the random number generator;\n",
       "    If RandomState instance, random_state is the random number generator;\n",
       "    If None, the random number generator is the RandomState instance used\n",
       "    by `np.random`.\n",
       "\n",
       "shuffle : boolean, optional (default=True)\n",
       "    Whether or not to shuffle the data before splitting. If shuffle=False\n",
       "    then stratify must be None.\n",
       "\n",
       "stratify : array-like or None (default is None)\n",
       "    If not None, data is split in a stratified fashion, using this as\n",
       "    the class labels.\n",
       "\n",
       "Returns\n",
       "-------\n",
       "splitting : list, length=2 * len(arrays)\n",
       "    List containing train-test split of inputs.\n",
       "\n",
       "    .. versionadded:: 0.16\n",
       "        If the input is sparse, the output will be a\n",
       "        ``scipy.sparse.csr_matrix``. Else, output type is the same as the\n",
       "        input type.\n",
       "\n",
       "Examples\n",
       "--------\n",
       ">>> import numpy as np\n",
       ">>> from sklearn.model_selection import train_test_split\n",
       ">>> X, y = np.arange(10).reshape((5, 2)), range(5)\n",
       ">>> X\n",
       "array([[0, 1],\n",
       "       [2, 3],\n",
       "       [4, 5],\n",
       "       [6, 7],\n",
       "       [8, 9]])\n",
       ">>> list(y)\n",
       "[0, 1, 2, 3, 4]\n",
       "\n",
       ">>> X_train, X_test, y_train, y_test = train_test_split(\n",
       "...     X, y, test_size=0.33, random_state=42)\n",
       "...\n",
       ">>> X_train\n",
       "array([[4, 5],\n",
       "       [0, 1],\n",
       "       [6, 7]])\n",
       ">>> y_train\n",
       "[2, 0, 3]\n",
       ">>> X_test\n",
       "array([[2, 3],\n",
       "       [8, 9]])\n",
       ">>> y_test\n",
       "[1, 4]\n",
       "\n",
       ">>> train_test_split(y, shuffle=False)\n",
       "[[0, 1, 2], [3, 4]]\n",
       "\u001b[0;31mFile:\u001b[0m      ~/.local/share/virtualenvs/vagrant-gKDsaKU3/lib/python3.6/site-packages/sklearn/model_selection/_split.py\n",
       "\u001b[0;31mType:\u001b[0m      function\n"
      ]
     },
     "metadata": {},
     "output_type": "display_data"
    }
   ],
   "source": [
    " model_selection.train_test_split?"
   ]
  },
  {
   "cell_type": "code",
   "execution_count": 275,
   "metadata": {},
   "outputs": [],
   "source": [
    "def evaluate(features, clf):\n",
    "    known_ids = set(features[\"id\"].values)\n",
    "    all_ids = set(location_index.keys())\n",
    "    acceptable_ids = all_ids.difference(known_ids)\n",
    "    selected_ids = random.choices(list(acceptable_ids), k=features.shape[0])\n",
    "    negative_sample = get_geoloc(selected_ids, location_index, raw_locations)\n",
    "    negative_sample[\"Y\"] = 0\n",
    "    positive_sample = features[[\"lat\", \"lng\", \"id\"]].copy()\n",
    "    positive_sample[\"Y\"] = 1\n",
    "    sample = pd.concat((positive_sample, negative_sample))\n",
    "    X = sample.drop(\"Y\", axis=1)\n",
    "    Y = sample[\"Y\"]\n",
    "    train, test = model_selection.train_test_split(sample.drop(\"id\", 1), test_size=0.3)\n",
    "    model = clf.fit(train[[\"lat\", \"lng\"]], y=train[\"Y\"])\n",
    "    y_hat = model.predict(test[[\"lat\", \"lng\"]])\n",
    "    print(metrics.confusion_matrix(test[\"Y\"], y_hat))\n",
    "    print(metrics.classification_report(test[\"Y\"], y_hat))"
   ]
  },
  {
   "cell_type": "code",
   "execution_count": 290,
   "metadata": {},
   "outputs": [
    {
     "name": "stdout",
     "output_type": "stream",
     "text": [
      "---------------------------------------------\n",
      "Publisher: belfastlive\n",
      "[[35  0]\n",
      " [ 5 26]]\n",
      "             precision    recall  f1-score   support\n",
      "\n",
      "          0       0.88      1.00      0.93        35\n",
      "          1       1.00      0.84      0.91        31\n",
      "\n",
      "avg / total       0.93      0.92      0.92        66\n",
      "\n",
      "---------------------------------------------\n",
      "Publisher: birminghammail\n",
      "[[117   2]\n",
      " [ 16 111]]\n",
      "             precision    recall  f1-score   support\n",
      "\n",
      "          0       0.88      0.98      0.93       119\n",
      "          1       0.98      0.87      0.92       127\n",
      "\n",
      "avg / total       0.93      0.93      0.93       246\n",
      "\n",
      "---------------------------------------------\n",
      "Publisher: blackpoolgazette\n",
      "[[37  8]\n",
      " [ 5 28]]\n",
      "             precision    recall  f1-score   support\n",
      "\n",
      "          0       0.88      0.82      0.85        45\n",
      "          1       0.78      0.85      0.81        33\n",
      "\n",
      "avg / total       0.84      0.83      0.83        78\n",
      "\n",
      "---------------------------------------------\n",
      "Publisher: bournemouthecho\n",
      "[[65  1]\n",
      " [ 8 60]]\n",
      "             precision    recall  f1-score   support\n",
      "\n",
      "          0       0.89      0.98      0.94        66\n",
      "          1       0.98      0.88      0.93        68\n",
      "\n",
      "avg / total       0.94      0.93      0.93       134\n",
      "\n",
      "---------------------------------------------\n",
      "Publisher: chroniclelive\n",
      "[[71  2]\n",
      " [ 4 54]]\n",
      "             precision    recall  f1-score   support\n",
      "\n",
      "          0       0.95      0.97      0.96        73\n",
      "          1       0.96      0.93      0.95        58\n",
      "\n",
      "avg / total       0.95      0.95      0.95       131\n",
      "\n",
      "---------------------------------------------\n",
      "Publisher: coventrytelegraph.net\n",
      "[[61  2]\n",
      " [10 44]]\n",
      "             precision    recall  f1-score   support\n",
      "\n",
      "          0       0.86      0.97      0.91        63\n",
      "          1       0.96      0.81      0.88        54\n",
      "\n",
      "avg / total       0.90      0.90      0.90       117\n",
      "\n",
      "---------------------------------------------\n",
      "Publisher: dailyrecord\n",
      "[[45  6]\n",
      " [ 6 44]]\n",
      "             precision    recall  f1-score   support\n",
      "\n",
      "          0       0.88      0.88      0.88        51\n",
      "          1       0.88      0.88      0.88        50\n",
      "\n",
      "avg / total       0.88      0.88      0.88       101\n",
      "\n",
      "---------------------------------------------\n",
      "Publisher: devonlive\n",
      "[[47  3]\n",
      " [ 3 45]]\n",
      "             precision    recall  f1-score   support\n",
      "\n",
      "          0       0.94      0.94      0.94        50\n",
      "          1       0.94      0.94      0.94        48\n",
      "\n",
      "avg / total       0.94      0.94      0.94        98\n",
      "\n",
      "---------------------------------------------\n",
      "Publisher: eastangliandailytimes\n",
      "[[31  7]\n",
      " [ 0 35]]\n",
      "             precision    recall  f1-score   support\n",
      "\n",
      "          0       1.00      0.82      0.90        38\n",
      "          1       0.83      1.00      0.91        35\n",
      "\n",
      "avg / total       0.92      0.90      0.90        73\n",
      "\n",
      "---------------------------------------------\n",
      "Publisher: easterndailypress\n",
      "[[53  2]\n",
      " [ 1 58]]\n",
      "             precision    recall  f1-score   support\n",
      "\n",
      "          0       0.98      0.96      0.97        55\n",
      "          1       0.97      0.98      0.97        59\n",
      "\n",
      "avg / total       0.97      0.97      0.97       114\n",
      "\n",
      "---------------------------------------------\n",
      "Publisher: gazettelive\n",
      "[[36  2]\n",
      " [ 3 37]]\n",
      "             precision    recall  f1-score   support\n",
      "\n",
      "          0       0.92      0.95      0.94        38\n",
      "          1       0.95      0.93      0.94        40\n",
      "\n",
      "avg / total       0.94      0.94      0.94        78\n",
      "\n",
      "---------------------------------------------\n",
      "Publisher: getsurrey\n",
      "[[48 11]\n",
      " [ 2 50]]\n",
      "             precision    recall  f1-score   support\n",
      "\n",
      "          0       0.96      0.81      0.88        59\n",
      "          1       0.82      0.96      0.88        52\n",
      "\n",
      "avg / total       0.89      0.88      0.88       111\n",
      "\n",
      "---------------------------------------------\n",
      "Publisher: glasgowlive\n",
      "[[22  2]\n",
      " [ 0 39]]\n",
      "             precision    recall  f1-score   support\n",
      "\n",
      "          0       1.00      0.92      0.96        24\n",
      "          1       0.95      1.00      0.97        39\n",
      "\n",
      "avg / total       0.97      0.97      0.97        63\n",
      "\n",
      "---------------------------------------------\n",
      "Publisher: inyourarea\n",
      "[[37  6]\n",
      " [ 0 35]]\n",
      "             precision    recall  f1-score   support\n",
      "\n",
      "          0       1.00      0.86      0.92        43\n",
      "          1       0.85      1.00      0.92        35\n",
      "\n",
      "avg / total       0.93      0.92      0.92        78\n",
      "\n",
      "---------------------------------------------\n",
      "Publisher: lep\n",
      "[[35  3]\n",
      " [ 2 40]]\n",
      "             precision    recall  f1-score   support\n",
      "\n",
      "          0       0.95      0.92      0.93        38\n",
      "          1       0.93      0.95      0.94        42\n",
      "\n",
      "avg / total       0.94      0.94      0.94        80\n",
      "\n",
      "---------------------------------------------\n",
      "Publisher: liverpoolecho\n",
      "[[45  0]\n",
      " [ 0 66]]\n",
      "             precision    recall  f1-score   support\n",
      "\n",
      "          0       1.00      1.00      1.00        45\n",
      "          1       1.00      1.00      1.00        66\n",
      "\n",
      "avg / total       1.00      1.00      1.00       111\n",
      "\n",
      "---------------------------------------------\n",
      "Publisher: manchestereveningnews\n",
      "[[37  5]\n",
      " [ 5 28]]\n",
      "             precision    recall  f1-score   support\n",
      "\n",
      "          0       0.88      0.88      0.88        42\n",
      "          1       0.85      0.85      0.85        33\n",
      "\n",
      "avg / total       0.87      0.87      0.87        75\n",
      "\n",
      "---------------------------------------------\n",
      "Publisher: mirror\n",
      "[[26 25]\n",
      " [30 39]]\n",
      "             precision    recall  f1-score   support\n",
      "\n",
      "          0       0.46      0.51      0.49        51\n",
      "          1       0.61      0.57      0.59        69\n",
      "\n",
      "avg / total       0.55      0.54      0.54       120\n",
      "\n",
      "---------------------------------------------\n",
      "Publisher: plymouthherald\n",
      "[[41  1]\n",
      " [ 1 41]]\n",
      "             precision    recall  f1-score   support\n",
      "\n",
      "          0       0.98      0.98      0.98        42\n",
      "          1       0.98      0.98      0.98        42\n",
      "\n",
      "avg / total       0.98      0.98      0.98        84\n",
      "\n",
      "---------------------------------------------\n",
      "Publisher: somersetlive\n",
      "[[48  4]\n",
      " [ 1 55]]\n",
      "             precision    recall  f1-score   support\n",
      "\n",
      "          0       0.98      0.92      0.95        52\n",
      "          1       0.93      0.98      0.96        56\n",
      "\n",
      "avg / total       0.96      0.95      0.95       108\n",
      "\n",
      "---------------------------------------------\n",
      "Publisher: theargus\n",
      "[[42  4]\n",
      " [ 2 44]]\n",
      "             precision    recall  f1-score   support\n",
      "\n",
      "          0       0.95      0.91      0.93        46\n",
      "          1       0.92      0.96      0.94        46\n",
      "\n",
      "avg / total       0.94      0.93      0.93        92\n",
      "\n",
      "---------------------------------------------\n",
      "Publisher: thenorthernecho\n",
      "[[68  4]\n",
      " [ 2 58]]\n",
      "             precision    recall  f1-score   support\n",
      "\n",
      "          0       0.97      0.94      0.96        72\n",
      "          1       0.94      0.97      0.95        60\n",
      "\n",
      "avg / total       0.96      0.95      0.95       132\n",
      "\n",
      "---------------------------------------------\n",
      "Publisher: thestar\n",
      "[[49  5]\n",
      " [ 0 45]]\n",
      "             precision    recall  f1-score   support\n",
      "\n",
      "          0       1.00      0.91      0.95        54\n",
      "          1       0.90      1.00      0.95        45\n",
      "\n",
      "avg / total       0.95      0.95      0.95        99\n",
      "\n",
      "---------------------------------------------\n",
      "Publisher: thisislocallondon\n",
      "[[35  8]\n",
      " [ 2 50]]\n",
      "             precision    recall  f1-score   support\n",
      "\n",
      "          0       0.95      0.81      0.88        43\n",
      "          1       0.86      0.96      0.91        52\n",
      "\n",
      "avg / total       0.90      0.89      0.89        95\n",
      "\n",
      "---------------------------------------------\n",
      "Publisher: walesonline\n",
      "[[98  7]\n",
      " [ 7 86]]\n",
      "             precision    recall  f1-score   support\n",
      "\n",
      "          0       0.93      0.93      0.93       105\n",
      "          1       0.92      0.92      0.92        93\n",
      "\n",
      "avg / total       0.93      0.93      0.93       198\n",
      "\n",
      "---------------------------------------------\n",
      "Publisher: yorkshirepost\n",
      "[[41  4]\n",
      " [ 1 32]]\n",
      "             precision    recall  f1-score   support\n",
      "\n",
      "          0       0.98      0.91      0.94        45\n",
      "          1       0.89      0.97      0.93        33\n",
      "\n",
      "avg / total       0.94      0.94      0.94        78\n",
      "\n"
     ]
    }
   ],
   "source": [
    "clf = svm.SVC( degree=2)\n",
    "for pub in large_publishers:\n",
    "    features = pub_feature_set[pub_feature_set[\"publisher\"] == pub]\n",
    "    print(\"---------------------------------------------\")\n",
    "    print(f\"Publisher: {pub}\")\n",
    "    evaluate(features, clf)"
   ]
  },
  {
   "cell_type": "code",
   "execution_count": null,
   "metadata": {},
   "outputs": [],
   "source": []
  }
 ],
 "metadata": {
  "kernelspec": {
   "display_name": "Python 3",
   "language": "python",
   "name": "python3"
  },
  "language_info": {
   "codemirror_mode": {
    "name": "ipython",
    "version": 3
   },
   "file_extension": ".py",
   "mimetype": "text/x-python",
   "name": "python",
   "nbconvert_exporter": "python",
   "pygments_lexer": "ipython3",
   "version": "3.6.5"
  }
 },
 "nbformat": 4,
 "nbformat_minor": 2
}
