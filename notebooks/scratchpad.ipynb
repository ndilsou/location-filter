{
 "cells": [
  {
   "cell_type": "markdown",
   "metadata": {},
   "source": [
    "# Scratchpad\n",
    "\n",
    "generic notebook used for exploration of the dataset."
   ]
  },
  {
   "cell_type": "code",
   "execution_count": 10,
   "metadata": {},
   "outputs": [
    {
     "name": "stdout",
     "output_type": "stream",
     "text": [
      "The autoreload extension is already loaded. To reload it, use:\n",
      "  %reload_ext autoreload\n"
     ]
    }
   ],
   "source": [
    "%load_ext autoreload\n",
    "%autoreload 2\n",
    "import sys\n",
    "sys.path.append(\"../\") \n",
    "import models.utility as utils"
   ]
  },
  {
   "cell_type": "code",
   "execution_count": 11,
   "metadata": {
    "collapsed": true
   },
   "outputs": [],
   "source": [
    "import spacy\n",
    "import html\n",
    "import numpy as np\n",
    "import matplotlib.pyplot as plt\n",
    "import seaborn as sns\n",
    "import json\n",
    "import geopy\n",
    "import gzip\n",
    "from scipy import deg2rad\n",
    "import random\n",
    "import pandas as pd\n",
    "import jsonlines\n",
    "import string\n",
    "import re\n",
    "import requests\n",
    "import os\n",
    "from collections import Counter\n",
    "\n",
    "import sklearn.linear_model as linear_model\n",
    "import sklearn.neighbors as neighbors\n",
    "import sklearn.gaussian_process as gaussian_process\n",
    "import sklearn.discriminant_analysis as discriminant_analysis\n",
    "import sklearn.svm as svm\n",
    "import sklearn.model_selection as model_selection\n",
    "import sklearn.metrics as metrics\n",
    "sns.set(style=\"darkgrid\")"
   ]
  },
  {
   "cell_type": "code",
   "execution_count": 12,
   "metadata": {},
   "outputs": [],
   "source": [
    "nlp = spacy.load('en_core_web_md')"
   ]
  },
  {
   "cell_type": "code",
   "execution_count": 13,
   "metadata": {},
   "outputs": [
    {
     "name": "stdout",
     "output_type": "stream",
     "text": [
      "articles count: 9959\n",
      "annotations count: 3221\n",
      "locations count: 3562\n"
     ]
    }
   ],
   "source": [
    "raw_articles, raw_annotations, raw_locations = utils.load_dataset()"
   ]
  },
  {
   "cell_type": "code",
   "execution_count": 16,
   "metadata": {},
   "outputs": [],
   "source": [
    "annotation_histogram = Counter()\n",
    "publisher_histogram = Counter()\n",
    "for i, raw_doc in enumerate(raw_articles):\n",
    "    annotation_histogram[len(raw_doc[\"annotation_uri\"])] += 1\n",
    "    publisher_histogram[raw_doc[\"publisher\"]] += 1\n"
   ]
  },
  {
   "cell_type": "markdown",
   "metadata": {},
   "source": [
    "Let's display the distribution of annotations/locations over the article dataset."
   ]
  },
  {
   "cell_type": "code",
   "execution_count": 17,
   "metadata": {},
   "outputs": [
    {
     "data": {
      "image/png": "[encoded data removed]",
      "text/plain": [
       "<Figure size 576x288 with 1 Axes>"
      ]
     },
     "metadata": {},
     "output_type": "display_data"
    }
   ],
   "source": [
    "fig = plt.figure(figsize=(8,4))\n",
    "plt.bar(annotation_histogram.keys(), annotation_histogram.values(),tick_label=[k for k in annotation_histogram.keys()]);\n"
   ]
  },
  {
   "cell_type": "markdown",
   "metadata": {},
   "source": [
    "Likewise for the distribution of publishers:"
   ]
  },
  {
   "cell_type": "code",
   "execution_count": 18,
   "metadata": {},
   "outputs": [
    {
     "name": "stdout",
     "output_type": "stream",
     "text": [
      "30 most common publishers: \n",
      "www.birminghammail.co.uk             | count: 191\n",
      "mirror                               | count: 190\n",
      "www.manchestereveningnews.co.uk      | count: 181\n",
      "dailyrecord                          | count: 156\n",
      "www.coventrytelegraph.net            | count: 156\n",
      "The Courier                          | count: 154\n",
      "www.liverpoolecho.co.uk              | count: 152\n",
      "The Northern Echo                    | count: 143\n",
      "Eastern Daily Press                  | count: 131\n",
      "www.walesonline.co.uk                | count: 129\n",
      "HeraldScotland                       | count: 128\n",
      "www.chroniclelive.co.uk              | count: 126\n",
      "Bournemouth Echo                     | count: 126\n",
      "www.yorkshirepost.co.uk              | count: 123\n",
      "Evening Times                        | count: 122\n",
      "www.thestar.co.uk                    | count: 106\n",
      "This Is Local London                 | count: 98\n",
      "East Anglian Daily Times             | count: 92\n",
      "www.yorkshireeveningpost.co.uk       | count: 90\n",
      "www.glasgowlive.co.uk                | count: 89\n",
      "The Argus                            | count: 89\n",
      "somersetlive                         | count: 82\n",
      "Oxford Mail                          | count: 81\n",
      "This Is Wiltshire                    | count: 80\n",
      "The Oxford Times                     | count: 78\n",
      "Dorset Echo                          | count: 78\n",
      "coventrytelegraph                    | count: 78\n",
      "Kent Online                          | count: 77\n",
      "www.scotsman.com                     | count: 74\n",
      "York Press                           | count: 73\n"
     ]
    }
   ],
   "source": [
    "c = 30\n",
    "print(f\"{c} most common publishers: \")\n",
    "for k,v in publisher_histogram.most_common(c):\n",
    "    print(k.ljust(35),\" | count:\" ,v)"
   ]
  },
  {
   "cell_type": "markdown",
   "metadata": {},
   "source": [
    "We notice that some publisher may belong to the same group but have different name. for example, \"birminghammail\" and \"birminghammail.com\"\n",
    "\n",
    "We're going to clean up the publishers name to possibly"
   ]
  },
  {
   "cell_type": "code",
   "execution_count": 19,
   "metadata": {},
   "outputs": [
    {
     "data": {
      "text/plain": [
       "[{'iid': 'f020439f-723d-4eec-8bec-9a9309dc1749',\n",
       "  'lastModifiedTime': 1530456309000,\n",
       "  'publisher': 'The Charlton Champion',\n",
       "  'published_time': None,\n",
       "  'annotation_uri': ['5e5f51d83ca0e75f33f8811727cc90e3',\n",
       "   '76defb7d20d73da27d65eb10bd976d2a'],\n",
       "  'id': 'f020439f-723d-4eec-8bec-9a9309dc1749',\n",
       "  'url': 'https://charltonchampion.co.uk/2018/07/01/rockwell-returns-controversial-charlton-riverside-scheme-to-be-heard-on-9-july/',\n",
       "  'articleid': None,\n",
       "  'previous_id': None,\n",
       "  'type': 'articles',\n",
       "  'title': 'Rockwell returns: Controversial Charlton Riverside scheme to be heard on 9 July',\n",
       "  'cleantitle': None,\n",
       "  'description': 'Plans to redevelop the VIP Trading Estate by developer Rockwell are to go before Greenwich Council’s Planning Board on Monday 9th July,\\xa0the original hearing in April being deferred until afte…',\n",
       "  'body': 'Plans to redevelop the VIP Trading Estate by developer Rockwell are to go before Greenwich Council’s Planning Board on Monday 9th July, the original hearing in April being deferred until after the local elections held in May. The plans have caused controversy over the height and density of the proposed housing, plus the level of affordable and social housing to be included in the scheme – the latest plans are for 25% of the housing to be ‘affordable’, of which 71% will be social housing. A petition raised by local residents asking Greenwich Council to enforce the terms of its own Charlton Riverside Masterplan – citing the £850,000 cost of developing the plan – had over 400 signatories at the time of writing. From The Murky Depths has taken a look at the outline plans for the £4.9 million of Section 106 payments – money paid to the council which is meant to be spent in the local area – due to come from the development. At least two local councillors have tweeted their intention to oppose the plans: Totally fail to understand why this proposal is being recommended for approval. Fails to meet the objectives of the Masterplan. Joining with residents to oppose. https://t.co/L1FBkHNnh2 — Cllr John Fahy (@Cllrjfahy) June 30, 2018 I will be opposing this application too https://t.co/GI0kXJPd25 — Gary Parker (@CllrG2013) July 1, 2018 Also due to be heard at the same planning board meeting is a request for Revocation of Hazardous Substances Consent for East Greenwich gasholder, one of the steps necessary to allow demolition of the historic structure. Labour councillors recently voted down a motion opposing demolition of the gasholder. Also on the Greenwich Peninsula, councillors will also discuss plans for a temporary 4,400-capacity concert and conference venue to be built at the north end of Tunnel Avenue. Read previous Charlton Champion coverage of the Rockwell planning application here. The Charlton Champion provides news and information about issues and events in London SE7. Help us by telling us your stories – or buy the author a coffee. Advertisements'}]"
      ]
     },
     "execution_count": 19,
     "metadata": {},
     "output_type": "execute_result"
    }
   ],
   "source": [
    "[a for a in raw_articles if \"The Charlton Champion\" == a[\"publisher\"]]"
   ]
  },
  {
   "cell_type": "code",
   "execution_count": 20,
   "metadata": {},
   "outputs": [
    {
     "data": {
      "text/plain": [
       "{'birminghammail', 'www.birminghammail.co.uk', 'www.birminghampost.co.uk'}"
      ]
     },
     "execution_count": 20,
     "metadata": {},
     "output_type": "execute_result"
    }
   ],
   "source": [
    "set([a[\"publisher\"] for a in raw_articles if \"birm\" in a[\"publisher\"].lower()])"
   ]
  },
  {
   "cell_type": "code",
   "execution_count": 21,
   "metadata": {},
   "outputs": [],
   "source": [
    "publishers = set([a[\"publisher\"] for a in raw_articles])"
   ]
  },
  {
   "cell_type": "code",
   "execution_count": 22,
   "metadata": {},
   "outputs": [],
   "source": [
    "clean_publisher_histogram = Counter()\n",
    "for i, raw_doc in enumerate(raw_articles):\n",
    "    clean_publisher_histogram[utils.clean_publisher(raw_doc[\"publisher\"])] += 1"
   ]
  },
  {
   "cell_type": "code",
   "execution_count": 27,
   "metadata": {},
   "outputs": [
    {
     "name": "stdout",
     "output_type": "stream",
     "text": [
      "count of publishers:\n",
      "raw names:  384\n",
      "clean names: 377\n",
      "count of large publishers:\n",
      "raw names:  23\n",
      "clean names:  24\n"
     ]
    }
   ],
   "source": [
    "print(\"count of publishers:\")\n",
    "print(\"raw names: \", len(publisher_histogram))\n",
    "print(\"clean names:\", len(clean_publisher_histogram))\n",
    "n = 80\n",
    "print(\"count of large publishers:\")\n",
    "print(\"raw names: \", len([p for p, c in publisher_histogram.items() if c > n]))\n",
    "print(\"clean names: \", len([p for p, c in clean_publisher_histogram.items() if c > n]))"
   ]
  },
  {
   "cell_type": "code",
   "execution_count": 28,
   "metadata": {},
   "outputs": [
    {
     "name": "stdout",
     "output_type": "stream",
     "text": [
      "30 most common publishers: \n",
      "coventrytelegraph                    | count: 234\n",
      "birminghammail                       | count: 200\n",
      "mirror                               | count: 190\n",
      "manchestereveningnews                | count: 181\n",
      "dailyrecord                          | count: 156\n",
      "thecourier                           | count: 154\n",
      "liverpoolecho                        | count: 152\n",
      "thenorthernecho                      | count: 143\n",
      "easterndailypress                    | count: 131\n",
      "walesonline                          | count: 130\n",
      "heraldscotland                       | count: 128\n",
      "chroniclelive                        | count: 126\n",
      "bournemouthecho                      | count: 126\n",
      "yorkshirepost                        | count: 123\n",
      "eveningtimes                         | count: 122\n",
      "belfastlive                          | count: 119\n",
      "thestar                              | count: 106\n",
      "thisislocallondon                    | count: 98\n",
      "eastangliandailytimes                | count: 92\n",
      "yorkshireeveningpost                 | count: 90\n",
      "glasgowlive                          | count: 89\n",
      "theargus                             | count: 89\n",
      "somersetlive                         | count: 82\n",
      "oxfordmail                           | count: 81\n",
      "thisiswiltshire                      | count: 80\n",
      "theoxfordtimes                       | count: 78\n",
      "dorsetecho                           | count: 78\n",
      "kentonline                           | count: 77\n",
      "scotsman                             | count: 74\n",
      "yorkpress                            | count: 73\n"
     ]
    }
   ],
   "source": [
    "\n",
    "print(f\"{c} most common publishers: \")\n",
    "for k,v in clean_publisher_histogram.most_common(c):\n",
    "    print(k.ljust(35),\" | count:\" ,v)"
   ]
  },
  {
   "cell_type": "code",
   "execution_count": 30,
   "metadata": {},
   "outputs": [
    {
     "name": "stdout",
     "output_type": "stream",
     "text": [
      "{\n",
      "    \"iid\": \"ec5c176d-ceb4-46dc-ae68-60bac4056753\",\n",
      "    \"lastModifiedTime\": 1530469114000,\n",
      "    \"publisher\": \"The Courier\",\n",
      "    \"published_time\": null,\n",
      "    \"annotation_uri\": [\n",
      "        \"f99c3a35f03a8eb7f3b0bb044b8e5506\",\n",
      "        \"5c8ad4f4220ed87d24fbdc261c243091\",\n",
      "        \"09b4a5eed6a1e20bb5b5088055163607\"\n",
      "    ],\n",
      "    \"id\": \"ec5c176d-ceb4-46dc-ae68-60bac4056753\",\n",
      "    \"url\": \"https://www.thecourier.co.uk/news/uk-world/680465/russia-fans-party-hard-after-team-knocks-spain-out-of-world-cup/\",\n",
      "    \"articleid\": null,\n",
      "    \"previous_id\": null,\n",
      "    \"type\": \"articles\",\n",
      "    \"title\": \"Russia fans party hard after team knocks Spain out of World Cup\",\n",
      "    \"cleantitle\": null,\n",
      "    \"description\": \"Russia fans wept and leapt for joy as Moscow went into meltdown after their football team knocked Spain out of the World Cup on penalties.\",\n",
      "    \"body\": \"New data has shown the Queensferry Crossing is improving the reliability of crossing the Forth. As the heatwave continues to bake many parts of the UK, zookeepers at Camperdown Wildlife Centre in Dundee are giving treats to the resident European brown bears. A Fife woman is appealing to bring to heel the thieves who made off with a pair of bronze feet from her doorstep. A Carnoustie man has paid tribute to his \\u201ccaring, loving\\u201d fiancee who died suddenly at their home at the age of 27. We\\u2019re all a-flutter here in The Courier office as the Maggie\\u2019s Penguin Parade prepares to hit the streets at the end of this week. An error has occurred while loading your details. Please click the following link to try again - if the issue persists, please don't hesitate to contact us\"\n",
      "}\n"
     ]
    }
   ],
   "source": [
    "raw_doc = raw_articles[99]\n",
    "print(utils.pretty_dict(raw_doc))"
   ]
  },
  {
   "cell_type": "code",
   "execution_count": 32,
   "metadata": {},
   "outputs": [
    {
     "name": "stdout",
     "output_type": "stream",
     "text": [
      "0   |  www.nwemail.co.uk                    |  9764d074-d5e1-44ee-99be-4bf910d2ded3  |  Britain told it must follow EU...- The Mail\n",
      "1   |  www.rotherhamadvertiser.co.uk        |  f405538d-46a2-4edf-96cb-18e526303c19  |  Full Rotherham United 2018/19 ...xture list\n",
      "2   |  www.rotherhamadvertiser.co.uk        |  cb4bf1f6-c7dd-4ca0-848f-edf564bec04a  |  Full Rotherham United 2018/19 ...xture list\n",
      "3   |  www.rotherhamadvertiser.co.uk        |  ac8bd1b3-a021-48f2-9a7d-9fc48f5c0eda  |  Championship campaign starts a... Brentford\n",
      "4   |  www.rotherhamadvertiser.co.uk        |  1d8e6a9c-5b9f-4a2e-9765-9bee37c650a1  |  Championship campaign starts a... Brentford\n",
      "5   |  www.nwemail.co.uk                    |  c0a38821-1df3-493b-ac9f-0191e4dd4992  |  Transport Secretary Chris Gray...- The Mail\n",
      "6   |  www.timesandstar.co.uk               |  b7774edf-88dc-4dd5-90d6-8beb58c9896d  |  Transport Secretary Chris Gray...mes & Star\n",
      "7   |  www.whitehavennews.co.uk             |  46e9c8e2-1cac-4414-a302-bd13cc4407e4  |  Transport Secretary Chris Gray...d bailout'\n",
      "8   |  Eastern Daily Press                  |  67299e9e-f586-4742-bf94-032b5a4eef90  |  The Voice UK to hold more open...ffolk News\n",
      "9   |  Eastern Daily Press                  |  d2813615-1005-4600-a87d-2581a768e3db  |  WWE release sneak peek of The ...ffolk News\n",
      "10  |  Stowmarket Mercury                   |  839338d5-3046-40bd-929e-fb80e884f1be  |  Relief for rail commuters as f...arket News\n"
     ]
    }
   ],
   "source": [
    "limit = 10\n",
    "for i, raw_doc in enumerate(raw_articles):\n",
    "    print(f\"{i}\".ljust(2), \" | \", raw_doc[\"publisher\"].ljust(35), \" | \", raw_doc[\"id\"], \" | \", utils.summarize_text(raw_doc[\"title\"]))\n",
    "    if limit and limit <= i:\n",
    "        break"
   ]
  },
  {
   "cell_type": "code",
   "execution_count": 33,
   "metadata": {},
   "outputs": [],
   "source": [
    "def extract_vector(raw_document, aggregate=False):\n",
    "    publisher = raw_document[\"publisher\"]\n",
    "    doc = nlp(html.unescape(raw_document[\"body\"]))\n",
    "    entities = []\n",
    "    vector_list = []\n",
    "    for ent in doc.ents:\n",
    "        if ent.label_ in [\"GPE\", \"ORG\", \"LOC\", \"FAC\"]: \n",
    "            entities.append((publisher, ent.text, ent.label_))\n",
    "            vector_list.append(ent.vector)\n",
    "    vectors = np.stack(vector_list)\n",
    "    if aggregate:\n",
    "        vectors = np.atleast_2d(vectors.mean(axis=0))\n",
    "        entities = [publisher]\n",
    "    return entities, vectors"
   ]
  },
  {
   "cell_type": "code",
   "execution_count": 34,
   "metadata": {},
   "outputs": [],
   "source": [
    "_, vector = extract_vector(raw_articles[0], aggregate=True)"
   ]
  },
  {
   "cell_type": "code",
   "execution_count": 39,
   "metadata": {},
   "outputs": [
    {
     "name": "stdout",
     "output_type": "stream",
     "text": [
      "need at least one array to stack\n",
      "need at least one array to stack\n",
      "need at least one array to stack\n",
      "need at least one array to stack\n"
     ]
    }
   ],
   "source": [
    "entities = []\n",
    "vector_list = []\n",
    "limit = None\n",
    "current_pub = None\n",
    "for i, raw_doc in enumerate(random.choices(raw_articles, k=100)):\n",
    "    try:\n",
    "        doc_entities, doc_vectors = extract_vector(raw_doc, aggregate=True)\n",
    "        entities.extend(doc_entities)\n",
    "        vector_list.append(doc_vectors)\n",
    "        if limit and limit <= i:\n",
    "            break\n",
    "    except ValueError as e:\n",
    "        print(e)\n",
    "        \n",
    "  \n",
    "        \n",
    "vectors = np.concatenate(vector_list, axis=0)\n"
   ]
  },
  {
   "cell_type": "code",
   "execution_count": 43,
   "metadata": {},
   "outputs": [
    {
     "name": "stdout",
     "output_type": "stream",
     "text": [
      "{\n",
      "    \"iid\": \"7fa1c86a-591d-46ea-a1f7-fec79e667b22\",\n",
      "    \"council_annotation_uri\": \"0280893123d7785441eff9fa1641170b\",\n",
      "    \"county\": \"Derbyshire\",\n",
      "    \"local_government_area\": \"City of Derby\",\n",
      "    \"nuts_region\": \"East Midlands\",\n",
      "    \"lng\": -1.44377,\n",
      "    \"lat\": 52.91562,\n",
      "    \"country\": \"England\",\n",
      "    \"name\": \"Pride Park\",\n",
      "    \"lastModifiedTime\": 1516791066877,\n",
      "    \"origin_type\": \"Other Settlement\",\n",
      "    \"annotation_uri\": [\n",
      "        \"be48009bf7ec91d46983f1044db47f76\"\n",
      "    ],\n",
      "    \"id\": \"ec79cba6-d6a6-485d-ab33-65ac0412f54b\",\n",
      "    \"type\": \"locations\",\n",
      "    \"postcode_sector\": \"DE24 8\"\n",
      "}\n"
     ]
    }
   ],
   "source": [
    "print(utils.pretty_dict(raw_locations[0]))"
   ]
  },
  {
   "cell_type": "code",
   "execution_count": 44,
   "metadata": {},
   "outputs": [
    {
     "name": "stdout",
     "output_type": "stream",
     "text": [
      "{'Park', 'PoliticalParty', 'Royalty', 'SportsTeam', 'SiteOfSpecialScientificInterest', 'Saint', 'Stadium', 'PopulatedPlace', 'Mountain', 'Town', 'Building', 'PeriodicalLiterature', 'Work', 'AdministrativeRegion', 'Legislature', 'City', 'Location', 'RouteOfTransportation', 'Agent', 'HistoricPlace', 'MilitaryStructure', 'NaturalPlace', 'EducationalInstitution', 'MilitaryPerson', 'Infrastructure', 'Hospital', 'Island', 'Village', 'SoccerClub', 'Road', 'Person', 'Newspaper', 'HistoricBuilding', 'Theatre', 'Settlement', 'Cleric', 'Album', 'WrittenWork', 'CricketGround', 'BodyOfWater', 'Region', 'MusicalWork', 'Racecourse', 'Place', 'Organisation', 'Stream', 'Lake', 'School', 'College', 'RaceTrack', 'Company', 'SportFacility', 'Venue', 'Jurisdiction>', 'ShoppingMall', 'River', 'Holiday', 'Station', 'ArchitecturalStructure', 'Country'}\n"
     ]
    }
   ],
   "source": [
    "origin_types = set()\n",
    "for annotation in raw_annotations:\n",
    "    types = annotation[\"origin_types\"] or []\n",
    "    for origin_type in types:\n",
    "        #print(origin_type)\n",
    "        origin_types.add(origin_type)\n",
    "print(origin_types)"
   ]
  },
  {
   "cell_type": "markdown",
   "metadata": {},
   "source": [
    "We're going to obtain the lat/long for each publications."
   ]
  },
  {
   "cell_type": "code",
   "execution_count": 45,
   "metadata": {},
   "outputs": [],
   "source": [
    "uri_index = utils.get_annotation_uri_index(raw_annotations, raw_locations)\n",
    "location_index = utils.get_location_index(raw_locations)"
   ]
  },
  {
   "cell_type": "code",
   "execution_count": 46,
   "metadata": {},
   "outputs": [],
   "source": [
    "pub_feature_set = []\n",
    "columns = [\"publisher\", \"lat\", \"lng\", \"origin_type\", \"name\", \"nuts_region\", \"local_government_area\", \"id\"]\n",
    "for article in raw_articles:\n",
    "    for annotation in article[\"annotation_uri\"]:\n",
    "        if annotation in uri_index.keys():\n",
    "            locations = uri_index[annotation][\"locations\"]\n",
    "            for location in locations:\n",
    "                pub_feature_set.append((utils.clean_publisher(article[\"publisher\"]),  \n",
    "                                        *(location[c] for c in columns[1:])))\n",
    "pub_feature_set = pd.DataFrame(pub_feature_set, columns=columns)"
   ]
  },
  {
   "cell_type": "code",
   "execution_count": 47,
   "metadata": {},
   "outputs": [],
   "source": [
    "birminghammail = pub_feature_set[pub_feature_set[\"publisher\"] == \"birminghammail\"]"
   ]
  },
  {
   "cell_type": "code",
   "execution_count": 48,
   "metadata": {},
   "outputs": [
    {
     "data": {
      "text/plain": [
       "array(['London', 'West Midlands', 'South West', 'South East', 'Eastern',\n",
       "       'Yorkshire and the Humber', 'East Midlands', 'North East',\n",
       "       'North West', 'Wales'], dtype=object)"
      ]
     },
     "execution_count": 48,
     "metadata": {},
     "output_type": "execute_result"
    }
   ],
   "source": [
    "birminghammail[\"nuts_region\"].unique()"
   ]
  },
  {
   "cell_type": "markdown",
   "metadata": {},
   "source": [
    "We notice that Eastern appears to map to East of England."
   ]
  },
  {
   "cell_type": "code",
   "execution_count": 49,
   "metadata": {},
   "outputs": [],
   "source": [
    "publishers = pub_feature_set[\"publisher\"].unique()\n",
    "palette = {pub: pal for pub, pal in zip(publishers, sns.palettes.color_palette(n_colors=len(publishers)))}"
   ]
  },
  {
   "cell_type": "code",
   "execution_count": 50,
   "metadata": {},
   "outputs": [
    {
     "data": {
      "text/plain": [
       "59"
      ]
     },
     "execution_count": 50,
     "metadata": {},
     "output_type": "execute_result"
    }
   ],
   "source": [
    "pub_feature_set.groupby(\"publisher\")[\"publisher\"].count()[\"dailypost\"]"
   ]
  },
  {
   "cell_type": "code",
   "execution_count": 51,
   "metadata": {},
   "outputs": [],
   "source": [
    "n = 100\n",
    "publishers.sort()\n",
    "large_publishers = publishers[pub_feature_set.groupby(\"publisher\")[\"publisher\"].count() > n]"
   ]
  },
  {
   "cell_type": "code",
   "execution_count": 53,
   "metadata": {},
   "outputs": [
    {
     "data": {
      "text/html": [
       "<div>\n",
       "<style scoped>\n",
       "    .dataframe tbody tr th:only-of-type {\n",
       "        vertical-align: middle;\n",
       "    }\n",
       "\n",
       "    .dataframe tbody tr th {\n",
       "        vertical-align: top;\n",
       "    }\n",
       "\n",
       "    .dataframe thead th {\n",
       "        text-align: right;\n",
       "    }\n",
       "</style>\n",
       "<table border=\"1\" class=\"dataframe\">\n",
       "  <thead>\n",
       "    <tr style=\"text-align: right;\">\n",
       "      <th></th>\n",
       "      <th>publisher</th>\n",
       "      <th>lat</th>\n",
       "      <th>lng</th>\n",
       "      <th>origin_type</th>\n",
       "      <th>name</th>\n",
       "      <th>nuts_region</th>\n",
       "      <th>local_government_area</th>\n",
       "      <th>id</th>\n",
       "    </tr>\n",
       "  </thead>\n",
       "  <tbody>\n",
       "    <tr>\n",
       "      <th>3788</th>\n",
       "      <td>kentonline</td>\n",
       "      <td>51.13333</td>\n",
       "      <td>0.26353</td>\n",
       "      <td>Town</td>\n",
       "      <td>Royal Tunbridge Wells</td>\n",
       "      <td>South East</td>\n",
       "      <td>Tunbridge Wells District</td>\n",
       "      <td>6d2570bd-88e3-48a2-b8de-b953a9a7099d</td>\n",
       "    </tr>\n",
       "    <tr>\n",
       "      <th>7213</th>\n",
       "      <td>oxfordmail</td>\n",
       "      <td>51.58829</td>\n",
       "      <td>-1.42569</td>\n",
       "      <td>Town</td>\n",
       "      <td>Wantage</td>\n",
       "      <td>South East</td>\n",
       "      <td>Vale of White Horse District</td>\n",
       "      <td>5972ec49-db9f-47f9-8082-ae730bdcf81a</td>\n",
       "    </tr>\n",
       "    <tr>\n",
       "      <th>3498</th>\n",
       "      <td>sussexexpress</td>\n",
       "      <td>50.87314</td>\n",
       "      <td>0.01040</td>\n",
       "      <td>Town</td>\n",
       "      <td>Lewes</td>\n",
       "      <td>South East</td>\n",
       "      <td>Lewes District</td>\n",
       "      <td>de294841-2a94-4f80-a8f8-65436184c2bd</td>\n",
       "    </tr>\n",
       "    <tr>\n",
       "      <th>1504</th>\n",
       "      <td>stokesentinel</td>\n",
       "      <td>53.04629</td>\n",
       "      <td>-2.19389</td>\n",
       "      <td>Suburban Area</td>\n",
       "      <td>Burslem</td>\n",
       "      <td>West Midlands</td>\n",
       "      <td>City of Stoke-on-Trent</td>\n",
       "      <td>81d67200-74dc-4b47-aee6-5eefebe2883a</td>\n",
       "    </tr>\n",
       "    <tr>\n",
       "      <th>4328</th>\n",
       "      <td>norwicheveningnews</td>\n",
       "      <td>52.93125</td>\n",
       "      <td>1.29893</td>\n",
       "      <td>Town</td>\n",
       "      <td>Cromer</td>\n",
       "      <td>Eastern</td>\n",
       "      <td>North Norfolk District</td>\n",
       "      <td>f0f3fc5e-7543-44ae-9add-06b419c9adfd</td>\n",
       "    </tr>\n",
       "  </tbody>\n",
       "</table>\n",
       "</div>"
      ],
      "text/plain": [
       "               publisher       lat      lng    origin_type  \\\n",
       "3788          kentonline  51.13333  0.26353           Town   \n",
       "7213          oxfordmail  51.58829 -1.42569           Town   \n",
       "3498       sussexexpress  50.87314  0.01040           Town   \n",
       "1504       stokesentinel  53.04629 -2.19389  Suburban Area   \n",
       "4328  norwicheveningnews  52.93125  1.29893           Town   \n",
       "\n",
       "                       name    nuts_region         local_government_area  \\\n",
       "3788  Royal Tunbridge Wells     South East      Tunbridge Wells District   \n",
       "7213                Wantage     South East  Vale of White Horse District   \n",
       "3498                  Lewes     South East                Lewes District   \n",
       "1504                Burslem  West Midlands        City of Stoke-on-Trent   \n",
       "4328                 Cromer        Eastern        North Norfolk District   \n",
       "\n",
       "                                        id  \n",
       "3788  6d2570bd-88e3-48a2-b8de-b953a9a7099d  \n",
       "7213  5972ec49-db9f-47f9-8082-ae730bdcf81a  \n",
       "3498  de294841-2a94-4f80-a8f8-65436184c2bd  \n",
       "1504  81d67200-74dc-4b47-aee6-5eefebe2883a  \n",
       "4328  f0f3fc5e-7543-44ae-9add-06b419c9adfd  "
      ]
     },
     "execution_count": 53,
     "metadata": {},
     "output_type": "execute_result"
    }
   ],
   "source": [
    "pub_feature_set.sample(5)"
   ]
  },
  {
   "cell_type": "code",
   "execution_count": 54,
   "metadata": {},
   "outputs": [
    {
     "data": {
      "text/plain": [
       "array(['belfastlive', 'birminghammail', 'blackpoolgazette',\n",
       "       'bournemouthecho', 'chroniclelive', 'coventrytelegraph',\n",
       "       'dailyrecord', 'devonlive', 'eastangliandailytimes',\n",
       "       'easterndailypress', 'gazettelive', 'getsurrey', 'glasgowlive',\n",
       "       'inyourarea', 'lep', 'liverpoolecho', 'manchestereveningnews',\n",
       "       'mirror', 'plymouthherald', 'somersetlive', 'theargus',\n",
       "       'thenorthernecho', 'thestar', 'thisislocallondon', 'walesonline',\n",
       "       'yorkshirepost'], dtype=object)"
      ]
     },
     "execution_count": 54,
     "metadata": {},
     "output_type": "execute_result"
    }
   ],
   "source": [
    "large_publishers"
   ]
  },
  {
   "cell_type": "code",
   "execution_count": 55,
   "metadata": {},
   "outputs": [
    {
     "data": {
      "image/png": "[encoded data removed]",
      "text/plain": [
       "<Figure size 432x288 with 1 Axes>"
      ]
     },
     "metadata": {},
     "output_type": "display_data"
    }
   ],
   "source": [
    "for pub in large_publishers:\n",
    "    features = pub_feature_set[pub_feature_set[\"publisher\"] == pub]\n",
    "    color_map = [palette[p] for p in features[\"publisher\"]]\n",
    "    plt.scatter(features[\"lng\"], features[\"lat\"], color=color_map);\n"
   ]
  },
  {
   "cell_type": "code",
   "execution_count": 72,
   "metadata": {},
   "outputs": [],
   "source": [
    "geolocator = geopy.Nominatim()"
   ]
  },
  {
   "cell_type": "code",
   "execution_count": 75,
   "metadata": {},
   "outputs": [
    {
     "data": {
      "text/plain": [
       "Location(West Midlands, Moyses Croft, Sandwell, West Midlands Combined Authority, West Midlands, England, B16, UK, (52.5050033, -1.96439612333127, 0.0))"
      ]
     },
     "execution_count": 75,
     "metadata": {},
     "output_type": "execute_result"
    }
   ],
   "source": [
    "geolocator.geocode(\"West Midlands\")"
   ]
  },
  {
   "cell_type": "code",
   "execution_count": 56,
   "metadata": {},
   "outputs": [
    {
     "data": {
      "text/html": [
       "<div>\n",
       "<style scoped>\n",
       "    .dataframe tbody tr th:only-of-type {\n",
       "        vertical-align: middle;\n",
       "    }\n",
       "\n",
       "    .dataframe tbody tr th {\n",
       "        vertical-align: top;\n",
       "    }\n",
       "\n",
       "    .dataframe thead th {\n",
       "        text-align: right;\n",
       "    }\n",
       "</style>\n",
       "<table border=\"1\" class=\"dataframe\">\n",
       "  <thead>\n",
       "    <tr style=\"text-align: right;\">\n",
       "      <th></th>\n",
       "      <th>publisher</th>\n",
       "      <th>lat</th>\n",
       "      <th>lng</th>\n",
       "      <th>origin_type</th>\n",
       "      <th>name</th>\n",
       "      <th>nuts_region</th>\n",
       "      <th>local_government_area</th>\n",
       "      <th>id</th>\n",
       "    </tr>\n",
       "  </thead>\n",
       "  <tbody>\n",
       "    <tr>\n",
       "      <th>4774</th>\n",
       "      <td>birminghammail</td>\n",
       "      <td>52.54791</td>\n",
       "      <td>-1.88421</td>\n",
       "      <td>Suburban Area</td>\n",
       "      <td>Kingstanding</td>\n",
       "      <td>West Midlands</td>\n",
       "      <td>Birmingham District</td>\n",
       "      <td>6671d403-140a-4520-84a9-bf00523a657b</td>\n",
       "    </tr>\n",
       "    <tr>\n",
       "      <th>8826</th>\n",
       "      <td>birminghammail</td>\n",
       "      <td>52.46716</td>\n",
       "      <td>-1.74383</td>\n",
       "      <td>Other Settlement</td>\n",
       "      <td>Marston Green</td>\n",
       "      <td>West Midlands</td>\n",
       "      <td>Solihull District</td>\n",
       "      <td>792f89c3-6633-4520-a433-c78f715876fe</td>\n",
       "    </tr>\n",
       "    <tr>\n",
       "      <th>909</th>\n",
       "      <td>birminghammail</td>\n",
       "      <td>52.50157</td>\n",
       "      <td>-1.96833</td>\n",
       "      <td>Suburban Area</td>\n",
       "      <td>Sandwell</td>\n",
       "      <td>West Midlands</td>\n",
       "      <td>Sandwell District</td>\n",
       "      <td>6dca2b14-982e-4ac9-a076-09f1f435abad</td>\n",
       "    </tr>\n",
       "    <tr>\n",
       "      <th>720</th>\n",
       "      <td>birminghammail</td>\n",
       "      <td>52.47182</td>\n",
       "      <td>-1.83181</td>\n",
       "      <td>Suburban Area</td>\n",
       "      <td>Bordesley Green East</td>\n",
       "      <td>West Midlands</td>\n",
       "      <td>Birmingham District</td>\n",
       "      <td>27d77cd5-844d-4dbe-a751-3f6c24197d19</td>\n",
       "    </tr>\n",
       "    <tr>\n",
       "      <th>1808</th>\n",
       "      <td>birminghammail</td>\n",
       "      <td>51.52920</td>\n",
       "      <td>-0.04670</td>\n",
       "      <td>Suburban Area</td>\n",
       "      <td>Globe Town</td>\n",
       "      <td>London</td>\n",
       "      <td>Tower Hamlets</td>\n",
       "      <td>64a6059e-458f-4a2b-9528-0f4e87cfc624</td>\n",
       "    </tr>\n",
       "  </tbody>\n",
       "</table>\n",
       "</div>"
      ],
      "text/plain": [
       "           publisher       lat      lng       origin_type  \\\n",
       "4774  birminghammail  52.54791 -1.88421     Suburban Area   \n",
       "8826  birminghammail  52.46716 -1.74383  Other Settlement   \n",
       "909   birminghammail  52.50157 -1.96833     Suburban Area   \n",
       "720   birminghammail  52.47182 -1.83181     Suburban Area   \n",
       "1808  birminghammail  51.52920 -0.04670     Suburban Area   \n",
       "\n",
       "                      name    nuts_region local_government_area  \\\n",
       "4774          Kingstanding  West Midlands   Birmingham District   \n",
       "8826         Marston Green  West Midlands     Solihull District   \n",
       "909               Sandwell  West Midlands     Sandwell District   \n",
       "720   Bordesley Green East  West Midlands   Birmingham District   \n",
       "1808            Globe Town         London         Tower Hamlets   \n",
       "\n",
       "                                        id  \n",
       "4774  6671d403-140a-4520-84a9-bf00523a657b  \n",
       "8826  792f89c3-6633-4520-a433-c78f715876fe  \n",
       "909   6dca2b14-982e-4ac9-a076-09f1f435abad  \n",
       "720   27d77cd5-844d-4dbe-a751-3f6c24197d19  \n",
       "1808  64a6059e-458f-4a2b-9528-0f4e87cfc624  "
      ]
     },
     "execution_count": 56,
     "metadata": {},
     "output_type": "execute_result"
    }
   ],
   "source": [
    "pub = large_publishers[1]\n",
    "features = pub_feature_set[pub_feature_set[\"publisher\"] == pub]\n",
    "features.sample(5)"
   ]
  },
  {
   "cell_type": "code",
   "execution_count": 57,
   "metadata": {},
   "outputs": [],
   "source": [
    "known_ids = set(features[\"id\"].values)\n",
    "all_ids = set(location_index.keys())"
   ]
  },
  {
   "cell_type": "code",
   "execution_count": 58,
   "metadata": {},
   "outputs": [
    {
     "data": {
      "text/plain": [
       "True"
      ]
     },
     "execution_count": 58,
     "metadata": {},
     "output_type": "execute_result"
    }
   ],
   "source": [
    "'b3e85189-5e04-4436-bed6-f92a4a9cc6c9' in location_index.keys()"
   ]
  }
 ],
 "metadata": {
  "kernelspec": {
   "display_name": "Python 3",
   "language": "python",
   "name": "python3"
  },
  "language_info": {
   "codemirror_mode": {
    "name": "ipython",
    "version": 3
   },
   "file_extension": ".py",
   "mimetype": "text/x-python",
   "name": "python",
   "nbconvert_exporter": "python",
   "pygments_lexer": "ipython3",
   "version": "3.6.5"
  }
 },
 "nbformat": 4,
 "nbformat_minor": 2
}
