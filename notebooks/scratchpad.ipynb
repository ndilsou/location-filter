{
 "cells": [
  {
   "cell_type": "code",
   "execution_count": 149,
   "metadata": {
    "collapsed": true
   },
   "outputs": [],
   "source": [
    "import spacy\n",
    "import html\n",
    "from sklearn import cluster, decomposition\n",
    "import sklearn.decomposition.pca as pca\n",
    "import numpy as np\n",
    "import matplotlib.pyplot as plt\n",
    "import seaborn as sns\n",
    "import json\n",
    "import string\n",
    "import requests"
   ]
  },
  {
   "cell_type": "code",
   "execution_count": null,
   "metadata": {},
   "outputs": [],
   "source": [
    "nlp = spacy.load('en_core_web_md')"
   ]
  },
  {
   "cell_type": "code",
   "execution_count": 44,
   "metadata": {},
   "outputs": [],
   "source": [
    "with open(\"../data/articles_example.json\") as fh:\n",
    "    raw_documents = json.load(fh)"
   ]
  },
  {
   "cell_type": "code",
   "execution_count": 63,
   "metadata": {},
   "outputs": [],
   "source": [
    "def summarize_text(text, start=30, end=10):\n",
    "    return f\"{text[:start]}...{text[-end:]}\""
   ]
  },
  {
   "cell_type": "code",
   "execution_count": 145,
   "metadata": {},
   "outputs": [
    {
     "name": "stdout",
     "output_type": "stream",
     "text": [
      "0 1 1\n",
      "1 4 4\n",
      "2 4 4\n",
      "3 0 0\n",
      "4 0 0\n",
      "5 1 1\n",
      "6 1 1\n",
      "7 1 1\n",
      "8 2 2\n",
      "9 2 2\n",
      "10 0 0\n",
      "11 1 1\n",
      "12 2 2\n",
      "13 0 0\n",
      "14 0 0\n",
      "15 1 1\n",
      "16 0 0\n",
      "17 3 3\n",
      "18 0 0\n",
      "19 6 6\n",
      "20 4 4\n",
      "21 0 0\n",
      "22 4 4\n",
      "23 2 2\n",
      "24 2 2\n",
      "25 0 0\n",
      "26 4 4\n",
      "27 4 4\n",
      "28 0 0\n",
      "29 1 1\n",
      "30 1 1\n",
      "31 1 1\n",
      "32 0 0\n",
      "33 2 2\n",
      "34 2 2\n",
      "35 5 5\n",
      "36 1 1\n",
      "37 3 3\n",
      "38 0 0\n",
      "39 5 5\n",
      "40 3 3\n",
      "41 0 0\n",
      "42 0 0\n",
      "43 2 2\n",
      "44 11 11\n",
      "45 1 1\n",
      "46 2 2\n",
      "47 1 1\n",
      "48 2 2\n",
      "49 4 4\n",
      "50 0 0\n",
      "51 1 1\n",
      "52 2 2\n",
      "53 2 2\n",
      "54 3 3\n",
      "55 0 0\n",
      "56 1 1\n",
      "57 2 2\n",
      "58 4 4\n",
      "59 2 2\n",
      "60 45 45\n",
      "61 2 2\n",
      "62 1 1\n",
      "63 3 3\n",
      "64 1 1\n",
      "65 1 1\n",
      "66 3 3\n",
      "67 3 3\n",
      "68 1 1\n",
      "69 3 3\n",
      "70 5 5\n",
      "71 0 0\n",
      "72 0 0\n",
      "73 0 0\n",
      "74 1 1\n",
      "75 0 0\n",
      "76 2 2\n",
      "77 0 0\n",
      "78 0 0\n",
      "79 0 0\n",
      "80 1 1\n",
      "81 5 5\n",
      "82 1 1\n",
      "83 5 5\n",
      "84 4 4\n",
      "85 5 5\n",
      "86 0 0\n",
      "87 1 1\n",
      "88 1 1\n",
      "89 1 1\n",
      "90 1 1\n",
      "91 3 3\n",
      "92 2 2\n",
      "93 1 1\n",
      "94 1 1\n",
      "95 2 2\n",
      "96 2 2\n",
      "97 2 2\n",
      "98 1 1\n",
      "99 2 2\n"
     ]
    }
   ],
   "source": [
    "\n",
    "for i, raw_doc in enumerate(raw_documents):\n",
    "    print(i, len(raw_doc[\"annotation_uri\"]), len(raw_doc[\"item\"][\"annotation_uri\"]))"
   ]
  },
  {
   "cell_type": "code",
   "execution_count": 157,
   "metadata": {},
   "outputs": [
    {
     "data": {
      "text/plain": [
       "{'iid': 'c31d8d53-faa7-42d5-a035-7308dd2169d2',\n",
       " 'lastModifiedTime': 1530127792000,\n",
       " 'publisher': 'devonlive',\n",
       " 'publishedTime': 1530134797517,\n",
       " 'place_concept_uri': ['eea16a4aca6aab9ae415e5fb37a9c06b',\n",
       "  '17dde7bab32b77542278f01f8f5089eb'],\n",
       " 'item': {'lastModifiedTime': 1530127792000,\n",
       "  'description': 'The oak memorial cross will be placed in Witheridge Churchyard almost a century after John died in the village',\n",
       "  'origin_id': 'https://www.devonlive.com/news/devon-news/cross-commemorate-man-who-30-1718970',\n",
       "  'source': 'scrapy-rss',\n",
       "  'body': 'Get Daily updates directly to your inbox + Subscribe Thank you for subscribing! Could not subscribe, try again later Invalid Email Get daily updates pushed directly to you Subscribe to notifications A cross commemorating the life of John Roberts – who had 30 grandsons serving in the Great War – has been given the go-ahead. The oak memorial cross will be placed in Witheridge Churchyard almost a century after John died in the village, aged 90. John was born in Cruwys Morchard in 1829. He went to school, but never learned to read or write. By the age of 10, he was working full time as a farm boy, at Stickeridge Farm, just outside his home village. He married Mary Couch in Thelbridge in 1855 and they had 15 children, 12 sons and three daughters. When Mary died in 1900, John moved to Witheridge, to live with his son Thomas and his family at Newland Farm. John was 84 and had almost 100 grandchildren when the Great War broke out in 1914. He had more than 50 grandsons, at least 36 of whom were eligible to serve King and country. He lost seven of his grandsons in the war. Three were killed on the battlefields of the Western Front, three died from wounds sustained in action in France and Flanders and one died of heart disease in Mesopotamia. When he died just a few months after the war ended, he was a broken man. When his funeral took place on May 26, 1919, a special card produced for mourners, carrying the following verse, indicated the esteem in which he was held. Day after day we saw him fade, And quietly sink away; Yet often in our hearts we prayed That he might longer stay. He’s gone, the one we loved so well, To his eternal rest; He’s gone to Heaven we need not fear, To be forever blessed. He was buried in an unmarked grave in Witheridge Churchyard. His remarkable story disappeared into the shadows of history – until the publication in February this year of the book, History Maker , which tells the remarkable story of John and his 30 grandsons who went to war. John’s last resting place could not be traced because it was not issued with a grave number (the only way of identifying it on the local burial map). Consequently, the oak cross will make clear that he is buried within the churchyard. It is hoped that a small dedication ceremony can be performed when the cross is erected later this year. The verse on the funeral card published here has been kindly supplied by John and Margaret Chapman, of Norfolk. John is related to John Roberts’ youngest son, Sidney. The picture – from Witheridge Historical Archive – shows how John Roberts’ contribution to the war effort was reported 100 years ago.',\n",
       "  'title': 'Cross to commemorate man who had 30 grandsons in Great War gets go-ahead',\n",
       "  'pundit_start': None,\n",
       "  'publisher_group': 'unknown',\n",
       "  'updated_timestamp': 1530127792000,\n",
       "  'pundit_end': None,\n",
       "  'original_image': 'https://i2-prod.devonlive.com/news/devon-news/article1026210.ece/ALTERNATES/s1200/JOHN-ROBERTS-1829-1919.jpg',\n",
       "  'state': 'scraped',\n",
       "  'original_thumbnail': 'https://i2-prod.devonlive.com/news/devon-news/article1026210.ece/ALTERNATES/s1200/JOHN-ROBERTS-1829-1919.jpg',\n",
       "  'images': {'image': 'https://images-proxy-prod.inyourarea.co.uk/700x394/iya-image-cache-e887844861e6e3eb53feac81477eae29.jpg',\n",
       "   'thumbnail': 'https://images-proxy-prod.inyourarea.co.uk/218x145/iya-image-cache-e887844861e6e3eb53feac81477eae29.jpg',\n",
       "   'blank': False,\n",
       "   'version': '7f0fd073a30facece83dc0833d57e947'},\n",
       "  'uniqhash': '9eb37b65f3ed12aa5000bd928eb51a11',\n",
       "  'pyplyn_end': 1530134797.520835,\n",
       "  'scrapy_image': 'https://proxy-prod.inyourarea.co.uk/iya-image-cache-e887844861e6e3eb53feac81477eae29.jpg',\n",
       "  'ogtitle': 'Cross to commemorate man who had 30 grandsons in Great War gets go-ahead',\n",
       "  'pyplynid': 'b209d0b2d8ff1d9b508707d1c13dd539',\n",
       "  'place_concepts': [{'annotation_uri_hash': 'eea16a4aca6aab9ae415e5fb37a9c06b',\n",
       "    'summary': 'The oak memorial cross will be placed in Witheridge Churchyard almost a century after John died in the village, aged 90. John was born in Cruwys Morchard in 1829. He went to school, but never learned',\n",
       "    'reason': ['PlaceConceptRule: Annotation is a location (1)',\n",
       "     'ExclusionRule: Not excluded by annotation (2)',\n",
       "     'ExclusionPublicationRule: Publication not forbidden (4)',\n",
       "     'InclusionPublicationRule: No publication inclusions for eea16a4aca6aab9ae415e5fb37a9c06b (8)',\n",
       "     'GeoCopRule: Accepted (128)',\n",
       "     'ConfidenceRule: Confidence: 0.7364 is greater than default 0.7 (16)',\n",
       "     'CapitalizedRule: Witheridge is capitalized (32)',\n",
       "     'ContextRule: in Witheridge Churchyard before/after not violated (64)',\n",
       "     'SnippetGenerator:  around occurence'],\n",
       "    'intitle': False,\n",
       "    'decision': 255,\n",
       "    'borders': [366, 376],\n",
       "    'ogsnippet': False,\n",
       "    'confidence': 0.7364,\n",
       "    'count': 4,\n",
       "    'accepted': True,\n",
       "    'inbody': True,\n",
       "    'spot': 'Witheridge',\n",
       "    'annotation_uri': 'http://en.wikipedia.org/wiki/Witheridge'},\n",
       "   {'annotation_uri_hash': '17dde7bab32b77542278f01f8f5089eb',\n",
       "    'summary': 'John was born in Cruwys Morchard in 1829. He went to school, but never learned to read or write. By the age of 10, he was working full time as a farm boy, at Stickeridge Farm, just outside his home',\n",
       "    'reason': ['PlaceConceptRule: Annotation is a location (1)',\n",
       "     'ExclusionRule: Not excluded by annotation (2)',\n",
       "     'ExclusionPublicationRule: Publication not forbidden (4)',\n",
       "     'InclusionPublicationRule: No publication inclusions for 17dde7bab32b77542278f01f8f5089eb (8)',\n",
       "     'GeoCopRule: Accepted (128)',\n",
       "     'ConfidenceRule: Confidence: 0.8739 is greater than default 0.7 (16)',\n",
       "     'CapitalizedRule: Cruwys Morchard is capitalized (32)',\n",
       "     'ContextRule: in Cruwys Morchard in before/after not violated (64)',\n",
       "     'SnippetGenerator:  around occurence'],\n",
       "    'intitle': False,\n",
       "    'decision': 255,\n",
       "    'borders': [463, 478],\n",
       "    'ogsnippet': False,\n",
       "    'confidence': 0.8739,\n",
       "    'count': 1,\n",
       "    'accepted': True,\n",
       "    'inbody': True,\n",
       "    'spot': 'Cruwys Morchard',\n",
       "    'annotation_uri': 'http://en.wikipedia.org/wiki/Cruwys_Morchard'}],\n",
       "  'url': 'https://www.devonlive.com/news/devon-news/cross-commemorate-man-who-30-1718970',\n",
       "  'pyplyn_start': 1530134794.1260886,\n",
       "  'tags': ['News', 'Tiverton'],\n",
       "  'full_annotation_uri_list': ['http://en.wikipedia.org/wiki/World_War_I',\n",
       "   'http://en.wikipedia.org/wiki/Email',\n",
       "   'http://en.wikipedia.org/wiki/John_Roberts',\n",
       "   'http://en.wikipedia.org/wiki/Witheridge',\n",
       "   'http://en.wikipedia.org/wiki/Cruwys_Morchard',\n",
       "   'http://en.wikipedia.org/wiki/Ageing',\n",
       "   'http://en.wikipedia.org/wiki/Thelbridge',\n",
       "   'http://en.wikipedia.org/wiki/Family',\n",
       "   'http://en.wikipedia.org/wiki/Western_Front_%28World_War_I%29',\n",
       "   'http://en.wikipedia.org/wiki/French_Third_Republic',\n",
       "   'http://en.wikipedia.org/wiki/Flanders',\n",
       "   'http://en.wikipedia.org/wiki/Cardiovascular_disease',\n",
       "   'http://en.wikipedia.org/wiki/Mesopotamia',\n",
       "   'http://en.wikipedia.org/wiki/War',\n",
       "   'http://en.wikipedia.org/wiki/History_Maker',\n",
       "   'http://en.wikipedia.org/wiki/Burial',\n",
       "   'http://en.wikipedia.org/wiki/Oak',\n",
       "   'http://en.wikipedia.org/wiki/Cross',\n",
       "   'http://en.wikipedia.org/wiki/Margaret_Chapman',\n",
       "   'http://en.wikipedia.org/wiki/Norfolk'],\n",
       "  'place_concept_uri': ['http://en.wikipedia.org/wiki/Witheridge',\n",
       "   'http://en.wikipedia.org/wiki/Cruwys_Morchard'],\n",
       "  'dandelionhash': 'b32393615f6362389b0b3826f41f2467',\n",
       "  'scrapy_blank': False,\n",
       "  'cached_image_key': 'iya-image-cache-e887844861e6e3eb53feac81477eae29.jpg',\n",
       "  'publisher': 'devonlive',\n",
       "  'annotation_uri': ['http://en.wikipedia.org/wiki/Witheridge',\n",
       "   'http://en.wikipedia.org/wiki/Cruwys_Morchard'],\n",
       "  'updated': '2018-06-27 20:29:52+0100',\n",
       "  'bands': ['WeightedLSH-200-100-1507124682773',\n",
       "   '1221',\n",
       "   '476',\n",
       "   '1315',\n",
       "   '1706',\n",
       "   '535',\n",
       "   '405',\n",
       "   '471',\n",
       "   '392',\n",
       "   '574',\n",
       "   '632',\n",
       "   '2279',\n",
       "   '207',\n",
       "   '1302',\n",
       "   '608',\n",
       "   '1709',\n",
       "   '534',\n",
       "   '838',\n",
       "   '1319',\n",
       "   '494',\n",
       "   '3951',\n",
       "   '1948',\n",
       "   '1056',\n",
       "   '964',\n",
       "   '1948',\n",
       "   '320',\n",
       "   '517',\n",
       "   '1252',\n",
       "   '2156',\n",
       "   '1398',\n",
       "   '739',\n",
       "   '1335',\n",
       "   '2443',\n",
       "   '1953',\n",
       "   '1115',\n",
       "   '843',\n",
       "   '1787',\n",
       "   '943',\n",
       "   '664',\n",
       "   '779',\n",
       "   '1473',\n",
       "   '863',\n",
       "   '667',\n",
       "   '468',\n",
       "   '380',\n",
       "   '283',\n",
       "   '835',\n",
       "   '1120',\n",
       "   '2364',\n",
       "   '1191',\n",
       "   '414',\n",
       "   '842',\n",
       "   '923',\n",
       "   '754',\n",
       "   '1043',\n",
       "   '915',\n",
       "   '1623',\n",
       "   '2598',\n",
       "   '616',\n",
       "   '1361',\n",
       "   '871',\n",
       "   '1125',\n",
       "   '2473',\n",
       "   '950',\n",
       "   '160',\n",
       "   '2083',\n",
       "   '1307',\n",
       "   '128',\n",
       "   '371',\n",
       "   '213',\n",
       "   '586',\n",
       "   '323',\n",
       "   '1324',\n",
       "   '989',\n",
       "   '762',\n",
       "   '1280',\n",
       "   '1162',\n",
       "   '101',\n",
       "   '897',\n",
       "   '1008',\n",
       "   '2034',\n",
       "   '1142',\n",
       "   '563',\n",
       "   '1069',\n",
       "   '4363',\n",
       "   '2498',\n",
       "   '559',\n",
       "   '441',\n",
       "   '745',\n",
       "   '836',\n",
       "   '290',\n",
       "   '656',\n",
       "   '627',\n",
       "   '1375',\n",
       "   '841',\n",
       "   '262',\n",
       "   '831',\n",
       "   '474',\n",
       "   '315',\n",
       "   '1252',\n",
       "   '864']},\n",
       " 'origin_id': '0906e2f3442d3ca74ff5674195440bd7',\n",
       " 'annotation_uri': ['eea16a4aca6aab9ae415e5fb37a9c06b',\n",
       "  '17dde7bab32b77542278f01f8f5089eb'],\n",
       " 'id': 'c31d8d53-faa7-42d5-a035-7308dd2169d2',\n",
       " 'url': '0906e2f3442d3ca74ff5674195440bd7',\n",
       " 'type': 'articles'}"
      ]
     },
     "execution_count": 157,
     "metadata": {},
     "output_type": "execute_result"
    }
   ],
   "source": [
    "raw_doc = raw_documents[99]\n",
    "raw_doc"
   ]
  },
  {
   "cell_type": "code",
   "execution_count": 164,
   "metadata": {},
   "outputs": [],
   "source": [
    "\n",
    "annotations_url = \"https://itemstore-cache-prod.inyourarea.co.uk/items/annotations\"\n",
    "locations_url = \"https://itemstore-cache-prod.inyourarea.co.uk/items/locations\"\n",
    "location_response = requests.get(locations_url)#, {\"annotation_uri\": raw_doc[\"annotation_uri\"][0]})\n",
    "annotations_response = requests.get(annotations_url)#, {\"uri\": raw_doc[\"annotation_uri\"][0]})"
   ]
  },
  {
   "cell_type": "code",
   "execution_count": 166,
   "metadata": {},
   "outputs": [
    {
     "data": {
      "text/plain": [
       "100"
      ]
     },
     "execution_count": 166,
     "metadata": {},
     "output_type": "execute_result"
    }
   ],
   "source": [
    "len(annotations_response.json())"
   ]
  },
  {
   "cell_type": "code",
   "execution_count": 167,
   "metadata": {},
   "outputs": [
    {
     "data": {
      "text/plain": [
       "['eea16a4aca6aab9ae415e5fb37a9c06b', '17dde7bab32b77542278f01f8f5089eb']"
      ]
     },
     "execution_count": 167,
     "metadata": {},
     "output_type": "execute_result"
    }
   ],
   "source": [
    "raw_doc[\"annotation_uri\"]"
   ]
  },
  {
   "cell_type": "code",
   "execution_count": 70,
   "metadata": {},
   "outputs": [
    {
     "name": "stdout",
     "output_type": "stream",
     "text": [
      "0   |  www.nwemail.co.uk                    |  9764d074-d5e1-44ee-99be-4bf910d2ded3  |  Britain told it must follow EU...- The Mail\n",
      "1   |  www.rotherhamadvertiser.co.uk        |  f405538d-46a2-4edf-96cb-18e526303c19  |  Full Rotherham United 2018/19 ...xture list\n",
      "2   |  www.rotherhamadvertiser.co.uk        |  cb4bf1f6-c7dd-4ca0-848f-edf564bec04a  |  Full Rotherham United 2018/19 ...xture list\n",
      "3   |  www.rotherhamadvertiser.co.uk        |  ac8bd1b3-a021-48f2-9a7d-9fc48f5c0eda  |  Championship campaign starts a... Brentford\n",
      "4   |  www.rotherhamadvertiser.co.uk        |  1d8e6a9c-5b9f-4a2e-9765-9bee37c650a1  |  Championship campaign starts a... Brentford\n",
      "5   |  www.nwemail.co.uk                    |  c0a38821-1df3-493b-ac9f-0191e4dd4992  |  Transport Secretary Chris Gray...- The Mail\n"
     ]
    }
   ],
   "source": [
    "limit = 5\n",
    "for i, raw_doc in enumerate(raw_documents):\n",
    "    print(f\"{i}\".ljust(2), \" | \", raw_doc[\"publisher\"].ljust(35), \" | \", raw_doc[\"id\"], \" | \", summarize_text(raw_doc[\"item\"][\"title\"]))\n",
    "    if limit and limit <= i:\n",
    "        break"
   ]
  },
  {
   "cell_type": "code",
   "execution_count": 80,
   "metadata": {},
   "outputs": [
    {
     "data": {
      "text/plain": [
       "True"
      ]
     },
     "execution_count": 80,
     "metadata": {},
     "output_type": "execute_result"
    }
   ],
   "source": [
    "raw_documents[1][\"item\"][\"body\"] == raw_documents[2][\"item\"][\"body\"]"
   ]
  },
  {
   "cell_type": "code",
   "execution_count": 5,
   "metadata": {},
   "outputs": [],
   "source": [
    "\n",
    "title = nlp(html.unescape(u\"Meet the 12 new bombshells poised to join Love Island\"))\n",
    "doc = nlp(html.unescape(u\"A former flame of Love Island star Jack Fincham is among the 12 new bombshells poised to join the ITV2 dating show.\\n \\nEllie Jones, 22, dated the pen salesman after they met in August 2016 and even spoke to him two days before he went on the show.\\n \\nJack has been happily coupled up with Dani Dyer, the daughter of EastEnders star Danny Dyer, since the start of the series and Ellie said she would not revisit their romance.\\n \\nShe said: &quot;We have always spoken because we got on so well.\\n \\n&quot;I actually spoke to him as a friend about two days before he went into the villa and had no idea he was going on the show!\\n \\n&quot;We weren't in an official relationship but we spoke about it, would go on dates and kept trying to make it work but it wouldn't. I met his brother and mates. I don't know how he'll feel when he sees me walk in.\\n \\n&quot;I don't know if he'll be angry or shocked but we do get on so hopefully it won't be an issue.\\n \\n&quot;When I look at him, I do still think there is something there but I would never go back there.&quot;\\n \\n \\nShe is one of 12 new contestants set to stir up drama on the dating series and said she has her eye on Josh Denzel and doctor Alex George, saying of the medic: &quot;He's so different to my normal type, I think I'm in love with him already and I've not even met him yet!\\n \\n Two Love Island stars will be booted off show tonight - and they might not even be a couple \\n \\n&quot;He makes my heart melt, he'll be a good person to bring home to my parents.&quot;\\n \\nAlso joining the show will be 22-year-old dancer Savanna Darnell, from Sheffield, and 25-year-old hairdresser Grace Wardle from London, as well as make-up artist Kazimir Crossley, 23, also from London.\\n \\nThey will be accompanied by Charlie Williams, 24, a tanning shop assistant from Bath, who is also keen on Alex and new arrival Sam Bird.\\n \\n \\n \\nTwitter Reacts: Niall leaves Love Island \\n \\n \\nShe said: &quot;I really like Alex - I like him more the more that I watch the show. His values are so strong. I think we'd have a lot in common.\\n \\n&quot;The new guy Sam also seems really funny; I think I would get on with him.&quot;\\n \\n Love Island's Wes stuns fellow contestants by hooking up with Megan - straight after Laura split \\n \\nDarylle Sargeant, 24, a heavily tattooed eyebrow technician from Watford who used to date The Only Way Is Essex star Dean Ralph, could be set to stir up drama between Adam Collard and Zara McDermott when she joins the show.\\n \\nShe said: &quot;I like tall, dark and handsome! I am really tattooed so I love heavily tattooed guys but I also like people who have good chat and banter, someone who isn't too serious.\\n \\n&quot;In the villa, I've got my eye on Adam, he is beautiful. I like Jack too and Josh.&quot;\\n \\n \\n \\nLove Island 2018 \\n \\n \\nHere's everything you need to know about the new islanders.\\n \\nThe Girls \\nSavanna Darnell \\n \\nSavanna is a 22-year-old dancer/singer from Sheffield.\\n \\nSavanna is looking for a guy she can be herself around and wants to have an &quot;amazing experience&quot; in the villa.\\n \\nNo stranger to love Savanna has had three long term relationships, with her exes most likely to describe her as &quot;expensive.&quot;\\n \\nShe said: &quot;They say they end up spending a lot of money. But that’s them spending their money, I don’t ask them to! I’m considered quite unpredictable too. You don’t know from one day to the next what I’ll be like.&quot;\\n \\nGrace Wardle \\n \\nGrace is a 25-year-old hairdresser from London.\\n \\nThe stylist is looking for long-term love in the villa, after only having one serious relationship.\\n \\nShe believes her eyes and her boobs are her best attributes, saying &quot;Physically my eyes, and my breasts, as I paid for them so if they weren’t great I would be quite annoyed!&quot;\\n \\nGrace isn't afraid to create drama to get her man, but said she would talk things through with another girl, before going after their partner.\\n \\nCharlie Williams \\n \\nCharlie is a 24-year-old tanning assistant from Bath.\\n \\nCharlie describes what she wants from the villa as &quot;in a nutshell I want someone nice, hard working and someone who wants to be in a genuine relationship.&quot;\\n \\nAnd she's already got her eye on two of the boys saying: &quot;I really like Alex –I like him more the more that I watch the show. His values are so strong. I think we’d have a lot in common. The new guy Sam also seems really funny; I think I would get on with him.&quot;\\n \\nKazimir Crossley \\n \\nKazimir is a 23-year-old make-up artist from London.\\n \\nKazimir has done last year's winner Kem's make-up before and has been asking him for tips ahead of her entrance to the show.\\n \\nGeorgia best watch out as Kazimir has already set her eyes on Josh, saying: &quot;I want to find an honest guy because I’ve come across so many liars. I like to be looked after. In the villa, I fancy Josh.&quot;\\n \\nAdam's antics also failed to impress Kazimir, as she said: &quot;What Adam did to Rosie puts me off, he gets what he wants and he needs to learn you can’t always get what you want.&quot;\\n \\nEllie Jones \\n \\nThe 22-year-old admin assistant will be familiar to one islander - as she used to go out with Jack.\\n \\nSpeaking about their relationship she said: &quot;I was seeing Jack Fincham on and off. We met in August 2016 and dated on and off for a while.\\n \\n&quot;We have always spoken because we got on so well. I actually spoke to him as a friend about two days before he went into the villa and had no idea he was going on the show!\\n \\n&quot;We weren’t in an official relationship but we spoke about it, would go on dates and kept trying to make it work but it wouldn’t.\\n \\n&quot;I met his brother and mates. I don’t know how he’ll feel when he sees me walk in.\\n \\n&quot;I don’t know if he’ll be angry or shocked but we do get on so hopefully it won’t be an issue. When I look at him, I do still think there is something there but I would never go back there.&quot;\\n \\nWhile she might not be keen to rekindle things with Jack Ellie has got her eyes on another two islanders.\\n \\nShe said: &quot;I fancy Josh. And I really fancy Alex because he’s so different to my normal type, I think I’m in love with him already and I’ve not even met him yet! He makes my heart melt, he’ll be a good person to bring home to my parents.&quot;\\n \\nDarylle Sargeant \\n \\nDarylle is a 24-year-old eyebrow technician from Watford.\\n \\nDarylle used to date Towie star Dean Ralph and says the pair have remained friends.\\n \\nThe tattoo loving babe is keen to find a kindred spirit in the villa and already knows who she wants, saying: &quot;I like tall, dark and handsome! I am really tattooed so I love heavily tattooed guys but I also like people who have good chat and banter, someone who isn’t too serious.\\n \\n&quot;In the villa, I've got my eye on Adam, he is beautiful. I like Jack too and Josh.&quot;\\n \\nThe Boys \\nJordan Adefeyisan \\n \\nJordan is a 23-year-old model from Stockport.\\n \\nHe describes his ideal girl as &quot;A nice girl, with good banter and who I can click with properly. In the villa, I fancy Ellie, Megan and Georgia is fit as well. I know they are coupled up but it's all a game isn't it...&quot;\\n \\nJordan has never had a serious relationship, but hates girls with attitude who think they are better than other people.\\n \\nCharlie Brake \\n \\nCharlie is a 23-year-old socialite from Chelsea.\\n \\nCharlie has already got his eye on Ellie and Megan in the villa and says he thinks people may be jealous of his family fortune.\\n \\nHe said: &quot;I think a lot of people when they find out about my background, there might be a lot of jealousy there.\\n \\n&quot;My grandfather founded a food distribution company called Brakes which my family own and we sold it so everyone is well looked after.\\n \\n&quot;I visit my Dad in Monaco a lot and spend a lot of time in the French Alps.&quot;\\n \\nCharlie has a Scouse ex, who will be surprised to see him on the show, as he explained: &quot;I met another girl who was from Liverpool and ended up being with her for about a year and half and moved to America with her for a bit.\\n \\n&quot;Then it came to end. I reckon they’ll be surprised to see me on Love Island.&quot;\\n \\nFrankie Foster \\n \\nFrankie is a 22-year-old business management student and fitness coach from Cheltenham.\\n \\nFrankie used to play semi-professional rugby and says he's not the &quot;stereotypical lad in skinny jeans and tight T shirts.&quot;\\n \\nEllie and Zara are the girls who have caught his attention as he described what he wants from the villa as: &quot;I’d like to end up finding someone I really like. I change my mind in terms of who I like every time I watch it –but at the moment it is probably Ellie and Zara.\\n \\n&quot;They both seem cool and chatty. They’re most similar to my usual type.&quot;\\n \\nJack Fowler \\n \\nJack in a 22-year-old semi-professional footballer from London.\\n \\nJack previously starred in a Tom Zanetti music video and is looking forward to his villa experience.\\n \\nKeeping his cards close to his chest about his villa crush Jack said he was looking for a &quot;brunette girl who is curvy with a nice bum and a nice smile and nice eyes. But we also need a connection.&quot;\\n \\nPreviously Jack has lied about his age to get a girl, he said: &quot;I wanted to be with a girl who was a bit older than me so when I was 19, 20, I changed my age on Tinder to 25.\\n \\n&quot;I met a girl on there who was 24 and we had a date but when I got my wallet out to pay, she checked my ID and her face dropped when she saw I was younger than I’d said.&quot;\\n \\nAlex Miller \\n \\nAlex is a 28-year-old structural glazier from Essex.\\n \\nAlex describes himself as &quot;pretty perfect&quot; and says petite brunettes are his type.\\n \\nHe said: &quot;In the villa I like Dani. I like Ellie too, she’s cute. Dani is very coupled up with Jack so we’ll have to see how coupled up they really are when I go in…&quot;\\n \\nAlex's advice to girls who want to woo him is: &quot;Be bubbly, I don’t like boring birds. As long as they are funny and have a good personality. When it comes to my ideal date, I’ve got a great first date that I’ve done a few times – drinks in the city, onto a comedy show and then more drinks. I’ve got a good success ratio with that one!&quot;\\n \\nDean Overson \\n \\nDean is a 25-year-old car salesman from Burnley.\\n \\nNewly single Dean is excited to have some fun in the villa and has his eye on several girls.\\n \\nHe said: &quot;I like nice eyes and I want a girl to have a bit about them, someone you can speak to and who can hold a conversation.\\n \\n&quot;I like Megan and I’d go for Ellie. Zara is beautiful as well. I think all of the girls are lovely in their own way.&quot;\\n \\nDean's turn-offs are loud girls, as he said: &quot;Someone who is very loud and a bit too much. And also if a girl thinks she is better than what she is. Like when you’re out and trying to speak to a girl and she is arrogant.&quot;\\n \\nLove Island continues on ITV2 at 9pm. The new arrivals will appear during Thursday's episode.\"))\n",
    "\n"
   ]
  },
  {
   "cell_type": "code",
   "execution_count": 81,
   "metadata": {},
   "outputs": [],
   "source": [
    "def extract_vector(raw_document):\n",
    "    publisher = raw_document[\"publisher\"]\n",
    "    doc = nlp(html.unescape(raw_document[\"item\"][\"body\"]))\n",
    "    entities = []\n",
    "    vector_list = []\n",
    "    for ent in doc.ents:\n",
    "        if ent.label_ in [\"GPE\", \"ORG\", \"LOC\", \"FAC\"]: \n",
    "            entities.append((publisher, ent.text, ent.label_))\n",
    "            vector_list.append(ent.vector)\n",
    "    vectors = np.stack(vector_list)\n",
    "    \n",
    "    return entities, vectors"
   ]
  },
  {
   "cell_type": "code",
   "execution_count": 123,
   "metadata": {},
   "outputs": [
    {
     "name": "stdout",
     "output_type": "stream",
     "text": [
      "www.nwemail.co.uk\n",
      "www.rotherhamadvertiser.co.uk\n",
      "www.nwemail.co.uk\n",
      "www.timesandstar.co.uk\n",
      "www.whitehavennews.co.uk\n",
      "Eastern Daily Press\n",
      "Stowmarket Mercury\n",
      "www.belfastlive.co.uk\n",
      "www.liverpoolecho.co.uk\n",
      "www.accringtonobserver.co.uk\n",
      "Eastern Daily Press\n",
      "www.dublinlive.ie\n",
      "www.manchestereveningnews.co.uk\n",
      "www.accringtonobserver.co.uk\n",
      "www.liverpoolecho.co.uk\n",
      "www.belfastlive.co.uk\n",
      "www.birminghammail.co.uk\n",
      "www.manchestereveningnews.co.uk\n",
      "www.examiner.co.uk\n",
      "www.manchestereveningnews.co.uk\n",
      "www.walesonline.co.uk\n",
      "www.birminghammail.co.uk\n",
      "www.liverpoolecho.co.uk\n",
      "www.cambridge-news.co.uk\n",
      "www.birminghammail.co.uk\n",
      "www.liverpoolecho.co.uk\n",
      "www.examiner.co.uk\n",
      "North Norfolk News\n",
      "www.getwestlondon.co.uk\n",
      "Impartial Reporter\n",
      "www.cambridge-news.co.uk\n",
      "Nailed - Belper Independent News\n",
      "Stroud News and Journal\n",
      "www.liverpoolecho.co.uk\n",
      "This Is Local London\n",
      "Impartial Reporter\n",
      "www.walesonline.co.uk\n",
      "www.birminghammail.co.uk\n",
      "dailyrecord\n",
      "Impartial Reporter\n",
      "www.yorkshirepost.co.uk\n",
      "plymouthherald\n",
      "www.birminghammail.co.uk\n",
      "Eastern Daily Press\n",
      "www.getwestlondon.co.uk\n",
      "www.liverpoolecho.co.uk\n",
      "belfastlive\n",
      "www.birminghammail.co.uk\n",
      "Impartial Reporter\n",
      "The Courier\n",
      "dailyrecord\n",
      "www.chroniclelive.co.uk\n",
      "www.belfastlive.co.uk\n",
      "www.examiner.co.uk\n",
      "www.getwestlondon.co.uk\n",
      "www.thestar.co.uk\n",
      "www.liverpoolecho.co.uk\n",
      "www.birminghammail.co.uk\n",
      "Eastern Daily Press\n",
      "devonlive\n",
      "www.manchestereveningnews.co.uk\n",
      "www.getwestlondon.co.uk\n",
      "www.halifaxcourier.co.uk\n",
      "dailyrecord\n",
      "www.dublinlive.ie\n",
      "www.liverpoolecho.co.uk\n",
      "devonlive\n",
      "www.manchestereveningnews.co.uk\n",
      "www.examiner.co.uk\n",
      "www.manchestereveningnews.co.uk\n",
      "www.cambridge-news.co.uk\n",
      "dailyrecord\n",
      "www.thestar.co.uk\n",
      "www.dailypost.co.uk\n",
      "Border Telegraph\n",
      "www.halifaxcourier.co.uk\n",
      "essexlive\n",
      "HornchurchLife\n",
      "www.coventrytelegraph.net\n",
      "www.belfastlive.co.uk\n",
      "mirror\n",
      "www.chroniclelive.co.uk\n",
      "Kent Online\n",
      "www.chroniclelive.co.uk\n",
      "www.thestar.co.uk\n",
      "www.glasgowlive.co.uk\n",
      "www.halifaxcourier.co.uk\n",
      "dailyrecord\n",
      "www.yorkshireeveningpost.co.uk\n",
      "www.yorkshirepost.co.uk\n",
      "www.walesonline.co.uk\n",
      "devonlive\n"
     ]
    }
   ],
   "source": [
    "entities = []\n",
    "vector_list = []\n",
    "limit = None\n",
    "current_pub = None\n",
    "for i, raw_doc in enumerate(raw_documents):\n",
    "    if raw_doc[\"publisher\"] != current_pub:\n",
    "        current_pub = raw_doc[\"publisher\"]\n",
    "        print(current_pub)\n",
    "    doc_entities, doc_vectors = extract_vector(raw_doc)\n",
    "    entities.extend(doc_entities)\n",
    "    vector_list.append(doc_vectors)\n",
    "    \n",
    "    if limit and limit <= i:\n",
    "        break\n",
    "        \n",
    "vectors = np.concatenate(vector_list, axis=0)\n"
   ]
  },
  {
   "cell_type": "code",
   "execution_count": 104,
   "metadata": {},
   "outputs": [],
   "source": [
    "\n",
    "# entities = []\n",
    "# vector_list = []\n",
    "# for ent in doc.ents:\n",
    "#     if ent.label_ in [\"GPE\", \"ORG\", \"LOC\", \"FAC\"]: \n",
    "#         print(ent.text, ent.label_, [(ment.text, ment.similarity(ent)) for ment in main_entities])\n",
    "#         entities.append((ent.text, ent.label_))\n",
    "#         vector_list.append(ent.vector)"
   ]
  },
  {
   "cell_type": "code",
   "execution_count": 124,
   "metadata": {},
   "outputs": [
    {
     "data": {
      "text/plain": [
       "(1914, 300)"
      ]
     },
     "execution_count": 124,
     "metadata": {},
     "output_type": "execute_result"
    }
   ],
   "source": [
    "vectors.shape"
   ]
  },
  {
   "cell_type": "code",
   "execution_count": 130,
   "metadata": {},
   "outputs": [],
   "source": [
    "decomp = pca.PCA(2, whiten=True)"
   ]
  },
  {
   "cell_type": "code",
   "execution_count": 131,
   "metadata": {},
   "outputs": [],
   "source": [
    "reduced = decomp.fit_transform(vectors)"
   ]
  },
  {
   "cell_type": "code",
   "execution_count": 132,
   "metadata": {},
   "outputs": [],
   "source": [
    "publishers = set(e[0] for e in entities)\n",
    "palette = {pub: pal for pub, pal in zip(publishers, sns.palettes.color_palette(n_colors=len(publishers)))}"
   ]
  },
  {
   "cell_type": "code",
   "execution_count": 133,
   "metadata": {},
   "outputs": [],
   "source": [
    "color_map = [palette[e[0]] for e in entities]"
   ]
  },
  {
   "cell_type": "code",
   "execution_count": 134,
   "metadata": {},
   "outputs": [
    {
     "data": {
      "image/png": "[encoded data removed]",
      "text/plain": [
       "<Figure size 432x288 with 1 Axes>"
      ]
     },
     "metadata": {},
     "output_type": "display_data"
    }
   ],
   "source": [
    "\n",
    "plt.scatter(reduced[:,0], reduced[:,1], color=color_map);"
   ]
  },
  {
   "cell_type": "code",
   "execution_count": null,
   "metadata": {},
   "outputs": [],
   "source": []
  }
 ],
 "metadata": {
  "kernelspec": {
   "display_name": "Python 3",
   "language": "python",
   "name": "python3"
  },
  "language_info": {
   "codemirror_mode": {
    "name": "ipython",
    "version": 3
   },
   "file_extension": ".py",
   "mimetype": "text/x-python",
   "name": "python",
   "nbconvert_exporter": "python",
   "pygments_lexer": "ipython3",
   "version": "3.6.5"
  }
 },
 "nbformat": 4,
 "nbformat_minor": 2
}
